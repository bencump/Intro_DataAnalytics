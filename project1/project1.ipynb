{
 "cells": [
  {
   "cell_type": "code",
   "execution_count": 2,
   "metadata": {
    "deletable": false,
    "editable": false
   },
   "outputs": [
    {
     "name": "stderr",
     "output_type": "stream",
     "text": [
      "/home/codespace/.local/lib/python3.12/site-packages/nbformat/__init__.py:96: MissingIDFieldWarning: Cell is missing an id field, this will become a hard error in future nbformat versions. You may want to use `normalize()` on your notebooks before validations (available since nbformat 5.1.4). Previous versions of nbformat are fixing this issue transparently, and will stop doing so in the future.\n",
      "  validate(nb)\n"
     ]
    }
   ],
   "source": [
    "# Initialize Otter\n",
    "import otter\n",
    "grader = otter.Notebook(\"project1.ipynb\")"
   ]
  },
  {
   "cell_type": "markdown",
   "metadata": {},
   "source": [
    "# Project 1: World Population and Poverty"
   ]
  },
  {
   "cell_type": "markdown",
   "metadata": {},
   "source": [
    "In this project, you'll explore data from [Gapminder.org](http://gapminder.org), a website dedicated to providing a fact-based view of the world and how it has changed. That site includes several data visualizations and presentations, but also publishes the raw data that we will use in this project to recreate and extend some of their most famous visualizations.\n",
    "\n",
    "The Gapminder website collects data from many sources and compiles them into tables that describe many countries around the world. All of the data they aggregate are published in the [Systema Globalis](https://github.com/open-numbers/ddf--gapminder--systema_globalis/blob/master/README.md). Their goal is \"to compile all public statistics; Social, Economic and Environmental; into a comparable total dataset.\" All data sets in this project are copied directly from the Systema Globalis without any changes.\n",
    "\n",
    "This project is dedicated to [Hans Rosling](https://en.wikipedia.org/wiki/Hans_Rosling) (1948-2017), who championed the use of data to understand and prioritize global development challenges."
   ]
  },
  {
   "cell_type": "code",
   "execution_count": 3,
   "metadata": {
    "deletable": false
   },
   "outputs": [],
   "source": [
    "# Run this cell to set up the notebook, but please don't change it. \n",
    "\n",
    "# These lines import the NumPy and Datascience modules.\n",
    "from datascience import *\n",
    "import numpy as np\n",
    "\n",
    "# These lines do some fancy plotting magic.\n",
    "%matplotlib inline\n",
    "import matplotlib.pyplot as plots\n",
    "plots.style.use('fivethirtyeight')\n",
    "\n",
    "from ipywidgets import interact, interactive, fixed, interact_manual\n",
    "import ipywidgets as widgets"
   ]
  },
  {
   "cell_type": "markdown",
   "metadata": {},
   "source": [
    "## 0. Hazards with `.show`\n",
    "\n",
    "As a heads up, please do not run the function `tbl.show()` in this assignment without an argument. For instance if you want to view a table, please type `tbl.show(10)` instead of `tbl.show()`. This may break your notebook and we cannot gaurantee what we will have the capacity to aid you in this. Please answer the question below, and set the value to `True` to confirm you have read this and agree.\n"
   ]
  },
  {
   "cell_type": "code",
   "execution_count": 3,
   "metadata": {
    "tags": []
   },
   "outputs": [],
   "source": [
    "i_wont_use_show_without_an_argument = True"
   ]
  },
  {
   "cell_type": "code",
   "execution_count": 4,
   "metadata": {
    "deletable": false,
    "editable": false
   },
   "outputs": [
    {
     "data": {
      "text/html": [
       "<p><strong><pre style='display: inline;'>q0</pre></strong> passed! 🙌</p>"
      ],
      "text/plain": [
       "q0 results: All test cases passed!"
      ]
     },
     "execution_count": 4,
     "metadata": {},
     "output_type": "execute_result"
    }
   ],
   "source": [
    "grader.check(\"q0\")"
   ]
  },
  {
   "cell_type": "markdown",
   "metadata": {
    "deletable": false,
    "editable": false
   },
   "source": [
    "## 1. Global Population Growth\n"
   ]
  },
  {
   "cell_type": "markdown",
   "metadata": {
    "deletable": false,
    "editable": false
   },
   "source": [
    "The global population of humans reached 1 billion around 1800, 3 billion around 1960, and 7 billion around 2011. The potential impact of population growth has concerned scientists, economists, and politicians alike.\n",
    "\n",
    "The United Nations Population Division estimates that the world population will likely continue to grow throughout the 21st century, but at a slower rate, perhaps reaching and stabilizing at 11 billion by 2100. However, the UN does not rule out scenarios of slower or more extreme growth. These projections help us understand long-term population processes, even if they leave out possible global catastrophic events like war or climate crises.\n",
    "\n",
    "<a href=\"http://www.pewresearch.org/fact-tank/2015/06/08/scientists-more-worried-than-public-about-worlds-growing-population/ft_15-06-04_popcount/\"> \n",
    " <img src=\"pew_population_projection.png\"/> \n",
    "</a>\n",
    "\n",
    "In this part of the project, we will examine some of the factors that influence population growth and how they have been changing over the years and around the world. There are two main sub-parts of this analysis.\n",
    "\n",
    "- First, we will examine the data for one country, Poland. We will see how factors such as life expectancy, fertility rate, and child mortality have changed over time in Poland, and how they are related to the rate of population growth.\n",
    "- Next, we will examine whether the changes we have observed for Poland are particular to that country or whether they reflect general patterns observable in other countries too. We will study aspects of world population growth and see how they have been changing.\n",
    "\n",
    "The first table we will consider contains the total population of each country over time. Run the cell below.\n"
   ]
  },
  {
   "cell_type": "code",
   "execution_count": 23,
   "metadata": {
    "deletable": false,
    "scrolled": true
   },
   "outputs": [
    {
     "data": {
      "text/html": [
       "<table border=\"1\" class=\"dataframe\">\n",
       "    <thead>\n",
       "        <tr>\n",
       "            <th>geo</th> <th>time</th> <th>population_total</th>\n",
       "        </tr>\n",
       "    </thead>\n",
       "    <tbody>\n",
       "        <tr>\n",
       "            <td>afg </td> <td>1800</td> <td>3280000         </td>\n",
       "        </tr>\n",
       "        <tr>\n",
       "            <td>afg </td> <td>1801</td> <td>3280000         </td>\n",
       "        </tr>\n",
       "        <tr>\n",
       "            <td>afg </td> <td>1802</td> <td>3280000         </td>\n",
       "        </tr>\n",
       "    </tbody>\n",
       "</table>\n",
       "<p>... (43534 rows omitted)</p>"
      ],
      "text/plain": [
       "<IPython.core.display.HTML object>"
      ]
     },
     "metadata": {},
     "output_type": "display_data"
    }
   ],
   "source": [
    "population = Table.read_table('population.csv').where(\"time\", are.below(2021))\n",
    "population.show(3)"
   ]
  },
  {
   "cell_type": "markdown",
   "metadata": {},
   "source": [
    "**Note:** The population csv file can also be found [here](https://github.com/open-numbers/ddf--gapminder--gapminder_world/blob/master/ddf--datapoints--population_total--by--geo--time.csv).\n"
   ]
  },
  {
   "cell_type": "markdown",
   "metadata": {
    "deletable": false
   },
   "source": [
    "### Poland\n",
    "\n",
    "The Central European nation of Poland has undergone many changes over the centuries. In modern times it was (re)created as a democratic republic in 1919 after World War I. It was invaded and divided in World War II between Germany and the Soviet Union. War and the Holocaust had a devastating impact on its people. Poland was constituted in its current borders at the end of World War II (1945) under a communist government. In 1989, with the fall of the Soviet Union, Poland re-established itself as a democratic republic.\n",
    "\n",
    "In this section of the project, we will examine aspects of the population of Poland since 1900. Poland's borders have changed, so we will look at the population within its current (2012) borders.\n",
    "\n",
    "In the `population` table, the `geo` column contains three-letter codes established by the [International Organization for Standardization](https://en.wikipedia.org/wiki/International_Organization_for_Standardization) (ISO) in the [Alpha-3](https://en.wikipedia.org/wiki/ISO_3166-1_alpha-3#Current_codes) standard. **Use the Alpha-3 link to find the 3-letter code for Poland.**\n"
   ]
  },
  {
   "cell_type": "markdown",
   "metadata": {},
   "source": [
    "**Question 1.** Create a table called `p_pop` that has two columns labeled `time` and `population_total`. The first column should contain the years from 1900 through 2020 (including both 1900 and 2020) and the second should contain the population of Poland in each of those years.\n"
   ]
  },
  {
   "cell_type": "code",
   "execution_count": 24,
   "metadata": {
    "deletable": false,
    "tags": []
   },
   "outputs": [
    {
     "data": {
      "text/html": [
       "<table border=\"1\" class=\"dataframe\">\n",
       "    <thead>\n",
       "        <tr>\n",
       "            <th>time</th> <th>population_total</th>\n",
       "        </tr>\n",
       "    </thead>\n",
       "    <tbody>\n",
       "        <tr>\n",
       "            <td>1900</td> <td>24340168        </td>\n",
       "        </tr>\n",
       "        <tr>\n",
       "            <td>1901</td> <td>24517983        </td>\n",
       "        </tr>\n",
       "        <tr>\n",
       "            <td>1902</td> <td>24694172        </td>\n",
       "        </tr>\n",
       "        <tr>\n",
       "            <td>1903</td> <td>24868705        </td>\n",
       "        </tr>\n",
       "        <tr>\n",
       "            <td>1904</td> <td>25044468        </td>\n",
       "        </tr>\n",
       "        <tr>\n",
       "            <td>1905</td> <td>25221471        </td>\n",
       "        </tr>\n",
       "        <tr>\n",
       "            <td>1906</td> <td>25399722        </td>\n",
       "        </tr>\n",
       "        <tr>\n",
       "            <td>1907</td> <td>25579229        </td>\n",
       "        </tr>\n",
       "        <tr>\n",
       "            <td>1908</td> <td>25760003        </td>\n",
       "        </tr>\n",
       "        <tr>\n",
       "            <td>1909</td> <td>25848341        </td>\n",
       "        </tr>\n",
       "    </tbody>\n",
       "</table>\n",
       "<p>... (111 rows omitted)</p>"
      ],
      "text/plain": [
       "time | population_total\n",
       "1900 | 24340168\n",
       "1901 | 24517983\n",
       "1902 | 24694172\n",
       "1903 | 24868705\n",
       "1904 | 25044468\n",
       "1905 | 25221471\n",
       "1906 | 25399722\n",
       "1907 | 25579229\n",
       "1908 | 25760003\n",
       "1909 | 25848341\n",
       "... (111 rows omitted)"
      ]
     },
     "execution_count": 24,
     "metadata": {},
     "output_type": "execute_result"
    }
   ],
   "source": [
    "poland = Table.read_table('population.csv').where('geo', are.equal_to(\"pol\"))\n",
    "p_pop = poland.where(\"time\", are.between_or_equal_to(1900, 2020)).drop(\"geo\")\n",
    "p_pop"
   ]
  },
  {
   "cell_type": "code",
   "execution_count": 7,
   "metadata": {
    "deletable": false,
    "editable": false
   },
   "outputs": [
    {
     "data": {
      "text/html": [
       "<p><strong><pre style='display: inline;'>q1_1</pre></strong> passed! 💯</p>"
      ],
      "text/plain": [
       "q1_1 results: All test cases passed!"
      ]
     },
     "execution_count": 7,
     "metadata": {},
     "output_type": "execute_result"
    }
   ],
   "source": [
    "grader.check(\"q1_1\")"
   ]
  },
  {
   "cell_type": "markdown",
   "metadata": {
    "deletable": false
   },
   "source": [
    "Run the following cell to create a table called `p_five` that has the population of Poland every five years.\n"
   ]
  },
  {
   "cell_type": "code",
   "execution_count": 25,
   "metadata": {
    "deletable": false
   },
   "outputs": [
    {
     "data": {
      "text/html": [
       "<table border=\"1\" class=\"dataframe\">\n",
       "    <thead>\n",
       "        <tr>\n",
       "            <th>time</th> <th>population_total</th>\n",
       "        </tr>\n",
       "    </thead>\n",
       "    <tbody>\n",
       "        <tr>\n",
       "            <td>1900</td> <td>24,340,168      </td>\n",
       "        </tr>\n",
       "        <tr>\n",
       "            <td>1905</td> <td>25,221,471      </td>\n",
       "        </tr>\n",
       "        <tr>\n",
       "            <td>1910</td> <td>25,844,639      </td>\n",
       "        </tr>\n",
       "    </tbody>\n",
       "</table>\n",
       "<p>... (22 rows omitted)</p>"
      ],
      "text/plain": [
       "<IPython.core.display.HTML object>"
      ]
     },
     "metadata": {},
     "output_type": "display_data"
    }
   ],
   "source": [
    "p_pop.set_format('population_total', NumberFormatter)\n",
    "\n",
    "fives = np.arange(1900, 2021, 5) # 1900, 1905, 1910, ...\n",
    "p_five = p_pop.sort('time').where('time', are.contained_in(fives))\n",
    "p_five.show(3)"
   ]
  },
  {
   "cell_type": "markdown",
   "metadata": {},
   "source": [
    "Run the following cell to visualize the population over time. Following the devastating effects of World War I and World War II, Poland's population increased steadily from 1950 to 2000 and then leveled off. In the following questions we'll investigate this period of population growth.\n"
   ]
  },
  {
   "cell_type": "code",
   "execution_count": 26,
   "metadata": {},
   "outputs": [
    {
     "data": {
      "image/png": "[encoded data removed]",
      "text/plain": [
       "<Figure size 600x600 with 1 Axes>"
      ]
     },
     "metadata": {},
     "output_type": "display_data"
    }
   ],
   "source": [
    "p_five.plot(0, 1)"
   ]
  },
  {
   "cell_type": "markdown",
   "metadata": {},
   "source": [
    "**Question 2.** Assign `initial` to an array that contains the population for every five year interval from **1900 to 2015** (inclusive). Then, assign `changed` to an array that contains the population for every five year interval from **1905 to 2020** (inclusive). The first array should include both 1900 and 2015, and the second array should include both 1905 and 2020. You should use the `p_five` table to create both arrays, by first filtering the table to only contain the relevant years.\n",
    "\n",
    "The annual growth rate for a time period is equal to:\n",
    "\n",
    "$$\\left(\\left(\\frac{\\text{Population at end of period}}{\\text{Population at start of period}}\\right)^{\\displaystyle\\frac{1}{\\text{number of years}}}\\right) -1$$\n",
    "\n",
    "We have provided the code below that uses `initial` and `changed` in order to add a column to `p_five` called `annual_growth`. **Don't worry about the calculation of the growth rates**; run the test below to test your solution.\n",
    "\n",
    "If you are interested in how we came up with the formula for growth rates, consult the [growth rates](https://inferentialthinking.com/chapters/03/2/1/Growth.html) section of the textbook.\n"
   ]
  },
  {
   "cell_type": "code",
   "execution_count": 8,
   "metadata": {
    "tags": []
   },
   "outputs": [
    {
     "data": {
      "text/html": [
       "<table border=\"1\" class=\"dataframe\">\n",
       "    <thead>\n",
       "        <tr>\n",
       "            <th>time</th> <th>population_total</th> <th>annual_growth</th>\n",
       "        </tr>\n",
       "    </thead>\n",
       "    <tbody>\n",
       "        <tr>\n",
       "            <td>1900</td> <td>24,340,168      </td> <td>0.71%        </td>\n",
       "        </tr>\n",
       "        <tr>\n",
       "            <td>1905</td> <td>25,221,471      </td> <td>0.49%        </td>\n",
       "        </tr>\n",
       "        <tr>\n",
       "            <td>1910</td> <td>25,844,639      </td> <td>-0.87%       </td>\n",
       "        </tr>\n",
       "        <tr>\n",
       "            <td>1915</td> <td>24,739,041      </td> <td>-0.75%       </td>\n",
       "        </tr>\n",
       "        <tr>\n",
       "            <td>1920</td> <td>23,827,906      </td> <td>1.32%        </td>\n",
       "        </tr>\n",
       "        <tr>\n",
       "            <td>1925</td> <td>25,439,942      </td> <td>1.52%        </td>\n",
       "        </tr>\n",
       "        <tr>\n",
       "            <td>1930</td> <td>27,427,399      </td> <td>0.75%        </td>\n",
       "        </tr>\n",
       "        <tr>\n",
       "            <td>1935</td> <td>28,465,230      </td> <td>0.32%        </td>\n",
       "        </tr>\n",
       "        <tr>\n",
       "            <td>1940</td> <td>28,927,566      </td> <td>-1.58%       </td>\n",
       "        </tr>\n",
       "        <tr>\n",
       "            <td>1945</td> <td>26,713,772      </td> <td>-1.46%       </td>\n",
       "        </tr>\n",
       "    </tbody>\n",
       "</table>\n",
       "<p>... (14 rows omitted)</p>"
      ],
      "text/plain": [
       "time | population_total | annual_growth\n",
       "1900 | 24,340,168       | 0.71%\n",
       "1905 | 25,221,471       | 0.49%\n",
       "1910 | 25,844,639       | -0.87%\n",
       "1915 | 24,739,041       | -0.75%\n",
       "1920 | 23,827,906       | 1.32%\n",
       "1925 | 25,439,942       | 1.52%\n",
       "1930 | 27,427,399       | 0.75%\n",
       "1935 | 28,465,230       | 0.32%\n",
       "1940 | 28,927,566       | -1.58%\n",
       "1945 | 26,713,772       | -1.46%\n",
       "... (14 rows omitted)"
      ]
     },
     "execution_count": 8,
     "metadata": {},
     "output_type": "execute_result"
    }
   ],
   "source": [
    "initial = p_five.where(\"time\", are.between_or_equal_to(1900, 2015)).column(\"population_total\")\n",
    "changed = p_five.where(\"time\", are.between_or_equal_to(1905, 2020)).column(\"population_total\")\n",
    "\n",
    "p_1900_through_2015 = p_five.where('time', are.below_or_equal_to(2015)) \n",
    "p_five_growth = p_1900_through_2015.with_column('annual_growth', (changed/initial)**0.2-1)\n",
    "p_five_growth.set_format('annual_growth', PercentFormatter)"
   ]
  },
  {
   "cell_type": "code",
   "execution_count": 22,
   "metadata": {
    "deletable": false,
    "editable": false
   },
   "outputs": [
    {
     "data": {
      "text/html": [
       "<p><strong><pre style='display: inline;'>q1_2</pre></strong> passed! 🍀</p>"
      ],
      "text/plain": [
       "q1_2 results: All test cases passed!"
      ]
     },
     "execution_count": 22,
     "metadata": {},
     "output_type": "execute_result"
    }
   ],
   "source": [
    "grader.check(\"q1_2\")"
   ]
  },
  {
   "cell_type": "markdown",
   "metadata": {
    "deletable": false
   },
   "source": [
    "The annual growth rate in Poland has been declining since 1950, as shown in the table below.\n"
   ]
  },
  {
   "cell_type": "code",
   "execution_count": 9,
   "metadata": {},
   "outputs": [
    {
     "data": {
      "text/html": [
       "<table border=\"1\" class=\"dataframe\">\n",
       "    <thead>\n",
       "        <tr>\n",
       "            <th>time</th> <th>population_total</th> <th>annual_growth</th>\n",
       "        </tr>\n",
       "    </thead>\n",
       "    <tbody>\n",
       "        <tr>\n",
       "            <td>1950</td> <td>24,824,007      </td> <td>1.90%        </td>\n",
       "        </tr>\n",
       "        <tr>\n",
       "            <td>1955</td> <td>27,269,742      </td> <td>1.66%        </td>\n",
       "        </tr>\n",
       "        <tr>\n",
       "            <td>1960</td> <td>29,614,201      </td> <td>1.15%        </td>\n",
       "        </tr>\n",
       "        <tr>\n",
       "            <td>1965</td> <td>31,360,903      </td> <td>0.80%        </td>\n",
       "        </tr>\n",
       "        <tr>\n",
       "            <td>1970</td> <td>32,639,262      </td> <td>0.80%        </td>\n",
       "        </tr>\n",
       "        <tr>\n",
       "            <td>1975</td> <td>33,970,730      </td> <td>0.91%        </td>\n",
       "        </tr>\n",
       "        <tr>\n",
       "            <td>1980</td> <td>35,539,723      </td> <td>0.88%        </td>\n",
       "        </tr>\n",
       "        <tr>\n",
       "            <td>1985</td> <td>37,133,860      </td> <td>0.44%        </td>\n",
       "        </tr>\n",
       "        <tr>\n",
       "            <td>1990</td> <td>37,960,193      </td> <td>0.26%        </td>\n",
       "        </tr>\n",
       "        <tr>\n",
       "            <td>1995</td> <td>38,458,642      </td> <td>0.05%        </td>\n",
       "        </tr>\n",
       "        <tr>\n",
       "            <td>2000</td> <td>38,556,699      </td> <td>-0.10%       </td>\n",
       "        </tr>\n",
       "        <tr>\n",
       "            <td>2005</td> <td>38,368,957      </td> <td>-0.02%       </td>\n",
       "        </tr>\n",
       "        <tr>\n",
       "            <td>2010</td> <td>38,329,784      </td> <td>-0.15%       </td>\n",
       "        </tr>\n",
       "        <tr>\n",
       "            <td>2015</td> <td>38,034,076      </td> <td>-0.10%       </td>\n",
       "        </tr>\n",
       "    </tbody>\n",
       "</table>"
      ],
      "text/plain": [
       "<IPython.core.display.HTML object>"
      ]
     },
     "metadata": {},
     "output_type": "display_data"
    }
   ],
   "source": [
    "# Run this cell to view annual growth rates in Poland since 1950.\n",
    "p_five_growth.where('time', are.above_or_equal_to(1950)).show()"
   ]
  },
  {
   "cell_type": "markdown",
   "metadata": {},
   "source": [
    "Next, we'll try to understand what has changed in Poland that might explain the slowing population growth rate. Run the next cell to load three additional tables of measurements about countries over time.\n"
   ]
  },
  {
   "cell_type": "code",
   "execution_count": 10,
   "metadata": {
    "deletable": false
   },
   "outputs": [],
   "source": [
    "life_expectancy = Table.read_table('life_expectancy.csv').where('time', are.below(2021))\n",
    "child_mortality = Table.read_table('child_mortality.csv').relabel(2, 'child_mortality_under_5_per_1000_born').where('time', are.below(2021))\n",
    "fertility = Table.read_table('fertility.csv').where('time', are.below(2021))"
   ]
  },
  {
   "cell_type": "markdown",
   "metadata": {
    "deletable": false,
    "editable": false
   },
   "source": [
    "The `life_expectancy` table contains a statistic that is often used to measure how long people live, called _life expectancy at birth_. This number, for a country in a given year, [does not measure how long babies born in that year are expected to live](http://blogs.worldbank.org/opendata/what-does-life-expectancy-birth-really-mean). Instead, it measures how long someone would live, on average, if the _mortality conditions_ in that year persisted throughout their lifetime. These \"mortality conditions\" describe what fraction of people for each age survived the year. So, it is a way of measuring the proportion of people that are staying alive, aggregated over different age groups in the population.\n"
   ]
  },
  {
   "cell_type": "markdown",
   "metadata": {},
   "source": [
    "Run the following cells below to see `life_expectancy`, `child_mortality`, and `fertility`. Refer back to these tables as they will be helpful for answering further questions!\n"
   ]
  },
  {
   "cell_type": "code",
   "execution_count": 11,
   "metadata": {},
   "outputs": [
    {
     "data": {
      "text/html": [
       "<table border=\"1\" class=\"dataframe\">\n",
       "    <thead>\n",
       "        <tr>\n",
       "            <th>geo</th> <th>time</th> <th>life_expectancy_years</th>\n",
       "        </tr>\n",
       "    </thead>\n",
       "    <tbody>\n",
       "        <tr>\n",
       "            <td>afg </td> <td>1800</td> <td>28.21                </td>\n",
       "        </tr>\n",
       "        <tr>\n",
       "            <td>afg </td> <td>1801</td> <td>28.2                 </td>\n",
       "        </tr>\n",
       "        <tr>\n",
       "            <td>afg </td> <td>1802</td> <td>28.19                </td>\n",
       "        </tr>\n",
       "    </tbody>\n",
       "</table>\n",
       "<p>... (41247 rows omitted)</p>"
      ],
      "text/plain": [
       "<IPython.core.display.HTML object>"
      ]
     },
     "metadata": {},
     "output_type": "display_data"
    }
   ],
   "source": [
    "life_expectancy.show(3)"
   ]
  },
  {
   "cell_type": "code",
   "execution_count": 12,
   "metadata": {},
   "outputs": [
    {
     "data": {
      "text/html": [
       "<table border=\"1\" class=\"dataframe\">\n",
       "    <thead>\n",
       "        <tr>\n",
       "            <th>geo</th> <th>time</th> <th>child_mortality_under_5_per_1000_born</th>\n",
       "        </tr>\n",
       "    </thead>\n",
       "    <tbody>\n",
       "        <tr>\n",
       "            <td>afg </td> <td>1800</td> <td>468.58                               </td>\n",
       "        </tr>\n",
       "        <tr>\n",
       "            <td>afg </td> <td>1801</td> <td>468.58                               </td>\n",
       "        </tr>\n",
       "        <tr>\n",
       "            <td>afg </td> <td>1802</td> <td>468.58                               </td>\n",
       "        </tr>\n",
       "    </tbody>\n",
       "</table>\n",
       "<p>... (41734 rows omitted)</p>"
      ],
      "text/plain": [
       "<IPython.core.display.HTML object>"
      ]
     },
     "metadata": {},
     "output_type": "display_data"
    }
   ],
   "source": [
    "child_mortality.show(3)"
   ]
  },
  {
   "cell_type": "code",
   "execution_count": 13,
   "metadata": {},
   "outputs": [
    {
     "data": {
      "text/html": [
       "<table border=\"1\" class=\"dataframe\">\n",
       "    <thead>\n",
       "        <tr>\n",
       "            <th>geo</th> <th>time</th> <th>children_per_woman_total_fertility</th>\n",
       "        </tr>\n",
       "    </thead>\n",
       "    <tbody>\n",
       "        <tr>\n",
       "            <td>abw </td> <td>1800</td> <td>5.64                              </td>\n",
       "        </tr>\n",
       "        <tr>\n",
       "            <td>abw </td> <td>1801</td> <td>5.64                              </td>\n",
       "        </tr>\n",
       "        <tr>\n",
       "            <td>abw </td> <td>1802</td> <td>5.64                              </td>\n",
       "        </tr>\n",
       "    </tbody>\n",
       "</table>\n",
       "<p>... (44632 rows omitted)</p>"
      ],
      "text/plain": [
       "<IPython.core.display.HTML object>"
      ]
     },
     "metadata": {},
     "output_type": "display_data"
    }
   ],
   "source": [
    "fertility.show(3)"
   ]
  },
  {
   "cell_type": "markdown",
   "metadata": {},
   "source": [
    "<!-- BEGIN QUESTION -->\n",
    "\n",
    "**Question 3.** Is population growing more slowly perhaps because people aren’t living as long? Use the `life_expectancy` table to draw a line graph with the years 1950 and later on the horizontal axis that shows how the _life expectancy at birth_ has changed in Poland.\n",
    "\n",
    "_Hint_: Make sure you filter the table properly; otherwise, the graph may look funky!\n"
   ]
  },
  {
   "cell_type": "code",
   "execution_count": 14,
   "metadata": {
    "deletable": false,
    "manual_grade": true,
    "manual_problem_id": "global_pop_3",
    "tags": []
   },
   "outputs": [
    {
     "data": {
      "image/png": "[encoded data removed]",
      "text/plain": [
       "<Figure size 600x600 with 1 Axes>"
      ]
     },
     "metadata": {},
     "output_type": "display_data"
    }
   ],
   "source": [
    "# Fill in code here\n",
    "life = life_expectancy.where(\"time\", are.above_or_equal_to(1950)).where(\"geo\", are.equal_to(\"geo\")).drop(\"geo\")\n",
    "life.plot(\"time\")"
   ]
  },
  {
   "cell_type": "markdown",
   "metadata": {},
   "source": [
    "<!-- END QUESTION -->\n",
    "\n",
    "<!-- BEGIN QUESTION -->\n",
    "\n",
    "**Question 4.** Assuming everything else stays the same, do the trends in life expectancy in the graph above directly explain why the population growth rate decreased since 1950 in Poland? Why or why not?\n"
   ]
  },
  {
   "cell_type": "markdown",
   "metadata": {},
   "source": [
    "No, this graph shows that the population growth rate should have gone up. "
   ]
  },
  {
   "cell_type": "markdown",
   "metadata": {
    "deletable": false,
    "editable": false
   },
   "source": [
    "<!-- END QUESTION -->\n",
    "\n",
    "The `fertility` table contains a statistic that is often used to measure how many babies are being born, the _total fertility rate_. This number describes the [number of children a woman would have in her lifetime](https://www.measureevaluation.org/prh/rh_indicators/specific/fertility/total-fertility-rate), on average, if the current rates of birth by age of the mother persisted throughout her child bearing years, assuming she survived through age 49.\n"
   ]
  },
  {
   "cell_type": "markdown",
   "metadata": {},
   "source": [
    "**Question 5.** Complete the function `fertility_over_time`. It takes two input arguments, the Alpha-3 code of a country (denoted as `country_code`) and a year to `start` from (denoted as start). It returns a two-column table with the column labels `Year` and `Children per woman`. These columns can be used to generate a line chart of the country’s fertility rate each year, starting from the year given by `start`. The plot should include the start year and all later years that appear in the fertility table.\n",
    "\n",
    "Then, determine the Alpha-3 code for **Poland**. The code at the very bottom for `poland_code` and the year `1950` are inputted to your `fertility_over_time` function. The function returns a table which we use in order to plot how Poland's fertility rate has changed since `1950`. Note that the function `fertility_over_time` should not return the plot itself – it returns a two column table. The expression that draws the line plot is provided for you; please don’t change it.\n",
    "\n",
    "_Hint_: Read about `tbl.relabeled` in the [Python Reference](https://www.data8.org/su24/reference/) to rename columns.\n"
   ]
  },
  {
   "cell_type": "code",
   "execution_count": 15,
   "metadata": {
    "deletable": false,
    "tags": []
   },
   "outputs": [
    {
     "data": {
      "text/html": [
       "<table border=\"1\" class=\"dataframe\">\n",
       "    <thead>\n",
       "        <tr>\n",
       "            <th>Year</th> <th>Children per woman</th>\n",
       "        </tr>\n",
       "    </thead>\n",
       "    <tbody>\n",
       "        <tr>\n",
       "            <td>1950</td> <td>3.6               </td>\n",
       "        </tr>\n",
       "        <tr>\n",
       "            <td>1951</td> <td>3.62              </td>\n",
       "        </tr>\n",
       "        <tr>\n",
       "            <td>1952</td> <td>3.64              </td>\n",
       "        </tr>\n",
       "        <tr>\n",
       "            <td>1953</td> <td>3.65              </td>\n",
       "        </tr>\n",
       "        <tr>\n",
       "            <td>1954</td> <td>3.64              </td>\n",
       "        </tr>\n",
       "        <tr>\n",
       "            <td>1955</td> <td>3.6               </td>\n",
       "        </tr>\n",
       "        <tr>\n",
       "            <td>1956</td> <td>3.55              </td>\n",
       "        </tr>\n",
       "        <tr>\n",
       "            <td>1957</td> <td>3.47              </td>\n",
       "        </tr>\n",
       "        <tr>\n",
       "            <td>1958</td> <td>3.37              </td>\n",
       "        </tr>\n",
       "        <tr>\n",
       "            <td>1959</td> <td>3.25              </td>\n",
       "        </tr>\n",
       "    </tbody>\n",
       "</table>\n",
       "<p>... (61 rows omitted)</p>"
      ],
      "text/plain": [
       "Year | Children per woman\n",
       "1950 | 3.6\n",
       "1951 | 3.62\n",
       "1952 | 3.64\n",
       "1953 | 3.65\n",
       "1954 | 3.64\n",
       "1955 | 3.6\n",
       "1956 | 3.55\n",
       "1957 | 3.47\n",
       "1958 | 3.37\n",
       "1959 | 3.25\n",
       "... (61 rows omitted)"
      ]
     },
     "execution_count": 15,
     "metadata": {},
     "output_type": "execute_result"
    }
   ],
   "source": [
    "def fertility_over_time(country_code, start):\n",
    "    \"\"\"Create a two-column table that describes a country's total fertility rate each year.\"\"\"\n",
    "    # It's a good idea (but not required) to use multiple lines in your solution.\n",
    "    return fertility.where(\"time\", are.above_or_equal_to(start)).where(\"geo\", are.equal_to(country_code)).drop(\"geo\").relabel(\"time\", \"Year\").relabel(\"children_per_woman_total_fertility\", \"Children per woman\")\n",
    "\n",
    "\n",
    "\n",
    "poland_code = \"pol\"\n",
    "fertility_over_time(poland_code, 1950)"
   ]
  },
  {
   "cell_type": "code",
   "execution_count": 36,
   "metadata": {
    "deletable": false,
    "editable": false
   },
   "outputs": [
    {
     "data": {
      "text/html": [
       "<p><strong><pre style='display: inline;'>q1_5</pre></strong> passed! 🍀</p>"
      ],
      "text/plain": [
       "q1_5 results: All test cases passed!"
      ]
     },
     "execution_count": 36,
     "metadata": {},
     "output_type": "execute_result"
    }
   ],
   "source": [
    "grader.check(\"q1_5\")"
   ]
  },
  {
   "cell_type": "markdown",
   "metadata": {},
   "source": [
    "Plotting the fertility rate in Poland since 1950, we see a downward trend.\n"
   ]
  },
  {
   "cell_type": "code",
   "execution_count": 37,
   "metadata": {},
   "outputs": [
    {
     "data": {
      "image/png": "[encoded data removed]",
      "text/plain": [
       "<Figure size 600x600 with 1 Axes>"
      ]
     },
     "metadata": {},
     "output_type": "display_data"
    }
   ],
   "source": [
    "fertility_over_time(poland_code, 1950).plot(0, 1)"
   ]
  },
  {
   "cell_type": "markdown",
   "metadata": {},
   "source": [
    "<!-- BEGIN QUESTION -->\n",
    "\n",
    "**Question 6.** Assuming everything else is constant, do the trends in fertility in the graph above help directly explain why the population growth rate decreased from 1950 to 2020 in Poland? Why or why not?\n"
   ]
  },
  {
   "cell_type": "markdown",
   "metadata": {},
   "source": [
    "Yes, because on average women are having less babies, which makes the population growth rate decrease."
   ]
  },
  {
   "cell_type": "markdown",
   "metadata": {
    "deletable": false
   },
   "source": [
    "<!-- END QUESTION -->\n",
    "\n",
    "It has been [observed](https://www.ageing.ox.ac.uk/download/143) that lower fertility rates are often associated with lower child mortality rates. We can see if this association is evident in Poland by plotting the relationship between total fertility rate and [child mortality rate per 1000 children](https://en.wikipedia.org/wiki/Child_mortality).\n"
   ]
  },
  {
   "cell_type": "markdown",
   "metadata": {},
   "source": [
    "**Question 7.** Create a table `poland_since_1950` that contains one row per year starting with 1950 and:\n",
    "\n",
    "- A column `Year` containing the year\n",
    "- A column `Children per woman` describing total fertility in Poland that year\n",
    "- A column `Child deaths per 1000 born` describing child mortality in Poland that year\n"
   ]
  },
  {
   "cell_type": "code",
   "execution_count": 16,
   "metadata": {
    "deletable": false,
    "scrolled": false,
    "tags": []
   },
   "outputs": [
    {
     "data": {
      "text/html": [
       "<table border=\"1\" class=\"dataframe\">\n",
       "    <thead>\n",
       "        <tr>\n",
       "            <th>Year</th> <th>Children per woman</th> <th>Child deaths per 1000 born</th>\n",
       "        </tr>\n",
       "    </thead>\n",
       "    <tbody>\n",
       "        <tr>\n",
       "            <td>1950</td> <td>3.6               </td> <td>164.08                    </td>\n",
       "        </tr>\n",
       "        <tr>\n",
       "            <td>1951</td> <td>3.62              </td> <td>177.18                    </td>\n",
       "        </tr>\n",
       "        <tr>\n",
       "            <td>1952</td> <td>3.64              </td> <td>140.16                    </td>\n",
       "        </tr>\n",
       "        <tr>\n",
       "            <td>1953</td> <td>3.65              </td> <td>127.65                    </td>\n",
       "        </tr>\n",
       "        <tr>\n",
       "            <td>1954</td> <td>3.64              </td> <td>118.9                     </td>\n",
       "        </tr>\n",
       "        <tr>\n",
       "            <td>1955</td> <td>3.6               </td> <td>110.38                    </td>\n",
       "        </tr>\n",
       "        <tr>\n",
       "            <td>1956</td> <td>3.55              </td> <td>94.19                     </td>\n",
       "        </tr>\n",
       "        <tr>\n",
       "            <td>1957</td> <td>3.47              </td> <td>86.72                     </td>\n",
       "        </tr>\n",
       "        <tr>\n",
       "            <td>1958</td> <td>3.37              </td> <td>81.28                     </td>\n",
       "        </tr>\n",
       "        <tr>\n",
       "            <td>1959</td> <td>3.25              </td> <td>72.1                      </td>\n",
       "        </tr>\n",
       "    </tbody>\n",
       "</table>\n",
       "<p>... (61 rows omitted)</p>"
      ],
      "text/plain": [
       "Year | Children per woman | Child deaths per 1000 born\n",
       "1950 | 3.6                | 164.08\n",
       "1951 | 3.62               | 177.18\n",
       "1952 | 3.64               | 140.16\n",
       "1953 | 3.65               | 127.65\n",
       "1954 | 3.64               | 118.9\n",
       "1955 | 3.6                | 110.38\n",
       "1956 | 3.55               | 94.19\n",
       "1957 | 3.47               | 86.72\n",
       "1958 | 3.37               | 81.28\n",
       "1959 | 3.25               | 72.1\n",
       "... (61 rows omitted)"
      ]
     },
     "execution_count": 16,
     "metadata": {},
     "output_type": "execute_result"
    }
   ],
   "source": [
    "pol_fertility = fertility_over_time(poland_code, 1950)  # Try starting with the table you built already!\n",
    "# It's a good idea (but not required) to use multiple lines in your solution.\n",
    "pol_child_mortality = child_mortality.where(\"time\", are.above_or_equal_to(1950)).where(\"geo\", are.equal_to(\"pol\")).column(\"child_mortality_under_5_per_1000_born\")\n",
    "poland_since_1950 = pol_fertility.with_column(\"Child deaths per 1000 born\", pol_child_mortality)\n",
    "poland_since_1950"
   ]
  },
  {
   "cell_type": "code",
   "execution_count": 41,
   "metadata": {
    "deletable": false,
    "editable": false
   },
   "outputs": [
    {
     "data": {
      "text/html": [
       "<p><strong><pre style='display: inline;'>q1_7</pre></strong> passed! 🙌</p>"
      ],
      "text/plain": [
       "q1_7 results: All test cases passed!"
      ]
     },
     "execution_count": 41,
     "metadata": {},
     "output_type": "execute_result"
    }
   ],
   "source": [
    "grader.check(\"q1_7\")"
   ]
  },
  {
   "cell_type": "markdown",
   "metadata": {},
   "source": [
    "Run the following cell to generate a scatter plot from the `poland_since_1950` table you created.\n",
    "\n",
    "The plot uses **color** to encode data about the `Year` column. The colors, ranging from dark blue to white, represent the passing of time between 1950 and 2020. For example, a point on the scatter plot representing data from the 1950s would appear as **dark blue** and a point from the 2010s would appear as **light blue**.\n"
   ]
  },
  {
   "cell_type": "code",
   "execution_count": 17,
   "metadata": {},
   "outputs": [
    {
     "data": {
      "image/png": "[encoded data removed]",
      "text/plain": [
       "<Figure size 600x600 with 2 Axes>"
      ]
     },
     "metadata": {},
     "output_type": "display_data"
    }
   ],
   "source": [
    "x_births = poland_since_1950.column(\"Children per woman\")\n",
    "y_deaths = poland_since_1950.column(\"Child deaths per 1000 born\")\n",
    "time_colors = poland_since_1950.column(\"Year\")\n",
    "\n",
    "plots.figure(figsize=(6,6))\n",
    "plots.scatter(x_births, y_deaths, c=time_colors, cmap=\"Blues_r\")\n",
    "plots.colorbar()                  \n",
    "plots.xlabel(\"Children per woman\")\n",
    "plots.ylabel(\"Child deaths per 1000 born\");"
   ]
  },
  {
   "cell_type": "markdown",
   "metadata": {},
   "source": [
    "<!-- BEGIN QUESTION -->\n",
    "\n",
    "**Question 8.** In one or two sentences, describe the association (if any) that is illustrated by this scatter plot. Does the diagram show any causal relation between between fertility and child mortality?\n"
   ]
  },
  {
   "cell_type": "markdown",
   "metadata": {},
   "source": [
    "This scatter plot shows that as time went on, the chid deaths per 1000 born increased as children per woman increased. That shows that as time went on, since woman stopped having as many children, the child deaths also decreased."
   ]
  },
  {
   "cell_type": "markdown",
   "metadata": {},
   "source": [
    "<!-- END QUESTION -->\n",
    "\n",
    "_Optional food for thought_: What other context or information you would need in order to better understand the factors affecting life expectancy, child mortality, and fertility?\n"
   ]
  },
  {
   "cell_type": "markdown",
   "metadata": {},
   "source": [
    "--- \n",
    "\n",
    "To double check your work, the cell below will rerun all of the autograder tests for Section 1. "
   ]
  },
  {
   "cell_type": "code",
   "execution_count": 19,
   "metadata": {},
   "outputs": [
    {
     "data": {
      "text/html": [
       "<p><strong><pre style='display: inline;'>q1_1</pre></strong> passed! 🍀</p>"
      ],
      "text/plain": [
       "q1_1 results: All test cases passed!"
      ]
     },
     "metadata": {},
     "output_type": "display_data"
    },
    {
     "data": {
      "text/html": [
       "<p><strong><pre style='display: inline;'>q1_2</pre></strong> passed! 🙌</p>"
      ],
      "text/plain": [
       "q1_2 results: All test cases passed!"
      ]
     },
     "metadata": {},
     "output_type": "display_data"
    },
    {
     "data": {
      "text/html": [
       "<p><strong><pre style='display: inline;'>q1_5</pre></strong> passed! 🙌</p>"
      ],
      "text/plain": [
       "q1_5 results: All test cases passed!"
      ]
     },
     "metadata": {},
     "output_type": "display_data"
    },
    {
     "data": {
      "text/html": [
       "<p><strong><pre style='display: inline;'>q1_7</pre></strong> passed! 💯</p>"
      ],
      "text/plain": [
       "q1_7 results: All test cases passed!"
      ]
     },
     "metadata": {},
     "output_type": "display_data"
    }
   ],
   "source": [
    "checkpoint_tests = [\"q1_1\", \"q1_2\", \"q1_5\", \"q1_7\"]\n",
    "for test in checkpoint_tests:\n",
    "    display(grader.check(test))"
   ]
  },
  {
   "cell_type": "markdown",
   "metadata": {
    "deletable": false
   },
   "source": [
    "### The World\n",
    "\n",
    "The changes observed in Poland can also be observed in many other countries: except during periods of extended war, famine, and social chaos, health services generally improve, life expectancy increases, and child mortality decreases. At the same time, the fertility rate often plummets, and where it does, the population growth rate decreases despite increasing longevity."
   ]
  },
  {
   "cell_type": "markdown",
   "metadata": {
    "deletable": false
   },
   "source": [
    "Run the cell below to generate two overlaid histograms, one for 1962 and one for 2010, that show the distributions of total fertility rates for these two years among all 201 countries in the `fertility` table."
   ]
  },
  {
   "cell_type": "code",
   "execution_count": 20,
   "metadata": {
    "deletable": false
   },
   "outputs": [
    {
     "data": {
      "image/png": "[encoded data removed]",
      "text/plain": [
       "<Figure size 600x400 with 1 Axes>"
      ]
     },
     "metadata": {},
     "output_type": "display_data"
    }
   ],
   "source": [
    "Table().with_columns( \n",
    "    '1962', fertility.where('time', 1962).column(2),\n",
    "    '2010', fertility.where('time', 2010).column(2)\n",
    ").hist(bins=np.arange(0, 10, 0.5), unit='child per woman')\n",
    "_ = plots.xlabel('Children per woman')\n",
    "_ = plots.ylabel('Percent per children per woman')\n",
    "_ = plots.xticks(np.arange(10))"
   ]
  },
  {
   "cell_type": "markdown",
   "metadata": {},
   "source": [
    "**Question 9.** Assign `fertility_statements` to an **array** of the numbers of each statement below that can be correctly inferred from these histograms.\n",
    "\n",
    "1. About the same number of countries had a fertility rate between 3.5 and 4.5 in both 1962 and 2010.\n",
    "1. In 1962, less than 20% of countries had a fertility rate below 3.\n",
    "1. At least half of countries had a fertility rate between 5 and 8 in 1962.\n",
    "1. In 2010, about 40% of countries had a fertility rate between 1.5 and 2.\n",
    "1. At least half of countries had a fertility rate below 3 in 2010.\n",
    "1. More countries had a fertility rate above 3 in 1962 than in 2010.\n"
   ]
  },
  {
   "cell_type": "code",
   "execution_count": 21,
   "metadata": {
    "deletable": false,
    "tags": []
   },
   "outputs": [],
   "source": [
    "fertility_statements = make_array(1, 3, 4, 5, 6)"
   ]
  },
  {
   "cell_type": "code",
   "execution_count": 49,
   "metadata": {
    "deletable": false,
    "editable": false
   },
   "outputs": [
    {
     "data": {
      "text/html": [
       "<p><strong><pre style='display: inline;'>q1_9</pre></strong> passed! 🍀</p>"
      ],
      "text/plain": [
       "q1_9 results: All test cases passed!"
      ]
     },
     "execution_count": 49,
     "metadata": {},
     "output_type": "execute_result"
    }
   ],
   "source": [
    "grader.check(\"q1_9\")"
   ]
  },
  {
   "cell_type": "markdown",
   "metadata": {},
   "source": [
    "<!-- BEGIN QUESTION -->\n",
    "\n",
    "**Question 10.** Draw a line plot of the **world population** from 1800 through 2020 (inclusive of both endpoints). The world population is the sum of all of the countries' populations. You should use the `population` table defined earlier in the project. \n"
   ]
  },
  {
   "cell_type": "code",
   "execution_count": 27,
   "metadata": {
    "deletable": false,
    "manual_grade": true,
    "manual_problem_id": "global_pop_10",
    "tags": []
   },
   "outputs": [
    {
     "data": {
      "image/png": "[encoded data removed]",
      "text/plain": [
       "<Figure size 600x600 with 1 Axes>"
      ]
     },
     "metadata": {},
     "output_type": "display_data"
    }
   ],
   "source": [
    "#Fill in code here\n",
    "total_population = population.group(\"time\", np.sum).drop(\"geo sum\").relabel(\"population_total sum\", \"world population\")\n",
    "total_population.plot(\"time\")"
   ]
  },
  {
   "attachments": {},
   "cell_type": "markdown",
   "metadata": {},
   "source": [
    "<!-- END QUESTION -->\n",
    "\n",
    "**Question 11.** Create a function `stats_for_year` that takes a `year` and returns a table of statistics. The table it returns should have four columns: `geo`, `population_total`, `children_per_woman_total_fertility`, and `child_mortality_under_5_per_1000_born`. Each row should contain one unique Alpha-3 country code and three statistics: population, fertility rate, and child mortality for that `year` from the `population`, `fertility` and `child_mortality` tables. Only include rows for which all three statistics are available for the country and year.\n",
    "\n",
    "In addition, restrict the result to country codes that appears in `big_50`, an array of the 50 most populous countries in 2020. This restriction will speed up computations later in the project.\n",
    "\n",
    "After you write `stats_for_year`, try calling `stats_for_year` on any year between 1960 and 2020. Try to understand the output of stats_for_year.\n",
    "\n",
    "*Hint*: The tests for this question are quite comprehensive, so if you pass the tests, your function is probably correct. However, without calling your function yourself and looking at the output, it will be very difficult to understand any problems you have, so try your best to write the function correctly and check that it works before you rely on the `grader` tests to confirm your work.\n",
    "\n",
    "*Hint*: What do all three tables have in common (pay attention to column names)?\n",
    "\n",
    "*Hint*: Create additional cells before directly writing the function.\n"
   ]
  },
  {
   "cell_type": "code",
   "execution_count": 40,
   "metadata": {
    "deletable": false,
    "tags": []
   },
   "outputs": [
    {
     "data": {
      "text/html": [
       "<table border=\"1\" class=\"dataframe\">\n",
       "    <thead>\n",
       "        <tr>\n",
       "            <th>geo</th> <th>population_total</th> <th>children_per_woman_total_fertility</th> <th>child_mortality_under_5_per_1000_born</th>\n",
       "        </tr>\n",
       "    </thead>\n",
       "    <tbody>\n",
       "        <tr>\n",
       "            <td>afg </td> <td>12412311        </td> <td>7.47                              </td> <td>178.77                               </td>\n",
       "        </tr>\n",
       "        <tr>\n",
       "            <td>ago </td> <td>11848385        </td> <td>7.25                              </td> <td>223.41                               </td>\n",
       "        </tr>\n",
       "        <tr>\n",
       "            <td>arg </td> <td>32618648        </td> <td>2.99                              </td> <td>28.61                                </td>\n",
       "        </tr>\n",
       "        <tr>\n",
       "            <td>bgd </td> <td>103171957       </td> <td>4.55                              </td> <td>143.66                               </td>\n",
       "        </tr>\n",
       "        <tr>\n",
       "            <td>bra </td> <td>149003225       </td> <td>2.81                              </td> <td>63.01                                </td>\n",
       "        </tr>\n",
       "        <tr>\n",
       "            <td>can </td> <td>27541323        </td> <td>1.66                              </td> <td>8.25                                 </td>\n",
       "        </tr>\n",
       "        <tr>\n",
       "            <td>chn </td> <td>1176883681      </td> <td>2.35                              </td> <td>53.71                                </td>\n",
       "        </tr>\n",
       "        <tr>\n",
       "            <td>cod </td> <td>34612023        </td> <td>7.13                              </td> <td>185.83                               </td>\n",
       "        </tr>\n",
       "        <tr>\n",
       "            <td>col </td> <td>33102569        </td> <td>2.99                              </td> <td>35.21                                </td>\n",
       "        </tr>\n",
       "        <tr>\n",
       "            <td>deu </td> <td>79053984        </td> <td>1.36                              </td> <td>8.53                                 </td>\n",
       "        </tr>\n",
       "    </tbody>\n",
       "</table>\n",
       "<p>... (40 rows omitted)</p>"
      ],
      "text/plain": [
       "geo  | population_total | children_per_woman_total_fertility | child_mortality_under_5_per_1000_born\n",
       "afg  | 12412311         | 7.47                               | 178.77\n",
       "ago  | 11848385         | 7.25                               | 223.41\n",
       "arg  | 32618648         | 2.99                               | 28.61\n",
       "bgd  | 103171957        | 4.55                               | 143.66\n",
       "bra  | 149003225        | 2.81                               | 63.01\n",
       "can  | 27541323         | 1.66                               | 8.25\n",
       "chn  | 1176883681       | 2.35                               | 53.71\n",
       "cod  | 34612023         | 7.13                               | 185.83\n",
       "col  | 33102569         | 2.99                               | 35.21\n",
       "deu  | 79053984         | 1.36                               | 8.53\n",
       "... (40 rows omitted)"
      ]
     },
     "execution_count": 40,
     "metadata": {},
     "output_type": "execute_result"
    }
   ],
   "source": [
    "# We first create a population table that only includes the \n",
    "# 50 countries with the largest 2020 populations. We focus on \n",
    "# these 50 countries only so that plotting later will run faster.\n",
    "big_50 = population.where('time', are.equal_to(2020)).sort(\"population_total\", descending=True).take(np.arange(50)).column('geo')\n",
    "population_of_big_50 = population.where('time', are.above(1959)).where('geo', are.contained_in(big_50))\n",
    "\n",
    "def stats_for_year(year):\n",
    "    \"\"\"Return a table of the stats for each country that year.\"\"\"\n",
    "    p = population_of_big_50.where('time', are.equal_to(year)).drop('time')\n",
    "    f = fertility.where('time', are.equal_to(year)).drop('time')\n",
    "    c = child_mortality.where('time', are.equal_to(year)).drop('time')\n",
    "    pfjoin = p.join(\"geo\", f, \"geo\")\n",
    "    return pfjoin.join(\"geo\", c, \"geo\")\n",
    "stats_for_year(1990)"
   ]
  },
  {
   "cell_type": "code",
   "execution_count": 41,
   "metadata": {
    "deletable": false,
    "editable": false
   },
   "outputs": [
    {
     "data": {
      "text/html": [
       "<p><strong><pre style='display: inline;'>q1_11</pre></strong> passed! 🍀</p>"
      ],
      "text/plain": [
       "q1_11 results: All test cases passed!"
      ]
     },
     "execution_count": 41,
     "metadata": {},
     "output_type": "execute_result"
    }
   ],
   "source": [
    "grader.check(\"q1_11\")"
   ]
  },
  {
   "cell_type": "markdown",
   "metadata": {},
   "source": [
    "**Question 12.** Create a table called `pop_by_decade` with two columns called `decade` and `population`, in this order. It has a row for each year that starts a decade, in increasing order starting with 1960 and ending with 2020. For example, 1960 is the start of the 1960's decade. The `population` column contains the total population of all countries included in the result of `stats_for_year(year)` for the first `year` of the decade. You should see that these countries contain most of the world's population.\n",
    "\n",
    "*Hint:* One approach is to define a function `pop_for_year` that computes this total population, then `apply` it to the `decade` column.  **Think about how you can use the `stats_for_year` function** from the previous question if you want to implement `pop_for_year`.\n",
    "\n",
    "This first test is just a sanity check for your helper function if you choose to use it. **You will not lose points for not implementing the function `pop_for_year`**.\n",
    "\n",
    "**Note:** The cell where you will generate the `pop_by_decade` table is below the cell where you can choose to define the helper function `pop_for_year`. You should define your `pop_by_decade` table in the cell that starts with the table `decades` being defined. \n"
   ]
  },
  {
   "cell_type": "code",
   "execution_count": 56,
   "metadata": {
    "tags": []
   },
   "outputs": [],
   "source": [
    "def pop_for_year(year):\n",
    "    \"\"\"Return the total population for the specified year.\"\"\"\n",
    "    return sum(stats_for_year(year).column(\"population_total\"))\n",
    "# year = make_array(1960, 1970, 1980, 1990, 2000, 2010,2020)\n",
    "# pop = []\n",
    "# for i in year:\n",
    "#     pop.append(pop_for_year(i))\n",
    "# pop_by_decade = Table().with_columns(\"decade\", year, \"population\", pop)\n",
    "# pop_by_decade"
   ]
  },
  {
   "cell_type": "code",
   "execution_count": 57,
   "metadata": {
    "deletable": false,
    "editable": false
   },
   "outputs": [
    {
     "data": {
      "text/html": [
       "<p><strong><pre style='display: inline;'>q1_12_0</pre></strong> passed! 💯</p>"
      ],
      "text/plain": [
       "q1_12_0 results: All test cases passed!"
      ]
     },
     "execution_count": 57,
     "metadata": {},
     "output_type": "execute_result"
    }
   ],
   "source": [
    "grader.check(\"q1_12_0\")"
   ]
  },
  {
   "cell_type": "markdown",
   "metadata": {},
   "source": [
    "Now that you've defined your helper function (if you've chosen to do so), define the `pop_by_decade` table.\n"
   ]
  },
  {
   "cell_type": "code",
   "execution_count": 60,
   "metadata": {
    "deletable": false,
    "tags": []
   },
   "outputs": [
    {
     "data": {
      "text/html": [
       "<table border=\"1\" class=\"dataframe\">\n",
       "    <thead>\n",
       "        <tr>\n",
       "            <th>decade</th> <th>population</th>\n",
       "        </tr>\n",
       "    </thead>\n",
       "    <tbody>\n",
       "        <tr>\n",
       "            <td>1960  </td> <td>2,635,123,897</td>\n",
       "        </tr>\n",
       "        <tr>\n",
       "            <td>1970  </td> <td>3,221,457,416</td>\n",
       "        </tr>\n",
       "        <tr>\n",
       "            <td>1980  </td> <td>3,890,044,418</td>\n",
       "        </tr>\n",
       "        <tr>\n",
       "            <td>1990  </td> <td>4,656,339,803</td>\n",
       "        </tr>\n",
       "        <tr>\n",
       "            <td>2000  </td> <td>5,377,062,169</td>\n",
       "        </tr>\n",
       "        <tr>\n",
       "            <td>2010  </td> <td>6,064,674,132</td>\n",
       "        </tr>\n",
       "        <tr>\n",
       "            <td>2020  </td> <td>6,765,161,289</td>\n",
       "        </tr>\n",
       "    </tbody>\n",
       "</table>"
      ],
      "text/plain": [
       "decade | population\n",
       "1960   | 2,635,123,897\n",
       "1970   | 3,221,457,416\n",
       "1980   | 3,890,044,418\n",
       "1990   | 4,656,339,803\n",
       "2000   | 5,377,062,169\n",
       "2010   | 6,064,674,132\n",
       "2020   | 6,765,161,289"
      ]
     },
     "execution_count": 60,
     "metadata": {},
     "output_type": "execute_result"
    }
   ],
   "source": [
    "decades = Table().with_column('decade', np.arange(1960, 2021, 10))\n",
    "year = decades.column('decade')\n",
    "pop = []\n",
    "for i in year:\n",
    "     pop.append(pop_for_year(i))\n",
    "pop_by_decade = decades.with_column(\"population\", pop)\n",
    "pop_by_decade.set_format(1, NumberFormatter)"
   ]
  },
  {
   "cell_type": "code",
   "execution_count": 61,
   "metadata": {
    "deletable": false,
    "editable": false
   },
   "outputs": [
    {
     "data": {
      "text/html": [
       "<p><strong><pre style='display: inline;'>q1_12</pre></strong> passed! 🙌</p>"
      ],
      "text/plain": [
       "q1_12 results: All test cases passed!"
      ]
     },
     "execution_count": 61,
     "metadata": {},
     "output_type": "execute_result"
    }
   ],
   "source": [
    "grader.check(\"q1_12\")"
   ]
  },
  {
   "cell_type": "markdown",
   "metadata": {
    "deletable": false,
    "editable": false
   },
   "source": [
    "The `countries` table describes various characteristics of countries. The `country` column contains the same codes as the `geo` column in each of the other data tables (`population`, `fertility`, and `child_mortality`). The `world_6region` column classifies each country into a region of the world. Run the cell below to inspect the data."
   ]
  },
  {
   "cell_type": "code",
   "execution_count": 62,
   "metadata": {},
   "outputs": [
    {
     "data": {
      "text/html": [
       "<table border=\"1\" class=\"dataframe\">\n",
       "    <thead>\n",
       "        <tr>\n",
       "            <th>country</th> <th>name</th> <th>world_6region</th>\n",
       "        </tr>\n",
       "    </thead>\n",
       "    <tbody>\n",
       "        <tr>\n",
       "            <td>afg    </td> <td>Afghanistan         </td> <td>south_asia              </td>\n",
       "        </tr>\n",
       "        <tr>\n",
       "            <td>ago    </td> <td>Angola              </td> <td>sub_saharan_africa      </td>\n",
       "        </tr>\n",
       "        <tr>\n",
       "            <td>alb    </td> <td>Albania             </td> <td>europe_central_asia     </td>\n",
       "        </tr>\n",
       "        <tr>\n",
       "            <td>and    </td> <td>Andorra             </td> <td>europe_central_asia     </td>\n",
       "        </tr>\n",
       "        <tr>\n",
       "            <td>are    </td> <td>United Arab Emirates</td> <td>middle_east_north_africa</td>\n",
       "        </tr>\n",
       "        <tr>\n",
       "            <td>arg    </td> <td>Argentina           </td> <td>america                 </td>\n",
       "        </tr>\n",
       "        <tr>\n",
       "            <td>arm    </td> <td>Armenia             </td> <td>europe_central_asia     </td>\n",
       "        </tr>\n",
       "        <tr>\n",
       "            <td>atg    </td> <td>Antigua and Barbuda </td> <td>america                 </td>\n",
       "        </tr>\n",
       "        <tr>\n",
       "            <td>aus    </td> <td>Australia           </td> <td>east_asia_pacific       </td>\n",
       "        </tr>\n",
       "        <tr>\n",
       "            <td>aut    </td> <td>Austria             </td> <td>europe_central_asia     </td>\n",
       "        </tr>\n",
       "    </tbody>\n",
       "</table>\n",
       "<p>... (187 rows omitted)</p>"
      ],
      "text/plain": [
       "country | name                 | world_6region\n",
       "afg     | Afghanistan          | south_asia\n",
       "ago     | Angola               | sub_saharan_africa\n",
       "alb     | Albania              | europe_central_asia\n",
       "and     | Andorra              | europe_central_asia\n",
       "are     | United Arab Emirates | middle_east_north_africa\n",
       "arg     | Argentina            | america\n",
       "arm     | Armenia              | europe_central_asia\n",
       "atg     | Antigua and Barbuda  | america\n",
       "aus     | Australia            | east_asia_pacific\n",
       "aut     | Austria              | europe_central_asia\n",
       "... (187 rows omitted)"
      ]
     },
     "execution_count": 62,
     "metadata": {},
     "output_type": "execute_result"
    }
   ],
   "source": [
    "countries = Table.read_table('countries.csv').where('country', are.contained_in(population.group('geo').column('geo')))\n",
    "countries.select('country', 'name', 'world_6region')"
   ]
  },
  {
   "cell_type": "markdown",
   "metadata": {},
   "source": [
    "**Question 13.** Create a table called `region_counts`. It should contain two columns called `region` and `count`. The `region` column should contain regions of the world, and the `count` column should contain the number of countries in each region that appears in the result of `stats_for_year(2020)`. \n",
    "\n",
    "For example, one row would have `south_asia` as its `region` value and an integer as its `count` value: the number of large South Asian countries for which we have population, fertility, and child mortality numbers from 2020.\n",
    "\n",
    "*Hint*: You may have to relabel a column to name it `region`. \n"
   ]
  },
  {
   "cell_type": "code",
   "execution_count": 66,
   "metadata": {
    "deletable": false,
    "tags": []
   },
   "outputs": [
    {
     "data": {
      "text/html": [
       "<table border=\"1\" class=\"dataframe\">\n",
       "    <thead>\n",
       "        <tr>\n",
       "            <th>region</th> <th>count</th>\n",
       "        </tr>\n",
       "    </thead>\n",
       "    <tbody>\n",
       "        <tr>\n",
       "            <td>america                 </td> <td>8    </td>\n",
       "        </tr>\n",
       "        <tr>\n",
       "            <td>east_asia_pacific       </td> <td>9    </td>\n",
       "        </tr>\n",
       "        <tr>\n",
       "            <td>europe_central_asia     </td> <td>10   </td>\n",
       "        </tr>\n",
       "        <tr>\n",
       "            <td>middle_east_north_africa</td> <td>7    </td>\n",
       "        </tr>\n",
       "        <tr>\n",
       "            <td>south_asia              </td> <td>5    </td>\n",
       "        </tr>\n",
       "        <tr>\n",
       "            <td>sub_saharan_africa      </td> <td>11   </td>\n",
       "        </tr>\n",
       "    </tbody>\n",
       "</table>"
      ],
      "text/plain": [
       "region                   | count\n",
       "america                  | 8\n",
       "east_asia_pacific        | 9\n",
       "europe_central_asia      | 10\n",
       "middle_east_north_africa | 7\n",
       "south_asia               | 5\n",
       "sub_saharan_africa       | 11"
      ]
     },
     "execution_count": 66,
     "metadata": {},
     "output_type": "execute_result"
    }
   ],
   "source": [
    "stats_for_2020 = stats_for_year(2020)\n",
    "joining = stats_for_2020.join(\"geo\", countries, \"country\")\n",
    "# print(joining)\n",
    "region_counts = joining.group(\"world_6region\").relabel(\"world_6region\", \"region\")\n",
    "region_counts"
   ]
  },
  {
   "cell_type": "code",
   "execution_count": 67,
   "metadata": {
    "deletable": false,
    "editable": false
   },
   "outputs": [
    {
     "data": {
      "text/html": [
       "<p><strong><pre style='display: inline;'>q1_13</pre></strong> passed! 🌟</p>"
      ],
      "text/plain": [
       "q1_13 results: All test cases passed!"
      ]
     },
     "execution_count": 67,
     "metadata": {},
     "output_type": "execute_result"
    }
   ],
   "source": [
    "grader.check(\"q1_13\")"
   ]
  },
  {
   "cell_type": "markdown",
   "metadata": {
    "deletable": false
   },
   "source": [
    "The following scatter diagram compares total fertility rate and child mortality rate for each country in 1960. The area of each dot represents the population of the country, and the color represents its region of the world. Run the cell. Do you think you can identify any of the dots?"
   ]
  },
  {
   "cell_type": "code",
   "execution_count": 68,
   "metadata": {
    "deletable": false
   },
   "outputs": [
    {
     "data": {
      "image/png": "[encoded data removed]",
      "text/plain": [
       "<Figure size 500x500 with 1 Axes>"
      ]
     },
     "metadata": {},
     "output_type": "display_data"
    }
   ],
   "source": [
    "from functools import lru_cache as cache\n",
    "\n",
    "# This cache annotation makes sure that if the same year\n",
    "# is passed as an argument twice, the work of computing\n",
    "# the result is only carried out once.\n",
    "@cache(None)\n",
    "def stats_relabeled(year):\n",
    "    \"\"\"Relabeled and cached version of stats_for_year.\"\"\"\n",
    "    return stats_for_year(year).relabel(2, 'Children per woman').relabel(3, 'Child deaths per 1000 born')\n",
    "\n",
    "def fertility_vs_child_mortality(year):\n",
    "    \"\"\"Draw a color scatter diagram comparing child mortality and fertility.\"\"\"\n",
    "    with_region = stats_relabeled(year).join('geo', countries.select('country', 'world_6region'), 'country')\n",
    "    with_region.scatter(2, 3, sizes=1, group=4, s=500)\n",
    "    plots.xlim(0,10)\n",
    "    plots.ylim(-50, 500)\n",
    "    plots.title(year)\n",
    "    plots.show()\n",
    "\n",
    "fertility_vs_child_mortality(1960)"
   ]
  },
  {
   "cell_type": "markdown",
   "metadata": {},
   "source": [
    "**Question 14.** Assign `scatter_statements` to an array of the numbers of each statement below that can be inferred from this scatter diagram for 1960. \n",
    "1. All countries in `europe_central_asia` had uniformly low fertility rates.\n",
    "1. The lowest child mortality rate of any country was from an `east_asia_pacific` country.\n",
    "1. Most countries had a fertility rate above 5.\n",
    "1. There was an association between child mortality and fertility.\n",
    "1. The two largest countries by population also had the two highest child mortality rates.\n"
   ]
  },
  {
   "cell_type": "code",
   "execution_count": 69,
   "metadata": {
    "deletable": false,
    "tags": []
   },
   "outputs": [],
   "source": [
    "scatter_statements = make_array(2,3,4)"
   ]
  },
  {
   "cell_type": "code",
   "execution_count": 70,
   "metadata": {
    "deletable": false,
    "editable": false
   },
   "outputs": [
    {
     "data": {
      "text/html": [
       "<p><strong><pre style='display: inline;'>q1_14</pre></strong> passed! 💯</p>"
      ],
      "text/plain": [
       "q1_14 results: All test cases passed!"
      ]
     },
     "execution_count": 70,
     "metadata": {},
     "output_type": "execute_result"
    }
   ],
   "source": [
    "grader.check(\"q1_14\")"
   ]
  },
  {
   "cell_type": "markdown",
   "metadata": {
    "deletable": false
   },
   "source": [
    "The result of the cell below is interactive. Drag the slider to the right to see how countries have changed over time. You’ll find that in terms of population growth, the divide between the countries of the global North and global South that existed in the 1960s has shrunk significantly. \n",
    "\n",
    "This shift in fertility rates is the reason that the global population is expected to grow more slowly in the 21st century than it did in the 19th and 20th centuries. Fertility rates change for reasons that include cultural patterns, better prospects for children surviving to adulthood, and family planning (such as contraception and women’s greater control over their reproduction).\n",
    "\n",
    "**Note:** Don't worry if a red warning pops up when running the cell below. You'll still be able to run the cell!"
   ]
  },
  {
   "cell_type": "code",
   "execution_count": 71,
   "metadata": {
    "deletable": false,
    "scrolled": true
   },
   "outputs": [
    {
     "data": {
      "application/vnd.jupyter.widget-view+json": {
       "model_id": "34d53fb7fba447459ed77445acad692a",
       "version_major": 2,
       "version_minor": 0
      },
      "text/plain": [
       "interactive(children=(IntSlider(value=1960, description='year', max=2020, min=1960), Output()), _dom_classes=(…"
      ]
     },
     "metadata": {},
     "output_type": "display_data"
    }
   ],
   "source": [
    "_ = widgets.interact(fertility_vs_child_mortality, \n",
    "                     year=widgets.IntSlider(min=1960, max=2020, value=1960))"
   ]
  },
  {
   "cell_type": "markdown",
   "metadata": {
    "deletable": false,
    "editable": false
   },
   "source": [
    "Now is a great time to take a break and watch the same data presented by [Hans Rosling in a 2010 TEDx talk](https://www.gapminder.org/videos/reducing-child-mortality-a-moral-and-environmental-imperative) with smoother animation and witty commentary."
   ]
  },
  {
   "cell_type": "markdown",
   "metadata": {},
   "source": [
    "When we look at population and fertility as data scientists, we need to learn about the experiences of people in real life, not just abstractly as data. We should also recognize that population studies have sometimes had political undercurrents. Those undercurrents have included population control, control of women’s reproduction, or fears of shifts between racial groups. To do better as data scientists, we should check our assumptions to avoid unthinkingly reproducing past patterns."
   ]
  },
  {
   "cell_type": "markdown",
   "metadata": {
    "deletable": false
   },
   "source": [
    "## 2. Global Poverty"
   ]
  },
  {
   "cell_type": "markdown",
   "metadata": {
    "deletable": false
   },
   "source": [
    "In 1800, 85% of the world's 1 billion people lived in [extreme poverty](https://en.wikipedia.org/wiki/Extreme_poverty), defined by the United Nations as \"a condition characterized by severe deprivation of basic human needs, including food, safe drinking water, sanitation facilities, health, shelter, education and information.\" At the time when the data in this project were gathered, a common definition of extreme poverty was a person living on less than \\$1.25 a day.\n",
    "\n",
    "In 2018, the proportion of people living in extreme poverty was estimated to be [about 9\\%](https://unstats.un.org/sdgs/report/2019/goal-01/). Although the world rate of extreme poverty has declined consistently for hundreds of years, the number of people living in extreme poverty is still over 600 million. The United Nations adopted an [ambitious goal](http://www.un.org/sustainabledevelopment/poverty/): \"By 2030, eradicate extreme poverty for all people everywhere.\"\n",
    "\n",
    "In this part of the project, we will examine some aspects of global poverty that might affect whether the goal is achievable. The causes of poverty are complex. They include global histories, such as colonialism, as well as factors such as health care, economics, and social inequality in each country."
   ]
  },
  {
   "cell_type": "markdown",
   "metadata": {
    "deletable": false,
    "editable": false
   },
   "source": [
    "First, load the population and poverty rate by country and year and the country descriptions. While the `population` table has values for every recent year for many countries, the `poverty` table only includes certain years for each country in which a measurement of the rate of extreme poverty was available."
   ]
  },
  {
   "cell_type": "code",
   "execution_count": 14,
   "metadata": {},
   "outputs": [
    {
     "data": {
      "text/html": [
       "<table border=\"1\" class=\"dataframe\">\n",
       "    <thead>\n",
       "        <tr>\n",
       "            <th>geo</th> <th>time</th> <th>extreme_poverty_percent_people_below_125_a_day</th>\n",
       "        </tr>\n",
       "    </thead>\n",
       "    <tbody>\n",
       "        <tr>\n",
       "            <td>alb </td> <td>1996</td> <td>0.2                                           </td>\n",
       "        </tr>\n",
       "        <tr>\n",
       "            <td>alb </td> <td>2002</td> <td>0.73                                          </td>\n",
       "        </tr>\n",
       "        <tr>\n",
       "            <td>alb </td> <td>2004</td> <td>0.53                                          </td>\n",
       "        </tr>\n",
       "        <tr>\n",
       "            <td>alb </td> <td>2005</td> <td>0.44                                          </td>\n",
       "        </tr>\n",
       "        <tr>\n",
       "            <td>alb </td> <td>2008</td> <td>0.2                                           </td>\n",
       "        </tr>\n",
       "        <tr>\n",
       "            <td>alb </td> <td>2012</td> <td>0.46                                          </td>\n",
       "        </tr>\n",
       "        <tr>\n",
       "            <td>dza </td> <td>1988</td> <td>7.1                                           </td>\n",
       "        </tr>\n",
       "        <tr>\n",
       "            <td>dza </td> <td>1995</td> <td>6.38                                          </td>\n",
       "        </tr>\n",
       "        <tr>\n",
       "            <td>ago </td> <td>2000</td> <td>54.31                                         </td>\n",
       "        </tr>\n",
       "        <tr>\n",
       "            <td>ago </td> <td>2009</td> <td>43.37                                         </td>\n",
       "        </tr>\n",
       "    </tbody>\n",
       "</table>\n",
       "<p>... (1089 rows omitted)</p>"
      ],
      "text/plain": [
       "<IPython.core.display.HTML object>"
      ]
     },
     "metadata": {},
     "output_type": "display_data"
    }
   ],
   "source": [
    "population = Table.read_table('population.csv') \n",
    "countries = Table.read_table('countries.csv').where('country', are.contained_in(population.group('geo').column('geo')))\n",
    "poverty = Table.read_table('poverty.csv')\n",
    "poverty.show(10)"
   ]
  },
  {
   "cell_type": "markdown",
   "metadata": {},
   "source": [
    "**Question 1.** Assign `latest_poverty` to a three-column table with one row for each country that appears in the `poverty` table. The first column should contain the 3-letter code for the country. The second column should contain the most recent year for which an extreme poverty rate is available for the country. The third column should contain the poverty rate in that year. **Do not change the last line, so that the labels of your table are set correctly.**\n",
    "\n",
    "*Hint*: think about how ```group``` works: it does a sequential search of the table (from top to bottom) and collects values in the array in the order in which they appear, and then applies a function to that array. The `first` function may be helpful, but you are not required to use it.\n"
   ]
  },
  {
   "cell_type": "code",
   "execution_count": 17,
   "metadata": {
    "deletable": false,
    "tags": []
   },
   "outputs": [
    {
     "data": {
      "text/html": [
       "<table border=\"1\" class=\"dataframe\">\n",
       "    <thead>\n",
       "        <tr>\n",
       "            <th>geo</th> <th>time max</th>\n",
       "        </tr>\n",
       "    </thead>\n",
       "    <tbody>\n",
       "        <tr>\n",
       "            <td>ago </td> <td>2009    </td>\n",
       "        </tr>\n",
       "        <tr>\n",
       "            <td>alb </td> <td>2012    </td>\n",
       "        </tr>\n",
       "        <tr>\n",
       "            <td>arg </td> <td>2011    </td>\n",
       "        </tr>\n",
       "        <tr>\n",
       "            <td>arm </td> <td>2012    </td>\n",
       "        </tr>\n",
       "        <tr>\n",
       "            <td>aus </td> <td>2003    </td>\n",
       "        </tr>\n",
       "        <tr>\n",
       "            <td>aut </td> <td>2004    </td>\n",
       "        </tr>\n",
       "        <tr>\n",
       "            <td>aze </td> <td>2008    </td>\n",
       "        </tr>\n",
       "        <tr>\n",
       "            <td>bdi </td> <td>2006    </td>\n",
       "        </tr>\n",
       "        <tr>\n",
       "            <td>bel </td> <td>2000    </td>\n",
       "        </tr>\n",
       "        <tr>\n",
       "            <td>ben </td> <td>2012    </td>\n",
       "        </tr>\n",
       "    </tbody>\n",
       "</table>\n",
       "<p>... (135 rows omitted)</p>"
      ],
      "text/plain": [
       "geo  | time max\n",
       "ago  | 2009\n",
       "alb  | 2012\n",
       "arg  | 2011\n",
       "arm  | 2012\n",
       "aus  | 2003\n",
       "aut  | 2004\n",
       "aze  | 2008\n",
       "bdi  | 2006\n",
       "bel  | 2000\n",
       "ben  | 2012\n",
       "... (135 rows omitted)"
      ]
     },
     "execution_count": 17,
     "metadata": {},
     "output_type": "execute_result"
    }
   ],
   "source": [
    "def first(values):\n",
    "    return values.item(0)\n",
    "\n",
    "latest_poverty = poverty.group(\"geo\", np.max).drop(\"count\").drop(\"extreme_poverty_percent_people_below_125_a_day max\")\n",
    "# print(latest_poverty)\n",
    "# latest_poverty = latest_poverty.relabeled(0, 'geo').relabeled(1, 'time').relabeled(2, 'poverty_percent') # You should *not* change this line.\n",
    "latest_poverty"
   ]
  },
  {
   "cell_type": "code",
   "execution_count": 11,
   "metadata": {
    "deletable": false,
    "editable": false
   },
   "outputs": [
    {
     "data": {
      "text/html": [
       "<p><strong><pre style='display: inline;'>q2_1</pre></strong> passed! 🚀</p>"
      ],
      "text/plain": [
       "q2_1 results: All test cases passed!"
      ]
     },
     "execution_count": 11,
     "metadata": {},
     "output_type": "execute_result"
    }
   ],
   "source": [
    "grader.check(\"q2_1\")"
   ]
  },
  {
   "cell_type": "markdown",
   "metadata": {},
   "source": [
    "**Question 2.** Using both `latest_poverty` and `population`, create a four-column table called `recent_poverty_total` with one row for each country in `latest_poverty`. The four columns should have the following labels and contents:\n",
    "1. `geo` contains the 3-letter country code,\n",
    "1. `poverty_percent` contains the most recent poverty percent,\n",
    "1. `population_total` contains the population of the country in 2010,\n",
    "1. `poverty_total` contains the number of people in poverty **rounded to the nearest integer**, based on the 2010 population and most recent poverty rate.\n",
    "\n",
    "*Hint*: You are not required to use `poverty_and_pop`, and you are always welcome to add any additional names. "
   ]
  },
  {
   "cell_type": "code",
   "execution_count": 89,
   "metadata": {
    "deletable": false,
    "tags": []
   },
   "outputs": [
    {
     "data": {
      "text/html": [
       "<table border=\"1\" class=\"dataframe\">\n",
       "    <thead>\n",
       "        <tr>\n",
       "            <th>geo</th> <th>poverty_percent</th> <th>population_total</th> <th>poverty_total</th>\n",
       "        </tr>\n",
       "    </thead>\n",
       "    <tbody>\n",
       "        <tr>\n",
       "            <td>chn </td> <td>84.27          </td> <td>1368810604      </td> <td>1.1535e+09   </td>\n",
       "        </tr>\n",
       "        <tr>\n",
       "            <td>ind </td> <td>65.89          </td> <td>1234281163      </td> <td>8.13268e+08  </td>\n",
       "        </tr>\n",
       "        <tr>\n",
       "            <td>idn </td> <td>68.16          </td> <td>241834226       </td> <td>1.64834e+08  </td>\n",
       "        </tr>\n",
       "        <tr>\n",
       "            <td>pak </td> <td>66.46          </td> <td>179424643       </td> <td>1.19246e+08  </td>\n",
       "        </tr>\n",
       "        <tr>\n",
       "            <td>nga </td> <td>68.65          </td> <td>158503203       </td> <td>1.08812e+08  </td>\n",
       "        </tr>\n",
       "        <tr>\n",
       "            <td>bgd </td> <td>71.61          </td> <td>147575433       </td> <td>1.05679e+08  </td>\n",
       "        </tr>\n",
       "        <tr>\n",
       "            <td>eth </td> <td>69.12          </td> <td>87639962        </td> <td>6.05767e+07  </td>\n",
       "        </tr>\n",
       "        <tr>\n",
       "            <td>cod </td> <td>87.72          </td> <td>64563853        </td> <td>5.66354e+07  </td>\n",
       "        </tr>\n",
       "        <tr>\n",
       "            <td>vnm </td> <td>63.76          </td> <td>87967655        </td> <td>5.60882e+07  </td>\n",
       "        </tr>\n",
       "        <tr>\n",
       "            <td>tza </td> <td>84.23          </td> <td>44346532        </td> <td>3.73531e+07  </td>\n",
       "        </tr>\n",
       "    </tbody>\n",
       "</table>\n",
       "<p>... (135 rows omitted)</p>"
      ],
      "text/plain": [
       "geo  | poverty_percent | population_total | poverty_total\n",
       "chn  | 84.27           | 1368810604       | 1.1535e+09\n",
       "ind  | 65.89           | 1234281163       | 8.13268e+08\n",
       "idn  | 68.16           | 241834226        | 1.64834e+08\n",
       "pak  | 66.46           | 179424643        | 1.19246e+08\n",
       "nga  | 68.65           | 158503203        | 1.08812e+08\n",
       "bgd  | 71.61           | 147575433        | 1.05679e+08\n",
       "eth  | 69.12           | 87639962         | 6.05767e+07\n",
       "cod  | 87.72           | 64563853         | 5.66354e+07\n",
       "vnm  | 63.76           | 87967655         | 5.60882e+07\n",
       "tza  | 84.23           | 44346532         | 3.73531e+07\n",
       "... (135 rows omitted)"
      ]
     },
     "execution_count": 89,
     "metadata": {},
     "output_type": "execute_result"
    }
   ],
   "source": [
    "# print(population)\n",
    "population2010 = population.where(\"time\", are.equal_to(2010)).drop('time')\n",
    "# print(population2010)\n",
    "poverty_and_pop = latest_poverty.join(\"geo\", population2010,\"geo\").drop(\"time\")\n",
    "# print(poverty_and_pop)\n",
    "povertyperc = np.round((poverty_and_pop.column('population_total')) * (poverty_and_pop.column(\"poverty_percent\")/100))\n",
    "# print(povertyperc)\n",
    "recent_poverty_total = poverty_and_pop.with_column(\"poverty_total\", povertyperc).sort(\"poverty_total\", descending=True)\n",
    "recent_poverty_total"
   ]
  },
  {
   "cell_type": "code",
   "execution_count": 40,
   "metadata": {
    "deletable": false,
    "editable": false
   },
   "outputs": [
    {
     "data": {
      "text/html": [
       "<p><strong><pre style='display: inline;'>q2_2</pre></strong> passed! 🌟</p>"
      ],
      "text/plain": [
       "q2_2 results: All test cases passed!"
      ]
     },
     "execution_count": 40,
     "metadata": {},
     "output_type": "execute_result"
    }
   ],
   "source": [
    "grader.check(\"q2_2\")"
   ]
  },
  {
   "cell_type": "markdown",
   "metadata": {},
   "source": [
    "**Question 3.** Assign the name `poverty_percent` to the known percentage of the world’s 2010 population that were living in extreme poverty. Assume that the `poverty_total` numbers in the `recent_poverty_total` table describe **all** people in 2010 living in extreme poverty. You should get a number that is above the 2018 global estimate of 9%, since many country-specific poverty rates are older than 2018.\n",
    "\n",
    "*Hint*: The sum of the `population_total` column in the `recent_poverty_total` table is not the world population, because only a subset of the world's countries are included in the `recent_poverty_total` table (only some countries have known poverty rates). Use the `population` table to compute the world's 2010 total population.\n",
    "\n",
    "*Hint*: We are computing a percentage (value between 0 and 100), not a proportion (value between 0 and 1).\n"
   ]
  },
  {
   "cell_type": "code",
   "execution_count": 53,
   "metadata": {
    "deletable": false,
    "tags": []
   },
   "outputs": [
    {
     "data": {
      "text/plain": [
       "11.494955262224368"
      ]
     },
     "execution_count": 53,
     "metadata": {},
     "output_type": "execute_result"
    }
   ],
   "source": [
    "poverty_percent = sum(recent_poverty_total.column(\"poverty_total\"))*.25 / sum(population2010.column(\"population_total\"))*100\n",
    "poverty_percent"
   ]
  },
  {
   "cell_type": "code",
   "execution_count": 54,
   "metadata": {
    "deletable": false,
    "editable": false
   },
   "outputs": [
    {
     "data": {
      "text/html": [
       "<p><strong><pre style='display: inline;'>q2_3</pre></strong> passed! 🌟</p>"
      ],
      "text/plain": [
       "q2_3 results: All test cases passed!"
      ]
     },
     "execution_count": 54,
     "metadata": {},
     "output_type": "execute_result"
    }
   ],
   "source": [
    "grader.check(\"q2_3\")"
   ]
  },
  {
   "cell_type": "markdown",
   "metadata": {
    "deletable": false,
    "editable": false
   },
   "source": [
    "The `countries` table includes not only the name and region of countries, but also their positions on the globe."
   ]
  },
  {
   "cell_type": "code",
   "execution_count": 61,
   "metadata": {
    "deletable": false,
    "editable": false
   },
   "outputs": [],
   "source": [
    "countries1 = countries.select('country', 'name', 'world_4region', 'latitude', 'longitude')"
   ]
  },
  {
   "cell_type": "markdown",
   "metadata": {},
   "source": [
    "**Question 4.** Using both `countries` and `recent_poverty_total`, create a five-column table called `poverty_map` with one row for every country in `recent_poverty_total`.  The five columns should have the following labels and contents, in this order:\n",
    "1. `latitude` contains the country's latitude,\n",
    "1. `longitude` contains the country's longitude,\n",
    "1. `name` contains the country's name,\n",
    "1. `region` contains the country's region from the `world_4region` column of `countries`,\n",
    "1. `poverty_total` contains the country's poverty total.\n"
   ]
  },
  {
   "cell_type": "code",
   "execution_count": 72,
   "metadata": {
    "deletable": false,
    "tags": []
   },
   "outputs": [
    {
     "data": {
      "text/html": [
       "<table border=\"1\" class=\"dataframe\">\n",
       "    <thead>\n",
       "        <tr>\n",
       "            <th>latitude</th> <th>longitude</th> <th>name</th> <th>region</th> <th>poverty_total</th>\n",
       "        </tr>\n",
       "    </thead>\n",
       "    <tbody>\n",
       "        <tr>\n",
       "            <td>-12.5   </td> <td>18.5     </td> <td>Angola    </td> <td>africa  </td> <td>1.26848e+07  </td>\n",
       "        </tr>\n",
       "        <tr>\n",
       "            <td>41      </td> <td>20       </td> <td>Albania   </td> <td>europe  </td> <td>21521        </td>\n",
       "        </tr>\n",
       "        <tr>\n",
       "            <td>-34     </td> <td>-64      </td> <td>Argentina </td> <td>americas</td> <td>5.14468e+06  </td>\n",
       "        </tr>\n",
       "        <tr>\n",
       "            <td>40.25   </td> <td>45       </td> <td>Armenia   </td> <td>europe  </td> <td>541798       </td>\n",
       "        </tr>\n",
       "        <tr>\n",
       "            <td>-25     </td> <td>135      </td> <td>Australia </td> <td>asia    </td> <td>301304       </td>\n",
       "        </tr>\n",
       "        <tr>\n",
       "            <td>47.3333 </td> <td>13.3333  </td> <td>Austria   </td> <td>europe  </td> <td>84099        </td>\n",
       "        </tr>\n",
       "        <tr>\n",
       "            <td>40.5    </td> <td>47.5     </td> <td>Azerbaijan</td> <td>europe  </td> <td>2.27889e+06  </td>\n",
       "        </tr>\n",
       "        <tr>\n",
       "            <td>-3.5    </td> <td>30       </td> <td>Burundi   </td> <td>africa  </td> <td>7.49833e+06  </td>\n",
       "        </tr>\n",
       "        <tr>\n",
       "            <td>50.75   </td> <td>4.5      </td> <td>Belgium   </td> <td>europe  </td> <td>90792        </td>\n",
       "        </tr>\n",
       "        <tr>\n",
       "            <td>9.5     </td> <td>2.25     </td> <td>Benin     </td> <td>africa  </td> <td>4.74774e+06  </td>\n",
       "        </tr>\n",
       "    </tbody>\n",
       "</table>\n",
       "<p>... (135 rows omitted)</p>"
      ],
      "text/plain": [
       "latitude | longitude | name       | region   | poverty_total\n",
       "-12.5    | 18.5      | Angola     | africa   | 1.26848e+07\n",
       "41       | 20        | Albania    | europe   | 21521\n",
       "-34      | -64       | Argentina  | americas | 5.14468e+06\n",
       "40.25    | 45        | Armenia    | europe   | 541798\n",
       "-25      | 135       | Australia  | asia     | 301304\n",
       "47.3333  | 13.3333   | Austria    | europe   | 84099\n",
       "40.5     | 47.5      | Azerbaijan | europe   | 2.27889e+06\n",
       "-3.5     | 30        | Burundi    | africa   | 7.49833e+06\n",
       "50.75    | 4.5       | Belgium    | europe   | 90792\n",
       "9.5      | 2.25      | Benin      | africa   | 4.74774e+06\n",
       "... (135 rows omitted)"
      ]
     },
     "execution_count": 72,
     "metadata": {},
     "output_type": "execute_result"
    }
   ],
   "source": [
    "poverty_map = countries1.join(\"country\", recent_poverty_total, \"geo\").relabel(\"world_4region\", \"region\").select(\"latitude\", \"longitude\", \"name\", \"region\", \"poverty_total\")\n",
    "poverty_map"
   ]
  },
  {
   "cell_type": "code",
   "execution_count": 73,
   "metadata": {
    "deletable": false,
    "editable": false
   },
   "outputs": [
    {
     "data": {
      "text/html": [
       "<p><strong><pre style='display: inline;'>q2_4</pre></strong> passed! 🌟</p>"
      ],
      "text/plain": [
       "q2_4 results: All test cases passed!"
      ]
     },
     "execution_count": 73,
     "metadata": {},
     "output_type": "execute_result"
    }
   ],
   "source": [
    "grader.check(\"q2_4\")"
   ]
  },
  {
   "cell_type": "markdown",
   "metadata": {
    "deletable": false,
    "editable": false
   },
   "source": [
    "Run the cell below to draw a map of the world in which the areas of circles represent the number of people living in extreme poverty. Double-click on the map to zoom in.\n",
    "\n",
    "> ***Note:*** If the cell below isn't loading, you can view the output [here](https://github.jonathanferrari.com/static/poverty_map.html)"
   ]
  },
  {
   "cell_type": "code",
   "execution_count": 74,
   "metadata": {
    "deletable": false,
    "editable": false,
    "scrolled": true
   },
   "outputs": [
    {
     "data": {
      "text/html": [
       "<div style=\"width:100%;\"><div style=\"position:relative;width:100%;height:0;padding-bottom:60%;\"><span style=\"color:#565656\">Make this Notebook Trusted to load map: File -> Trust Notebook</span><iframe srcdoc=\"&lt;!DOCTYPE html&gt;\n",
       "&lt;html&gt;\n",
       "&lt;head&gt;\n",
       "    \n",
       "    &lt;meta http-equiv=&quot;content-type&quot; content=&quot;text/html; charset=UTF-8&quot; /&gt;\n",
       "    \n",
       "        &lt;script&gt;\n",
       "            L_NO_TOUCH = false;\n",
       "            L_DISABLE_3D = false;\n",
       "        &lt;/script&gt;\n",
       "    \n",
       "    &lt;style&gt;html, body {width: 100%;height: 100%;margin: 0;padding: 0;}&lt;/style&gt;\n",
       "    &lt;style&gt;#map {position:absolute;top:0;bottom:0;right:0;left:0;}&lt;/style&gt;\n",
       "    &lt;script src=&quot;https://cdn.jsdelivr.net/npm/leaflet@1.9.3/dist/leaflet.js&quot;&gt;&lt;/script&gt;\n",
       "    &lt;script src=&quot;https://code.jquery.com/jquery-3.7.1.min.js&quot;&gt;&lt;/script&gt;\n",
       "    &lt;script src=&quot;https://cdn.jsdelivr.net/npm/bootstrap@5.2.2/dist/js/bootstrap.bundle.min.js&quot;&gt;&lt;/script&gt;\n",
       "    &lt;script src=&quot;https://cdnjs.cloudflare.com/ajax/libs/Leaflet.awesome-markers/2.0.2/leaflet.awesome-markers.js&quot;&gt;&lt;/script&gt;\n",
       "    &lt;link rel=&quot;stylesheet&quot; href=&quot;https://cdn.jsdelivr.net/npm/leaflet@1.9.3/dist/leaflet.css&quot;/&gt;\n",
       "    &lt;link rel=&quot;stylesheet&quot; href=&quot;https://cdn.jsdelivr.net/npm/bootstrap@5.2.2/dist/css/bootstrap.min.css&quot;/&gt;\n",
       "    &lt;link rel=&quot;stylesheet&quot; href=&quot;https://netdna.bootstrapcdn.com/bootstrap/3.0.0/css/bootstrap-glyphicons.css&quot;/&gt;\n",
       "    &lt;link rel=&quot;stylesheet&quot; href=&quot;https://cdn.jsdelivr.net/npm/@fortawesome/fontawesome-free@6.2.0/css/all.min.css&quot;/&gt;\n",
       "    &lt;link rel=&quot;stylesheet&quot; href=&quot;https://cdnjs.cloudflare.com/ajax/libs/Leaflet.awesome-markers/2.0.2/leaflet.awesome-markers.css&quot;/&gt;\n",
       "    &lt;link rel=&quot;stylesheet&quot; href=&quot;https://cdn.jsdelivr.net/gh/python-visualization/folium/folium/templates/leaflet.awesome.rotate.min.css&quot;/&gt;\n",
       "    \n",
       "            &lt;meta name=&quot;viewport&quot; content=&quot;width=device-width,\n",
       "                initial-scale=1.0, maximum-scale=1.0, user-scalable=no&quot; /&gt;\n",
       "            &lt;style&gt;\n",
       "                #map_adbf39b066471cb007ce6ebdf5bfea73 {\n",
       "                    position: relative;\n",
       "                    width: 960.0px;\n",
       "                    height: 500.0px;\n",
       "                    left: 0.0%;\n",
       "                    top: 0.0%;\n",
       "                }\n",
       "                .leaflet-container { font-size: 1rem; }\n",
       "            &lt;/style&gt;\n",
       "        \n",
       "&lt;/head&gt;\n",
       "&lt;body&gt;\n",
       "    \n",
       "    \n",
       "            &lt;div class=&quot;folium-map&quot; id=&quot;map_adbf39b066471cb007ce6ebdf5bfea73&quot; &gt;&lt;/div&gt;\n",
       "        \n",
       "&lt;/body&gt;\n",
       "&lt;script&gt;\n",
       "    \n",
       "    \n",
       "            var map_adbf39b066471cb007ce6ebdf5bfea73 = L.map(\n",
       "                &quot;map_adbf39b066471cb007ce6ebdf5bfea73&quot;,\n",
       "                {\n",
       "                    center: [15.0, 32.17871],\n",
       "                    crs: L.CRS.EPSG3857,\n",
       "                    zoom: 1,\n",
       "                    zoomControl: true,\n",
       "                    preferCanvas: false,\n",
       "                    clusteredMarker: false,\n",
       "                    includeColorScaleOutliers: true,\n",
       "                    radiusInMeters: false,\n",
       "                }\n",
       "            );\n",
       "\n",
       "            \n",
       "\n",
       "        \n",
       "    \n",
       "            var tile_layer_6cd1eeea06d8c64a76dd1fd22a3311af = L.tileLayer(\n",
       "                &quot;https://tile.openstreetmap.org/{z}/{x}/{y}.png&quot;,\n",
       "                {&quot;attribution&quot;: &quot;\\u0026copy; \\u003ca href=\\&quot;https://www.openstreetmap.org/copyright\\&quot;\\u003eOpenStreetMap\\u003c/a\\u003e contributors&quot;, &quot;detectRetina&quot;: false, &quot;maxNativeZoom&quot;: 19, &quot;maxZoom&quot;: 17, &quot;minZoom&quot;: -1, &quot;noWrap&quot;: false, &quot;opacity&quot;: 1, &quot;subdomains&quot;: &quot;abc&quot;, &quot;tms&quot;: false}\n",
       "            );\n",
       "        \n",
       "    \n",
       "            tile_layer_6cd1eeea06d8c64a76dd1fd22a3311af.addTo(map_adbf39b066471cb007ce6ebdf5bfea73);\n",
       "        \n",
       "    \n",
       "            var circle_marker_107815b18e0b252af331d19f48cfe51b = L.circleMarker(\n",
       "                [-12.5, 18.5],\n",
       "                {&quot;bubblingMouseEvents&quot;: true, &quot;color&quot;: &quot;blue&quot;, &quot;dashArray&quot;: null, &quot;dashOffset&quot;: null, &quot;fill&quot;: true, &quot;fillColor&quot;: &quot;blue&quot;, &quot;fillOpacity&quot;: 0.2, &quot;fillRule&quot;: &quot;evenodd&quot;, &quot;lineCap&quot;: &quot;round&quot;, &quot;lineJoin&quot;: &quot;round&quot;, &quot;opacity&quot;: 1.0, &quot;radius&quot;: 20.094004681612503, &quot;stroke&quot;: true, &quot;weight&quot;: 3}\n",
       "            ).addTo(map_adbf39b066471cb007ce6ebdf5bfea73);\n",
       "        \n",
       "    \n",
       "        var popup_48369a4936177181f2bfca01535bfed4 = L.popup({&quot;maxWidth&quot;: &quot;100%&quot;});\n",
       "\n",
       "        \n",
       "            \n",
       "                var html_912731b470a30afb3bdcdc6ad545ad0e = $(`&lt;div id=&quot;html_912731b470a30afb3bdcdc6ad545ad0e&quot; style=&quot;width: 100.0%; height: 100.0%;&quot;&gt;Angola&lt;/div&gt;`)[0];\n",
       "                popup_48369a4936177181f2bfca01535bfed4.setContent(html_912731b470a30afb3bdcdc6ad545ad0e);\n",
       "            \n",
       "        \n",
       "\n",
       "        circle_marker_107815b18e0b252af331d19f48cfe51b.bindPopup(popup_48369a4936177181f2bfca01535bfed4)\n",
       "        ;\n",
       "\n",
       "        \n",
       "    \n",
       "    \n",
       "            var circle_marker_0571d08e011c75ae1a0326ca33710839 = L.circleMarker(\n",
       "                [41.0, 20.0],\n",
       "                {&quot;bubblingMouseEvents&quot;: true, &quot;color&quot;: &quot;black&quot;, &quot;dashArray&quot;: null, &quot;dashOffset&quot;: null, &quot;fill&quot;: true, &quot;fillColor&quot;: &quot;black&quot;, &quot;fillOpacity&quot;: 0.2, &quot;fillRule&quot;: &quot;evenodd&quot;, &quot;lineCap&quot;: &quot;round&quot;, &quot;lineJoin&quot;: &quot;round&quot;, &quot;opacity&quot;: 1.0, &quot;radius&quot;: 0.8276682342920597, &quot;stroke&quot;: true, &quot;weight&quot;: 3}\n",
       "            ).addTo(map_adbf39b066471cb007ce6ebdf5bfea73);\n",
       "        \n",
       "    \n",
       "        var popup_ac7d19d47dcec2e4bc073bedcf6f6d32 = L.popup({&quot;maxWidth&quot;: &quot;100%&quot;});\n",
       "\n",
       "        \n",
       "            \n",
       "                var html_d383f4109e4dbdcf2c3b5b987e65bb59 = $(`&lt;div id=&quot;html_d383f4109e4dbdcf2c3b5b987e65bb59&quot; style=&quot;width: 100.0%; height: 100.0%;&quot;&gt;Albania&lt;/div&gt;`)[0];\n",
       "                popup_ac7d19d47dcec2e4bc073bedcf6f6d32.setContent(html_d383f4109e4dbdcf2c3b5b987e65bb59);\n",
       "            \n",
       "        \n",
       "\n",
       "        circle_marker_0571d08e011c75ae1a0326ca33710839.bindPopup(popup_ac7d19d47dcec2e4bc073bedcf6f6d32)\n",
       "        ;\n",
       "\n",
       "        \n",
       "    \n",
       "    \n",
       "            var circle_marker_57470e2e15e797940525b1f1be4e67b3 = L.circleMarker(\n",
       "                [-34.0, -64.0],\n",
       "                {&quot;bubblingMouseEvents&quot;: true, &quot;color&quot;: &quot;green&quot;, &quot;dashArray&quot;: null, &quot;dashOffset&quot;: null, &quot;fill&quot;: true, &quot;fillColor&quot;: &quot;green&quot;, &quot;fillOpacity&quot;: 0.2, &quot;fillRule&quot;: &quot;evenodd&quot;, &quot;lineCap&quot;: &quot;round&quot;, &quot;lineJoin&quot;: &quot;round&quot;, &quot;opacity&quot;: 1.0, &quot;radius&quot;: 12.796890625466231, &quot;stroke&quot;: true, &quot;weight&quot;: 3}\n",
       "            ).addTo(map_adbf39b066471cb007ce6ebdf5bfea73);\n",
       "        \n",
       "    \n",
       "        var popup_0cc49f9535c8330cfe53453b191665f2 = L.popup({&quot;maxWidth&quot;: &quot;100%&quot;});\n",
       "\n",
       "        \n",
       "            \n",
       "                var html_8369abb81228b16a2381a36e21c38349 = $(`&lt;div id=&quot;html_8369abb81228b16a2381a36e21c38349&quot; style=&quot;width: 100.0%; height: 100.0%;&quot;&gt;Argentina&lt;/div&gt;`)[0];\n",
       "                popup_0cc49f9535c8330cfe53453b191665f2.setContent(html_8369abb81228b16a2381a36e21c38349);\n",
       "            \n",
       "        \n",
       "\n",
       "        circle_marker_57470e2e15e797940525b1f1be4e67b3.bindPopup(popup_0cc49f9535c8330cfe53453b191665f2)\n",
       "        ;\n",
       "\n",
       "        \n",
       "    \n",
       "    \n",
       "            var circle_marker_c568f22b8c4345ab7b9778abacf77590 = L.circleMarker(\n",
       "                [40.25, 45.0],\n",
       "                {&quot;bubblingMouseEvents&quot;: true, &quot;color&quot;: &quot;black&quot;, &quot;dashArray&quot;: null, &quot;dashOffset&quot;: null, &quot;fill&quot;: true, &quot;fillColor&quot;: &quot;black&quot;, &quot;fillOpacity&quot;: 0.2, &quot;fillRule&quot;: &quot;evenodd&quot;, &quot;lineCap&quot;: &quot;round&quot;, &quot;lineJoin&quot;: &quot;round&quot;, &quot;opacity&quot;: 1.0, &quot;radius&quot;: 4.152826263096078, &quot;stroke&quot;: true, &quot;weight&quot;: 3}\n",
       "            ).addTo(map_adbf39b066471cb007ce6ebdf5bfea73);\n",
       "        \n",
       "    \n",
       "        var popup_d933878cc6f113e960bb7d1c9cb0854a = L.popup({&quot;maxWidth&quot;: &quot;100%&quot;});\n",
       "\n",
       "        \n",
       "            \n",
       "                var html_e63a8e886b9cea1a95857a71376db144 = $(`&lt;div id=&quot;html_e63a8e886b9cea1a95857a71376db144&quot; style=&quot;width: 100.0%; height: 100.0%;&quot;&gt;Armenia&lt;/div&gt;`)[0];\n",
       "                popup_d933878cc6f113e960bb7d1c9cb0854a.setContent(html_e63a8e886b9cea1a95857a71376db144);\n",
       "            \n",
       "        \n",
       "\n",
       "        circle_marker_c568f22b8c4345ab7b9778abacf77590.bindPopup(popup_d933878cc6f113e960bb7d1c9cb0854a)\n",
       "        ;\n",
       "\n",
       "        \n",
       "    \n",
       "    \n",
       "            var circle_marker_4021421acdfc9e9763bd0362f7208d76 = L.circleMarker(\n",
       "                [-25.0, 135.0],\n",
       "                {&quot;bubblingMouseEvents&quot;: true, &quot;color&quot;: &quot;red&quot;, &quot;dashArray&quot;: null, &quot;dashOffset&quot;: null, &quot;fill&quot;: true, &quot;fillColor&quot;: &quot;red&quot;, &quot;fillOpacity&quot;: 0.2, &quot;fillRule&quot;: &quot;evenodd&quot;, &quot;lineCap&quot;: &quot;round&quot;, &quot;lineJoin&quot;: &quot;round&quot;, &quot;opacity&quot;: 1.0, &quot;radius&quot;: 3.0969023547202914, &quot;stroke&quot;: true, &quot;weight&quot;: 3}\n",
       "            ).addTo(map_adbf39b066471cb007ce6ebdf5bfea73);\n",
       "        \n",
       "    \n",
       "        var popup_760f78081bcc4cd6633a4cba1d7fcb3b = L.popup({&quot;maxWidth&quot;: &quot;100%&quot;});\n",
       "\n",
       "        \n",
       "            \n",
       "                var html_c29b85388727354471b2dfd3ac1a82e6 = $(`&lt;div id=&quot;html_c29b85388727354471b2dfd3ac1a82e6&quot; style=&quot;width: 100.0%; height: 100.0%;&quot;&gt;Australia&lt;/div&gt;`)[0];\n",
       "                popup_760f78081bcc4cd6633a4cba1d7fcb3b.setContent(html_c29b85388727354471b2dfd3ac1a82e6);\n",
       "            \n",
       "        \n",
       "\n",
       "        circle_marker_4021421acdfc9e9763bd0362f7208d76.bindPopup(popup_760f78081bcc4cd6633a4cba1d7fcb3b)\n",
       "        ;\n",
       "\n",
       "        \n",
       "    \n",
       "    \n",
       "            var circle_marker_1e00132c941a897ffd46cb05661141a1 = L.circleMarker(\n",
       "                [47.33333, 13.33333],\n",
       "                {&quot;bubblingMouseEvents&quot;: true, &quot;color&quot;: &quot;black&quot;, &quot;dashArray&quot;: null, &quot;dashOffset&quot;: null, &quot;fill&quot;: true, &quot;fillColor&quot;: &quot;black&quot;, &quot;fillOpacity&quot;: 0.2, &quot;fillRule&quot;: &quot;evenodd&quot;, &quot;lineCap&quot;: &quot;round&quot;, &quot;lineJoin&quot;: &quot;round&quot;, &quot;opacity&quot;: 1.0, &quot;radius&quot;: 1.636140064852964, &quot;stroke&quot;: true, &quot;weight&quot;: 3}\n",
       "            ).addTo(map_adbf39b066471cb007ce6ebdf5bfea73);\n",
       "        \n",
       "    \n",
       "        var popup_f0f06ea53e35cd97d1b75f8b09c568ed = L.popup({&quot;maxWidth&quot;: &quot;100%&quot;});\n",
       "\n",
       "        \n",
       "            \n",
       "                var html_d8b85a1cbf98e4a4073b351cd6d7b14f = $(`&lt;div id=&quot;html_d8b85a1cbf98e4a4073b351cd6d7b14f&quot; style=&quot;width: 100.0%; height: 100.0%;&quot;&gt;Austria&lt;/div&gt;`)[0];\n",
       "                popup_f0f06ea53e35cd97d1b75f8b09c568ed.setContent(html_d8b85a1cbf98e4a4073b351cd6d7b14f);\n",
       "            \n",
       "        \n",
       "\n",
       "        circle_marker_1e00132c941a897ffd46cb05661141a1.bindPopup(popup_f0f06ea53e35cd97d1b75f8b09c568ed)\n",
       "        ;\n",
       "\n",
       "        \n",
       "    \n",
       "    \n",
       "            var circle_marker_612bada770c1fd2c4e32fb12ca7142f3 = L.circleMarker(\n",
       "                [40.5, 47.5],\n",
       "                {&quot;bubblingMouseEvents&quot;: true, &quot;color&quot;: &quot;black&quot;, &quot;dashArray&quot;: null, &quot;dashOffset&quot;: null, &quot;fill&quot;: true, &quot;fillColor&quot;: &quot;black&quot;, &quot;fillOpacity&quot;: 0.2, &quot;fillRule&quot;: &quot;evenodd&quot;, &quot;lineCap&quot;: &quot;round&quot;, &quot;lineJoin&quot;: &quot;round&quot;, &quot;opacity&quot;: 1.0, &quot;radius&quot;: 8.517003785576621, &quot;stroke&quot;: true, &quot;weight&quot;: 3}\n",
       "            ).addTo(map_adbf39b066471cb007ce6ebdf5bfea73);\n",
       "        \n",
       "    \n",
       "        var popup_1ef6ebd0aa50c9ef9c7a8252e1501b41 = L.popup({&quot;maxWidth&quot;: &quot;100%&quot;});\n",
       "\n",
       "        \n",
       "            \n",
       "                var html_a5ef4c33f6f6a13734743176a25cdc67 = $(`&lt;div id=&quot;html_a5ef4c33f6f6a13734743176a25cdc67&quot; style=&quot;width: 100.0%; height: 100.0%;&quot;&gt;Azerbaijan&lt;/div&gt;`)[0];\n",
       "                popup_1ef6ebd0aa50c9ef9c7a8252e1501b41.setContent(html_a5ef4c33f6f6a13734743176a25cdc67);\n",
       "            \n",
       "        \n",
       "\n",
       "        circle_marker_612bada770c1fd2c4e32fb12ca7142f3.bindPopup(popup_1ef6ebd0aa50c9ef9c7a8252e1501b41)\n",
       "        ;\n",
       "\n",
       "        \n",
       "    \n",
       "    \n",
       "            var circle_marker_218460de04f0f3b701f39f740e4a813c = L.circleMarker(\n",
       "                [-3.5, 30.0],\n",
       "                {&quot;bubblingMouseEvents&quot;: true, &quot;color&quot;: &quot;blue&quot;, &quot;dashArray&quot;: null, &quot;dashOffset&quot;: null, &quot;fill&quot;: true, &quot;fillColor&quot;: &quot;blue&quot;, &quot;fillOpacity&quot;: 0.2, &quot;fillRule&quot;: &quot;evenodd&quot;, &quot;lineCap&quot;: &quot;round&quot;, &quot;lineJoin&quot;: &quot;round&quot;, &quot;opacity&quot;: 1.0, &quot;radius&quot;: 15.449243656661508, &quot;stroke&quot;: true, &quot;weight&quot;: 3}\n",
       "            ).addTo(map_adbf39b066471cb007ce6ebdf5bfea73);\n",
       "        \n",
       "    \n",
       "        var popup_bf2e9e957b0594334a4ddc50b224bf73 = L.popup({&quot;maxWidth&quot;: &quot;100%&quot;});\n",
       "\n",
       "        \n",
       "            \n",
       "                var html_e34554c62ef4e811c529302b995c1352 = $(`&lt;div id=&quot;html_e34554c62ef4e811c529302b995c1352&quot; style=&quot;width: 100.0%; height: 100.0%;&quot;&gt;Burundi&lt;/div&gt;`)[0];\n",
       "                popup_bf2e9e957b0594334a4ddc50b224bf73.setContent(html_e34554c62ef4e811c529302b995c1352);\n",
       "            \n",
       "        \n",
       "\n",
       "        circle_marker_218460de04f0f3b701f39f740e4a813c.bindPopup(popup_bf2e9e957b0594334a4ddc50b224bf73)\n",
       "        ;\n",
       "\n",
       "        \n",
       "    \n",
       "    \n",
       "            var circle_marker_29e22231837a72b87b4b91d9b71d30ed = L.circleMarker(\n",
       "                [50.75, 4.5],\n",
       "                {&quot;bubblingMouseEvents&quot;: true, &quot;color&quot;: &quot;black&quot;, &quot;dashArray&quot;: null, &quot;dashOffset&quot;: null, &quot;fill&quot;: true, &quot;fillColor&quot;: &quot;black&quot;, &quot;fillOpacity&quot;: 0.2, &quot;fillRule&quot;: &quot;evenodd&quot;, &quot;lineCap&quot;: &quot;round&quot;, &quot;lineJoin&quot;: &quot;round&quot;, &quot;opacity&quot;: 1.0, &quot;radius&quot;: 1.6999997407764134, &quot;stroke&quot;: true, &quot;weight&quot;: 3}\n",
       "            ).addTo(map_adbf39b066471cb007ce6ebdf5bfea73);\n",
       "        \n",
       "    \n",
       "        var popup_2329a862331549b810cfc358bd4417ba = L.popup({&quot;maxWidth&quot;: &quot;100%&quot;});\n",
       "\n",
       "        \n",
       "            \n",
       "                var html_1c1104d5db6504fd66fa3b1dec02a2af = $(`&lt;div id=&quot;html_1c1104d5db6504fd66fa3b1dec02a2af&quot; style=&quot;width: 100.0%; height: 100.0%;&quot;&gt;Belgium&lt;/div&gt;`)[0];\n",
       "                popup_2329a862331549b810cfc358bd4417ba.setContent(html_1c1104d5db6504fd66fa3b1dec02a2af);\n",
       "            \n",
       "        \n",
       "\n",
       "        circle_marker_29e22231837a72b87b4b91d9b71d30ed.bindPopup(popup_2329a862331549b810cfc358bd4417ba)\n",
       "        ;\n",
       "\n",
       "        \n",
       "    \n",
       "    \n",
       "            var circle_marker_b7c41db0bc9898dae05d619e50ba86a5 = L.circleMarker(\n",
       "                [9.5, 2.25],\n",
       "                {&quot;bubblingMouseEvents&quot;: true, &quot;color&quot;: &quot;blue&quot;, &quot;dashArray&quot;: null, &quot;dashOffset&quot;: null, &quot;fill&quot;: true, &quot;fillColor&quot;: &quot;blue&quot;, &quot;fillOpacity&quot;: 0.2, &quot;fillRule&quot;: &quot;evenodd&quot;, &quot;lineCap&quot;: &quot;round&quot;, &quot;lineJoin&quot;: &quot;round&quot;, &quot;opacity&quot;: 1.0, &quot;radius&quot;: 12.293294869483931, &quot;stroke&quot;: true, &quot;weight&quot;: 3}\n",
       "            ).addTo(map_adbf39b066471cb007ce6ebdf5bfea73);\n",
       "        \n",
       "    \n",
       "        var popup_67ebd67c34a40aa15e8bdd8daaf59871 = L.popup({&quot;maxWidth&quot;: &quot;100%&quot;});\n",
       "\n",
       "        \n",
       "            \n",
       "                var html_ac72d9e581ef4b95fbd5681e65717bd9 = $(`&lt;div id=&quot;html_ac72d9e581ef4b95fbd5681e65717bd9&quot; style=&quot;width: 100.0%; height: 100.0%;&quot;&gt;Benin&lt;/div&gt;`)[0];\n",
       "                popup_67ebd67c34a40aa15e8bdd8daaf59871.setContent(html_ac72d9e581ef4b95fbd5681e65717bd9);\n",
       "            \n",
       "        \n",
       "\n",
       "        circle_marker_b7c41db0bc9898dae05d619e50ba86a5.bindPopup(popup_67ebd67c34a40aa15e8bdd8daaf59871)\n",
       "        ;\n",
       "\n",
       "        \n",
       "    \n",
       "    \n",
       "            var circle_marker_96e69eea1654cb75c8c63e3350c46304 = L.circleMarker(\n",
       "                [12.5, -1.66667],\n",
       "                {&quot;bubblingMouseEvents&quot;: true, &quot;color&quot;: &quot;blue&quot;, &quot;dashArray&quot;: null, &quot;dashOffset&quot;: null, &quot;fill&quot;: true, &quot;fillColor&quot;: &quot;blue&quot;, &quot;fillOpacity&quot;: 0.2, &quot;fillRule&quot;: &quot;evenodd&quot;, &quot;lineCap&quot;: &quot;round&quot;, &quot;lineJoin&quot;: &quot;round&quot;, &quot;opacity&quot;: 1.0, &quot;radius&quot;: 18.802187343288324, &quot;stroke&quot;: true, &quot;weight&quot;: 3}\n",
       "            ).addTo(map_adbf39b066471cb007ce6ebdf5bfea73);\n",
       "        \n",
       "    \n",
       "        var popup_8442222ae23a47f561d35ef70beb2c4a = L.popup({&quot;maxWidth&quot;: &quot;100%&quot;});\n",
       "\n",
       "        \n",
       "            \n",
       "                var html_33d3f1d7c720486a5413500fe2814e28 = $(`&lt;div id=&quot;html_33d3f1d7c720486a5413500fe2814e28&quot; style=&quot;width: 100.0%; height: 100.0%;&quot;&gt;Burkina Faso&lt;/div&gt;`)[0];\n",
       "                popup_8442222ae23a47f561d35ef70beb2c4a.setContent(html_33d3f1d7c720486a5413500fe2814e28);\n",
       "            \n",
       "        \n",
       "\n",
       "        circle_marker_96e69eea1654cb75c8c63e3350c46304.bindPopup(popup_8442222ae23a47f561d35ef70beb2c4a)\n",
       "        ;\n",
       "\n",
       "        \n",
       "    \n",
       "    \n",
       "            var circle_marker_99806623902ea5435048c1107655a3ee = L.circleMarker(\n",
       "                [24.0, 90.0],\n",
       "                {&quot;bubblingMouseEvents&quot;: true, &quot;color&quot;: &quot;red&quot;, &quot;dashArray&quot;: null, &quot;dashOffset&quot;: null, &quot;fill&quot;: true, &quot;fillColor&quot;: &quot;red&quot;, &quot;fillOpacity&quot;: 0.2, &quot;fillRule&quot;: &quot;evenodd&quot;, &quot;lineCap&quot;: &quot;round&quot;, &quot;lineJoin&quot;: &quot;round&quot;, &quot;opacity&quot;: 1.0, &quot;radius&quot;: 57.99879017197102, &quot;stroke&quot;: true, &quot;weight&quot;: 3}\n",
       "            ).addTo(map_adbf39b066471cb007ce6ebdf5bfea73);\n",
       "        \n",
       "    \n",
       "        var popup_1d5021ee1a4852abd88e76d90a993fb6 = L.popup({&quot;maxWidth&quot;: &quot;100%&quot;});\n",
       "\n",
       "        \n",
       "            \n",
       "                var html_b7922f24f45b4ee9d3e950c10bc296b2 = $(`&lt;div id=&quot;html_b7922f24f45b4ee9d3e950c10bc296b2&quot; style=&quot;width: 100.0%; height: 100.0%;&quot;&gt;Bangladesh&lt;/div&gt;`)[0];\n",
       "                popup_1d5021ee1a4852abd88e76d90a993fb6.setContent(html_b7922f24f45b4ee9d3e950c10bc296b2);\n",
       "            \n",
       "        \n",
       "\n",
       "        circle_marker_99806623902ea5435048c1107655a3ee.bindPopup(popup_1d5021ee1a4852abd88e76d90a993fb6)\n",
       "        ;\n",
       "\n",
       "        \n",
       "    \n",
       "    \n",
       "            var circle_marker_b82c3fb1210b3fc3880bccfcb01c29a1 = L.circleMarker(\n",
       "                [42.66667, 25.25],\n",
       "                {&quot;bubblingMouseEvents&quot;: true, &quot;color&quot;: &quot;black&quot;, &quot;dashArray&quot;: null, &quot;dashOffset&quot;: null, &quot;fill&quot;: true, &quot;fillColor&quot;: &quot;black&quot;, &quot;fillOpacity&quot;: 0.2, &quot;fillRule&quot;: &quot;evenodd&quot;, &quot;lineCap&quot;: &quot;round&quot;, &quot;lineJoin&quot;: &quot;round&quot;, &quot;opacity&quot;: 1.0, &quot;radius&quot;: 2.2384181732685806, &quot;stroke&quot;: true, &quot;weight&quot;: 3}\n",
       "            ).addTo(map_adbf39b066471cb007ce6ebdf5bfea73);\n",
       "        \n",
       "    \n",
       "        var popup_d9d883ed5959e97bdea92c887497844f = L.popup({&quot;maxWidth&quot;: &quot;100%&quot;});\n",
       "\n",
       "        \n",
       "            \n",
       "                var html_33a52958b3aef3a5729fcbfbbe1f8569 = $(`&lt;div id=&quot;html_33a52958b3aef3a5729fcbfbbe1f8569&quot; style=&quot;width: 100.0%; height: 100.0%;&quot;&gt;Bulgaria&lt;/div&gt;`)[0];\n",
       "                popup_d9d883ed5959e97bdea92c887497844f.setContent(html_33a52958b3aef3a5729fcbfbbe1f8569);\n",
       "            \n",
       "        \n",
       "\n",
       "        circle_marker_b82c3fb1210b3fc3880bccfcb01c29a1.bindPopup(popup_d9d883ed5959e97bdea92c887497844f)\n",
       "        ;\n",
       "\n",
       "        \n",
       "    \n",
       "    \n",
       "            var circle_marker_bccfbd87043057a4d1fc4461507b8f27 = L.circleMarker(\n",
       "                [44.25, 17.83333],\n",
       "                {&quot;bubblingMouseEvents&quot;: true, &quot;color&quot;: &quot;black&quot;, &quot;dashArray&quot;: null, &quot;dashOffset&quot;: null, &quot;fill&quot;: true, &quot;fillColor&quot;: &quot;black&quot;, &quot;fillOpacity&quot;: 0.2, &quot;fillRule&quot;: &quot;evenodd&quot;, &quot;lineCap&quot;: &quot;round&quot;, &quot;lineJoin&quot;: &quot;round&quot;, &quot;opacity&quot;: 1.0, &quot;radius&quot;: 0.5746707813310877, &quot;stroke&quot;: true, &quot;weight&quot;: 3}\n",
       "            ).addTo(map_adbf39b066471cb007ce6ebdf5bfea73);\n",
       "        \n",
       "    \n",
       "        var popup_fbadcc3d340727a6131438170b1d77a2 = L.popup({&quot;maxWidth&quot;: &quot;100%&quot;});\n",
       "\n",
       "        \n",
       "            \n",
       "                var html_f54dd696e87a9b4fc58b466ad50655ea = $(`&lt;div id=&quot;html_f54dd696e87a9b4fc58b466ad50655ea&quot; style=&quot;width: 100.0%; height: 100.0%;&quot;&gt;Bosnia and Herzegovina&lt;/div&gt;`)[0];\n",
       "                popup_fbadcc3d340727a6131438170b1d77a2.setContent(html_f54dd696e87a9b4fc58b466ad50655ea);\n",
       "            \n",
       "        \n",
       "\n",
       "        circle_marker_bccfbd87043057a4d1fc4461507b8f27.bindPopup(popup_fbadcc3d340727a6131438170b1d77a2)\n",
       "        ;\n",
       "\n",
       "        \n",
       "    \n",
       "    \n",
       "            var circle_marker_44631b84e8cf315267d40d428f4293d2 = L.circleMarker(\n",
       "                [53.0, 28.0],\n",
       "                {&quot;bubblingMouseEvents&quot;: true, &quot;color&quot;: &quot;black&quot;, &quot;dashArray&quot;: null, &quot;dashOffset&quot;: null, &quot;fill&quot;: true, &quot;fillColor&quot;: &quot;black&quot;, &quot;fillOpacity&quot;: 0.2, &quot;fillRule&quot;: &quot;evenodd&quot;, &quot;lineCap&quot;: &quot;round&quot;, &quot;lineJoin&quot;: &quot;round&quot;, &quot;opacity&quot;: 1.0, &quot;radius&quot;: 1.5870984916942588, &quot;stroke&quot;: true, &quot;weight&quot;: 3}\n",
       "            ).addTo(map_adbf39b066471cb007ce6ebdf5bfea73);\n",
       "        \n",
       "    \n",
       "        var popup_d27e8ac803f30d55d81caabe1bfbf6bd = L.popup({&quot;maxWidth&quot;: &quot;100%&quot;});\n",
       "\n",
       "        \n",
       "            \n",
       "                var html_db55977e8b9cd857e101460cb5591eac = $(`&lt;div id=&quot;html_db55977e8b9cd857e101460cb5591eac&quot; style=&quot;width: 100.0%; height: 100.0%;&quot;&gt;Belarus&lt;/div&gt;`)[0];\n",
       "                popup_d27e8ac803f30d55d81caabe1bfbf6bd.setContent(html_db55977e8b9cd857e101460cb5591eac);\n",
       "            \n",
       "        \n",
       "\n",
       "        circle_marker_44631b84e8cf315267d40d428f4293d2.bindPopup(popup_d27e8ac803f30d55d81caabe1bfbf6bd)\n",
       "        ;\n",
       "\n",
       "        \n",
       "    \n",
       "    \n",
       "            var circle_marker_37cc341a0672b59ea2e8489621c47ec5 = L.circleMarker(\n",
       "                [17.49952, -88.19756],\n",
       "                {&quot;bubblingMouseEvents&quot;: true, &quot;color&quot;: &quot;green&quot;, &quot;dashArray&quot;: null, &quot;dashOffset&quot;: null, &quot;fill&quot;: true, &quot;fillColor&quot;: &quot;green&quot;, &quot;fillOpacity&quot;: 0.2, &quot;fillRule&quot;: &quot;evenodd&quot;, &quot;lineCap&quot;: &quot;round&quot;, &quot;lineJoin&quot;: &quot;round&quot;, &quot;opacity&quot;: 1.0, &quot;radius&quot;: 1.200040660591426, &quot;stroke&quot;: true, &quot;weight&quot;: 3}\n",
       "            ).addTo(map_adbf39b066471cb007ce6ebdf5bfea73);\n",
       "        \n",
       "    \n",
       "        var popup_0e03c34c25c776ebbf88bf2b1062c53d = L.popup({&quot;maxWidth&quot;: &quot;100%&quot;});\n",
       "\n",
       "        \n",
       "            \n",
       "                var html_258893380d37690a3fa7625f783c26e5 = $(`&lt;div id=&quot;html_258893380d37690a3fa7625f783c26e5&quot; style=&quot;width: 100.0%; height: 100.0%;&quot;&gt;Belize&lt;/div&gt;`)[0];\n",
       "                popup_0e03c34c25c776ebbf88bf2b1062c53d.setContent(html_258893380d37690a3fa7625f783c26e5);\n",
       "            \n",
       "        \n",
       "\n",
       "        circle_marker_37cc341a0672b59ea2e8489621c47ec5.bindPopup(popup_0e03c34c25c776ebbf88bf2b1062c53d)\n",
       "        ;\n",
       "\n",
       "        \n",
       "    \n",
       "    \n",
       "            var circle_marker_9872d4245751ac3a89c128d62f0f5b86 = L.circleMarker(\n",
       "                [-17.0, -65.0],\n",
       "                {&quot;bubblingMouseEvents&quot;: true, &quot;color&quot;: &quot;green&quot;, &quot;dashArray&quot;: null, &quot;dashOffset&quot;: null, &quot;fill&quot;: true, &quot;fillColor&quot;: &quot;green&quot;, &quot;fillOpacity&quot;: 0.2, &quot;fillRule&quot;: &quot;evenodd&quot;, &quot;lineCap&quot;: &quot;round&quot;, &quot;lineJoin&quot;: &quot;round&quot;, &quot;opacity&quot;: 1.0, &quot;radius&quot;: 9.270680420927222, &quot;stroke&quot;: true, &quot;weight&quot;: 3}\n",
       "            ).addTo(map_adbf39b066471cb007ce6ebdf5bfea73);\n",
       "        \n",
       "    \n",
       "        var popup_f6f8d6b215d239adeb84450fc5da4376 = L.popup({&quot;maxWidth&quot;: &quot;100%&quot;});\n",
       "\n",
       "        \n",
       "            \n",
       "                var html_b8c425edf76ecd7ab43ba4830e8c0acc = $(`&lt;div id=&quot;html_b8c425edf76ecd7ab43ba4830e8c0acc&quot; style=&quot;width: 100.0%; height: 100.0%;&quot;&gt;Bolivia&lt;/div&gt;`)[0];\n",
       "                popup_f6f8d6b215d239adeb84450fc5da4376.setContent(html_b8c425edf76ecd7ab43ba4830e8c0acc);\n",
       "            \n",
       "        \n",
       "\n",
       "        circle_marker_9872d4245751ac3a89c128d62f0f5b86.bindPopup(popup_f6f8d6b215d239adeb84450fc5da4376)\n",
       "        ;\n",
       "\n",
       "        \n",
       "    \n",
       "    \n",
       "            var circle_marker_a48665097b51043c5d40925879055487 = L.circleMarker(\n",
       "                [-10.0, -55.0],\n",
       "                {&quot;bubblingMouseEvents&quot;: true, &quot;color&quot;: &quot;green&quot;, &quot;dashArray&quot;: null, &quot;dashOffset&quot;: null, &quot;fill&quot;: true, &quot;fillColor&quot;: &quot;green&quot;, &quot;fillOpacity&quot;: 0.2, &quot;fillRule&quot;: &quot;evenodd&quot;, &quot;lineCap&quot;: &quot;round&quot;, &quot;lineJoin&quot;: &quot;round&quot;, &quot;opacity&quot;: 1.0, &quot;radius&quot;: 32.2547619133685, &quot;stroke&quot;: true, &quot;weight&quot;: 3}\n",
       "            ).addTo(map_adbf39b066471cb007ce6ebdf5bfea73);\n",
       "        \n",
       "    \n",
       "        var popup_342c80f91d57221e7fa7058122d4e896 = L.popup({&quot;maxWidth&quot;: &quot;100%&quot;});\n",
       "\n",
       "        \n",
       "            \n",
       "                var html_d47c099cb341ec074eb006b78039c365 = $(`&lt;div id=&quot;html_d47c099cb341ec074eb006b78039c365&quot; style=&quot;width: 100.0%; height: 100.0%;&quot;&gt;Brazil&lt;/div&gt;`)[0];\n",
       "                popup_342c80f91d57221e7fa7058122d4e896.setContent(html_d47c099cb341ec074eb006b78039c365);\n",
       "            \n",
       "        \n",
       "\n",
       "        circle_marker_a48665097b51043c5d40925879055487.bindPopup(popup_342c80f91d57221e7fa7058122d4e896)\n",
       "        ;\n",
       "\n",
       "        \n",
       "    \n",
       "    \n",
       "            var circle_marker_54779f8e117f0fd012b9114f37ccec42 = L.circleMarker(\n",
       "                [27.5, 90.5],\n",
       "                {&quot;bubblingMouseEvents&quot;: true, &quot;color&quot;: &quot;red&quot;, &quot;dashArray&quot;: null, &quot;dashOffset&quot;: null, &quot;fill&quot;: true, &quot;fillColor&quot;: &quot;red&quot;, &quot;fillOpacity&quot;: 0.2, &quot;fillRule&quot;: &quot;evenodd&quot;, &quot;lineCap&quot;: &quot;round&quot;, &quot;lineJoin&quot;: &quot;round&quot;, &quot;opacity&quot;: 1.0, &quot;radius&quot;: 2.286506627284139, &quot;stroke&quot;: true, &quot;weight&quot;: 3}\n",
       "            ).addTo(map_adbf39b066471cb007ce6ebdf5bfea73);\n",
       "        \n",
       "    \n",
       "        var popup_b83783e6488f1c2e5b31753d50ab36db = L.popup({&quot;maxWidth&quot;: &quot;100%&quot;});\n",
       "\n",
       "        \n",
       "            \n",
       "                var html_58cb0ca3660475de9b9c259fbf72c40c = $(`&lt;div id=&quot;html_58cb0ca3660475de9b9c259fbf72c40c&quot; style=&quot;width: 100.0%; height: 100.0%;&quot;&gt;Bhutan&lt;/div&gt;`)[0];\n",
       "                popup_b83783e6488f1c2e5b31753d50ab36db.setContent(html_58cb0ca3660475de9b9c259fbf72c40c);\n",
       "            \n",
       "        \n",
       "\n",
       "        circle_marker_54779f8e117f0fd012b9114f37ccec42.bindPopup(popup_b83783e6488f1c2e5b31753d50ab36db)\n",
       "        ;\n",
       "\n",
       "        \n",
       "    \n",
       "    \n",
       "            var circle_marker_2e9764d4020f6a34a9974bdbf51aa1f3 = L.circleMarker(\n",
       "                [-22.0, 24.0],\n",
       "                {&quot;bubblingMouseEvents&quot;: true, &quot;color&quot;: &quot;blue&quot;, &quot;dashArray&quot;: null, &quot;dashOffset&quot;: null, &quot;fill&quot;: true, &quot;fillColor&quot;: &quot;blue&quot;, &quot;fillOpacity&quot;: 0.2, &quot;fillRule&quot;: &quot;evenodd&quot;, &quot;lineCap&quot;: &quot;round&quot;, &quot;lineJoin&quot;: &quot;round&quot;, &quot;opacity&quot;: 1.0, &quot;radius&quot;: 4.745931119840866, &quot;stroke&quot;: true, &quot;weight&quot;: 3}\n",
       "            ).addTo(map_adbf39b066471cb007ce6ebdf5bfea73);\n",
       "        \n",
       "    \n",
       "        var popup_b2c1c250df4a3e02831fef2698f8eed2 = L.popup({&quot;maxWidth&quot;: &quot;100%&quot;});\n",
       "\n",
       "        \n",
       "            \n",
       "                var html_e0e79ee737b84d44ef76a6534c1a81e9 = $(`&lt;div id=&quot;html_e0e79ee737b84d44ef76a6534c1a81e9&quot; style=&quot;width: 100.0%; height: 100.0%;&quot;&gt;Botswana&lt;/div&gt;`)[0];\n",
       "                popup_b2c1c250df4a3e02831fef2698f8eed2.setContent(html_e0e79ee737b84d44ef76a6534c1a81e9);\n",
       "            \n",
       "        \n",
       "\n",
       "        circle_marker_2e9764d4020f6a34a9974bdbf51aa1f3.bindPopup(popup_b2c1c250df4a3e02831fef2698f8eed2)\n",
       "        ;\n",
       "\n",
       "        \n",
       "    \n",
       "    \n",
       "            var circle_marker_97ebfe6397dd4c637309f1ced990f552 = L.circleMarker(\n",
       "                [7.0, 21.0],\n",
       "                {&quot;bubblingMouseEvents&quot;: true, &quot;color&quot;: &quot;blue&quot;, &quot;dashArray&quot;: null, &quot;dashOffset&quot;: null, &quot;fill&quot;: true, &quot;fillColor&quot;: &quot;blue&quot;, &quot;fillOpacity&quot;: 0.2, &quot;fillRule&quot;: &quot;evenodd&quot;, &quot;lineCap&quot;: &quot;round&quot;, &quot;lineJoin&quot;: &quot;round&quot;, &quot;opacity&quot;: 1.0, &quot;radius&quot;: 10.775275167226885, &quot;stroke&quot;: true, &quot;weight&quot;: 3}\n",
       "            ).addTo(map_adbf39b066471cb007ce6ebdf5bfea73);\n",
       "        \n",
       "    \n",
       "        var popup_3538e9d2fba91cbb077835e1ffcdfc0e = L.popup({&quot;maxWidth&quot;: &quot;100%&quot;});\n",
       "\n",
       "        \n",
       "            \n",
       "                var html_7f4f1e4cc0e87b867b6a1d73c8b390ec = $(`&lt;div id=&quot;html_7f4f1e4cc0e87b867b6a1d73c8b390ec&quot; style=&quot;width: 100.0%; height: 100.0%;&quot;&gt;Central African Republic&lt;/div&gt;`)[0];\n",
       "                popup_3538e9d2fba91cbb077835e1ffcdfc0e.setContent(html_7f4f1e4cc0e87b867b6a1d73c8b390ec);\n",
       "            \n",
       "        \n",
       "\n",
       "        circle_marker_97ebfe6397dd4c637309f1ced990f552.bindPopup(popup_3538e9d2fba91cbb077835e1ffcdfc0e)\n",
       "        ;\n",
       "\n",
       "        \n",
       "    \n",
       "    \n",
       "            var circle_marker_d2c87e126b6be1efd7cc359111193142 = L.circleMarker(\n",
       "                [60.10867, -113.64258],\n",
       "                {&quot;bubblingMouseEvents&quot;: true, &quot;color&quot;: &quot;green&quot;, &quot;dashArray&quot;: null, &quot;dashOffset&quot;: null, &quot;fill&quot;: true, &quot;fillColor&quot;: &quot;green&quot;, &quot;fillOpacity&quot;: 0.2, &quot;fillRule&quot;: &quot;evenodd&quot;, &quot;lineCap&quot;: &quot;round&quot;, &quot;lineJoin&quot;: &quot;round&quot;, &quot;opacity&quot;: 1.0, &quot;radius&quot;: 2.7186855371950385, &quot;stroke&quot;: true, &quot;weight&quot;: 3}\n",
       "            ).addTo(map_adbf39b066471cb007ce6ebdf5bfea73);\n",
       "        \n",
       "    \n",
       "        var popup_6cb172bd3c3e5e53ad57dd9334c11abb = L.popup({&quot;maxWidth&quot;: &quot;100%&quot;});\n",
       "\n",
       "        \n",
       "            \n",
       "                var html_f5fd33c1ad2a05917ca74de384102dd4 = $(`&lt;div id=&quot;html_f5fd33c1ad2a05917ca74de384102dd4&quot; style=&quot;width: 100.0%; height: 100.0%;&quot;&gt;Canada&lt;/div&gt;`)[0];\n",
       "                popup_6cb172bd3c3e5e53ad57dd9334c11abb.setContent(html_f5fd33c1ad2a05917ca74de384102dd4);\n",
       "            \n",
       "        \n",
       "\n",
       "        circle_marker_d2c87e126b6be1efd7cc359111193142.bindPopup(popup_6cb172bd3c3e5e53ad57dd9334c11abb)\n",
       "        ;\n",
       "\n",
       "        \n",
       "    \n",
       "    \n",
       "            var circle_marker_b154f13601b59dfca4847022ff1a50d5 = L.circleMarker(\n",
       "                [47.00016, 8.01427],\n",
       "                {&quot;bubblingMouseEvents&quot;: true, &quot;color&quot;: &quot;black&quot;, &quot;dashArray&quot;: null, &quot;dashOffset&quot;: null, &quot;fill&quot;: true, &quot;fillColor&quot;: &quot;black&quot;, &quot;fillOpacity&quot;: 0.2, &quot;fillRule&quot;: &quot;evenodd&quot;, &quot;lineCap&quot;: &quot;round&quot;, &quot;lineJoin&quot;: &quot;round&quot;, &quot;opacity&quot;: 1.0, &quot;radius&quot;: 2.8812914017085194, &quot;stroke&quot;: true, &quot;weight&quot;: 3}\n",
       "            ).addTo(map_adbf39b066471cb007ce6ebdf5bfea73);\n",
       "        \n",
       "    \n",
       "        var popup_83bc36415341a7c37f3a71e6e290a65e = L.popup({&quot;maxWidth&quot;: &quot;100%&quot;});\n",
       "\n",
       "        \n",
       "            \n",
       "                var html_684207800e45003601c4867db8a5b6f2 = $(`&lt;div id=&quot;html_684207800e45003601c4867db8a5b6f2&quot; style=&quot;width: 100.0%; height: 100.0%;&quot;&gt;Switzerland&lt;/div&gt;`)[0];\n",
       "                popup_83bc36415341a7c37f3a71e6e290a65e.setContent(html_684207800e45003601c4867db8a5b6f2);\n",
       "            \n",
       "        \n",
       "\n",
       "        circle_marker_b154f13601b59dfca4847022ff1a50d5.bindPopup(popup_83bc36415341a7c37f3a71e6e290a65e)\n",
       "        ;\n",
       "\n",
       "        \n",
       "    \n",
       "    \n",
       "            var circle_marker_142be40ec06aec78c933c4e4b9508d0a = L.circleMarker(\n",
       "                [-33.45694, -70.64827],\n",
       "                {&quot;bubblingMouseEvents&quot;: true, &quot;color&quot;: &quot;green&quot;, &quot;dashArray&quot;: null, &quot;dashOffset&quot;: null, &quot;fill&quot;: true, &quot;fillColor&quot;: &quot;green&quot;, &quot;fillOpacity&quot;: 0.2, &quot;fillRule&quot;: &quot;evenodd&quot;, &quot;lineCap&quot;: &quot;round&quot;, &quot;lineJoin&quot;: &quot;round&quot;, &quot;opacity&quot;: 1.0, &quot;radius&quot;: 5.612557863705337, &quot;stroke&quot;: true, &quot;weight&quot;: 3}\n",
       "            ).addTo(map_adbf39b066471cb007ce6ebdf5bfea73);\n",
       "        \n",
       "    \n",
       "        var popup_8858d49da98b3c68fa7a5f6441209327 = L.popup({&quot;maxWidth&quot;: &quot;100%&quot;});\n",
       "\n",
       "        \n",
       "            \n",
       "                var html_ab919eed9b52a309b0bf7fa1130d6379 = $(`&lt;div id=&quot;html_ab919eed9b52a309b0bf7fa1130d6379&quot; style=&quot;width: 100.0%; height: 100.0%;&quot;&gt;Chile&lt;/div&gt;`)[0];\n",
       "                popup_8858d49da98b3c68fa7a5f6441209327.setContent(html_ab919eed9b52a309b0bf7fa1130d6379);\n",
       "            \n",
       "        \n",
       "\n",
       "        circle_marker_142be40ec06aec78c933c4e4b9508d0a.bindPopup(popup_8858d49da98b3c68fa7a5f6441209327)\n",
       "        ;\n",
       "\n",
       "        \n",
       "    \n",
       "    \n",
       "            var circle_marker_3624f9a668eeb333089779e273a090d3 = L.circleMarker(\n",
       "                [35.0, 105.0],\n",
       "                {&quot;bubblingMouseEvents&quot;: true, &quot;color&quot;: &quot;red&quot;, &quot;dashArray&quot;: null, &quot;dashOffset&quot;: null, &quot;fill&quot;: true, &quot;fillColor&quot;: &quot;red&quot;, &quot;fillOpacity&quot;: 0.2, &quot;fillRule&quot;: &quot;evenodd&quot;, &quot;lineCap&quot;: &quot;round&quot;, &quot;lineJoin&quot;: &quot;round&quot;, &quot;opacity&quot;: 1.0, &quot;radius&quot;: 191.61664907234407, &quot;stroke&quot;: true, &quot;weight&quot;: 3}\n",
       "            ).addTo(map_adbf39b066471cb007ce6ebdf5bfea73);\n",
       "        \n",
       "    \n",
       "        var popup_cf3afe10f04e656cc078e70fe8e06bdd = L.popup({&quot;maxWidth&quot;: &quot;100%&quot;});\n",
       "\n",
       "        \n",
       "            \n",
       "                var html_a3790a24c9ce80e4c3c7efa8cc5e0ecb = $(`&lt;div id=&quot;html_a3790a24c9ce80e4c3c7efa8cc5e0ecb&quot; style=&quot;width: 100.0%; height: 100.0%;&quot;&gt;China&lt;/div&gt;`)[0];\n",
       "                popup_cf3afe10f04e656cc078e70fe8e06bdd.setContent(html_a3790a24c9ce80e4c3c7efa8cc5e0ecb);\n",
       "            \n",
       "        \n",
       "\n",
       "        circle_marker_3624f9a668eeb333089779e273a090d3.bindPopup(popup_cf3afe10f04e656cc078e70fe8e06bdd)\n",
       "        ;\n",
       "\n",
       "        \n",
       "    \n",
       "    \n",
       "            var circle_marker_57b2a274e4bfcca48980ecd27edad7a8 = L.circleMarker(\n",
       "                [8.0, -5.5],\n",
       "                {&quot;bubblingMouseEvents&quot;: true, &quot;color&quot;: &quot;blue&quot;, &quot;dashArray&quot;: null, &quot;dashOffset&quot;: null, &quot;fill&quot;: true, &quot;fillColor&quot;: &quot;blue&quot;, &quot;fillOpacity&quot;: 0.2, &quot;fillRule&quot;: &quot;evenodd&quot;, &quot;lineCap&quot;: &quot;round&quot;, &quot;lineJoin&quot;: &quot;round&quot;, &quot;opacity&quot;: 1.0, &quot;radius&quot;: 15.133268463096499, &quot;stroke&quot;: true, &quot;weight&quot;: 3}\n",
       "            ).addTo(map_adbf39b066471cb007ce6ebdf5bfea73);\n",
       "        \n",
       "    \n",
       "        var popup_ef20d422e2569357d463fd200a516a09 = L.popup({&quot;maxWidth&quot;: &quot;100%&quot;});\n",
       "\n",
       "        \n",
       "            \n",
       "                var html_28921315909302212f63b63b0721b58a = $(`&lt;div id=&quot;html_28921315909302212f63b63b0721b58a&quot; style=&quot;width: 100.0%; height: 100.0%;&quot;&gt;Cote d&#x27;Ivoire&lt;/div&gt;`)[0];\n",
       "                popup_ef20d422e2569357d463fd200a516a09.setContent(html_28921315909302212f63b63b0721b58a);\n",
       "            \n",
       "        \n",
       "\n",
       "        circle_marker_57b2a274e4bfcca48980ecd27edad7a8.bindPopup(popup_ef20d422e2569357d463fd200a516a09)\n",
       "        ;\n",
       "\n",
       "        \n",
       "    \n",
       "    \n",
       "            var circle_marker_285e2ebbc12ca9df5a3fe932f48b1cdd = L.circleMarker(\n",
       "                [6.0, 12.5],\n",
       "                {&quot;bubblingMouseEvents&quot;: true, &quot;color&quot;: &quot;blue&quot;, &quot;dashArray&quot;: null, &quot;dashOffset&quot;: null, &quot;fill&quot;: true, &quot;fillColor&quot;: &quot;blue&quot;, &quot;fillOpacity&quot;: 0.2, &quot;fillRule&quot;: &quot;evenodd&quot;, &quot;lineCap&quot;: &quot;round&quot;, &quot;lineJoin&quot;: &quot;round&quot;, &quot;opacity&quot;: 1.0, &quot;radius&quot;: 17.524284290088747, &quot;stroke&quot;: true, &quot;weight&quot;: 3}\n",
       "            ).addTo(map_adbf39b066471cb007ce6ebdf5bfea73);\n",
       "        \n",
       "    \n",
       "        var popup_d188bf95ba35b9916d5c2a5a7c1b8797 = L.popup({&quot;maxWidth&quot;: &quot;100%&quot;});\n",
       "\n",
       "        \n",
       "            \n",
       "                var html_2d582a7abd004b7a0cd3e69038d18232 = $(`&lt;div id=&quot;html_2d582a7abd004b7a0cd3e69038d18232&quot; style=&quot;width: 100.0%; height: 100.0%;&quot;&gt;Cameroon&lt;/div&gt;`)[0];\n",
       "                popup_d188bf95ba35b9916d5c2a5a7c1b8797.setContent(html_2d582a7abd004b7a0cd3e69038d18232);\n",
       "            \n",
       "        \n",
       "\n",
       "        circle_marker_285e2ebbc12ca9df5a3fe932f48b1cdd.bindPopup(popup_d188bf95ba35b9916d5c2a5a7c1b8797)\n",
       "        ;\n",
       "\n",
       "        \n",
       "    \n",
       "    \n",
       "            var circle_marker_b7aad709b9250985a2905c9b24e335f2 = L.circleMarker(\n",
       "                [-2.5, 23.5],\n",
       "                {&quot;bubblingMouseEvents&quot;: true, &quot;color&quot;: &quot;blue&quot;, &quot;dashArray&quot;: null, &quot;dashOffset&quot;: null, &quot;fill&quot;: true, &quot;fillColor&quot;: &quot;blue&quot;, &quot;fillOpacity&quot;: 0.2, &quot;fillRule&quot;: &quot;evenodd&quot;, &quot;lineCap&quot;: &quot;round&quot;, &quot;lineJoin&quot;: &quot;round&quot;, &quot;opacity&quot;: 1.0, &quot;radius&quot;: 42.45893492268982, &quot;stroke&quot;: true, &quot;weight&quot;: 3}\n",
       "            ).addTo(map_adbf39b066471cb007ce6ebdf5bfea73);\n",
       "        \n",
       "    \n",
       "        var popup_435c7cb1b49e6ca25d4924b4038c7a30 = L.popup({&quot;maxWidth&quot;: &quot;100%&quot;});\n",
       "\n",
       "        \n",
       "            \n",
       "                var html_a0e873ede4e67d737a219c744907591c = $(`&lt;div id=&quot;html_a0e873ede4e67d737a219c744907591c&quot; style=&quot;width: 100.0%; height: 100.0%;&quot;&gt;Congo, Dem. Rep.&lt;/div&gt;`)[0];\n",
       "                popup_435c7cb1b49e6ca25d4924b4038c7a30.setContent(html_a0e873ede4e67d737a219c744907591c);\n",
       "            \n",
       "        \n",
       "\n",
       "        circle_marker_b7aad709b9250985a2905c9b24e335f2.bindPopup(popup_435c7cb1b49e6ca25d4924b4038c7a30)\n",
       "        ;\n",
       "\n",
       "        \n",
       "    \n",
       "    \n",
       "            var circle_marker_239679c482d7d3159bf537ae516fce02 = L.circleMarker(\n",
       "                [-1.0, 15.5],\n",
       "                {&quot;bubblingMouseEvents&quot;: true, &quot;color&quot;: &quot;blue&quot;, &quot;dashArray&quot;: null, &quot;dashOffset&quot;: null, &quot;fill&quot;: true, &quot;fillColor&quot;: &quot;blue&quot;, &quot;fillOpacity&quot;: 0.2, &quot;fillRule&quot;: &quot;evenodd&quot;, &quot;lineCap&quot;: &quot;round&quot;, &quot;lineJoin&quot;: &quot;round&quot;, &quot;opacity&quot;: 1.0, &quot;radius&quot;: 8.57882125566475, &quot;stroke&quot;: true, &quot;weight&quot;: 3}\n",
       "            ).addTo(map_adbf39b066471cb007ce6ebdf5bfea73);\n",
       "        \n",
       "    \n",
       "        var popup_af514ed2dcc92303337e229c4946ae14 = L.popup({&quot;maxWidth&quot;: &quot;100%&quot;});\n",
       "\n",
       "        \n",
       "            \n",
       "                var html_0a13021abe84e8815dfc3c34672c668d = $(`&lt;div id=&quot;html_0a13021abe84e8815dfc3c34672c668d&quot; style=&quot;width: 100.0%; height: 100.0%;&quot;&gt;Congo, Rep.&lt;/div&gt;`)[0];\n",
       "                popup_af514ed2dcc92303337e229c4946ae14.setContent(html_0a13021abe84e8815dfc3c34672c668d);\n",
       "            \n",
       "        \n",
       "\n",
       "        circle_marker_239679c482d7d3159bf537ae516fce02.bindPopup(popup_af514ed2dcc92303337e229c4946ae14)\n",
       "        ;\n",
       "\n",
       "        \n",
       "    \n",
       "    \n",
       "            var circle_marker_016241d7fa6c818711c18d67fd459ed7 = L.circleMarker(\n",
       "                [4.0, -73.25],\n",
       "                {&quot;bubblingMouseEvents&quot;: true, &quot;color&quot;: &quot;green&quot;, &quot;dashArray&quot;: null, &quot;dashOffset&quot;: null, &quot;fill&quot;: true, &quot;fillColor&quot;: &quot;green&quot;, &quot;fillOpacity&quot;: 0.2, &quot;fillRule&quot;: &quot;evenodd&quot;, &quot;lineCap&quot;: &quot;round&quot;, &quot;lineJoin&quot;: &quot;round&quot;, &quot;opacity&quot;: 1.0, &quot;radius&quot;: 16.034079370740933, &quot;stroke&quot;: true, &quot;weight&quot;: 3}\n",
       "            ).addTo(map_adbf39b066471cb007ce6ebdf5bfea73);\n",
       "        \n",
       "    \n",
       "        var popup_d14cde1f97613bc84671dbf3c7126607 = L.popup({&quot;maxWidth&quot;: &quot;100%&quot;});\n",
       "\n",
       "        \n",
       "            \n",
       "                var html_9a28c9cbacddd1d7ed64e10cf4ca9fb3 = $(`&lt;div id=&quot;html_9a28c9cbacddd1d7ed64e10cf4ca9fb3&quot; style=&quot;width: 100.0%; height: 100.0%;&quot;&gt;Colombia&lt;/div&gt;`)[0];\n",
       "                popup_d14cde1f97613bc84671dbf3c7126607.setContent(html_9a28c9cbacddd1d7ed64e10cf4ca9fb3);\n",
       "            \n",
       "        \n",
       "\n",
       "        circle_marker_016241d7fa6c818711c18d67fd459ed7.bindPopup(popup_d14cde1f97613bc84671dbf3c7126607)\n",
       "        ;\n",
       "\n",
       "        \n",
       "    \n",
       "    \n",
       "            var circle_marker_1beee7c733a1bf005e6dcd38a5853573 = L.circleMarker(\n",
       "                [-12.23333, 44.44553],\n",
       "                {&quot;bubblingMouseEvents&quot;: true, &quot;color&quot;: &quot;blue&quot;, &quot;dashArray&quot;: null, &quot;dashOffset&quot;: null, &quot;fill&quot;: true, &quot;fillColor&quot;: &quot;blue&quot;, &quot;fillOpacity&quot;: 0.2, &quot;fillRule&quot;: &quot;evenodd&quot;, &quot;lineCap&quot;: &quot;round&quot;, &quot;lineJoin&quot;: &quot;round&quot;, &quot;opacity&quot;: 1.0, &quot;radius&quot;: 3.1816440984856076, &quot;stroke&quot;: true, &quot;weight&quot;: 3}\n",
       "            ).addTo(map_adbf39b066471cb007ce6ebdf5bfea73);\n",
       "        \n",
       "    \n",
       "        var popup_1db719b06baf648829c1cd0a4751c2bc = L.popup({&quot;maxWidth&quot;: &quot;100%&quot;});\n",
       "\n",
       "        \n",
       "            \n",
       "                var html_836251f15bd4bc53a1ff09da779b0305 = $(`&lt;div id=&quot;html_836251f15bd4bc53a1ff09da779b0305&quot; style=&quot;width: 100.0%; height: 100.0%;&quot;&gt;Comoros&lt;/div&gt;`)[0];\n",
       "                popup_1db719b06baf648829c1cd0a4751c2bc.setContent(html_836251f15bd4bc53a1ff09da779b0305);\n",
       "            \n",
       "        \n",
       "\n",
       "        circle_marker_1beee7c733a1bf005e6dcd38a5853573.bindPopup(popup_1db719b06baf648829c1cd0a4751c2bc)\n",
       "        ;\n",
       "\n",
       "        \n",
       "    \n",
       "    \n",
       "            var circle_marker_28fb4d1faac7222fbd70dfeac3753bf2 = L.circleMarker(\n",
       "                [16.0, -24.0],\n",
       "                {&quot;bubblingMouseEvents&quot;: true, &quot;color&quot;: &quot;blue&quot;, &quot;dashArray&quot;: null, &quot;dashOffset&quot;: null, &quot;fill&quot;: true, &quot;fillColor&quot;: &quot;blue&quot;, &quot;fillOpacity&quot;: 0.2, &quot;fillRule&quot;: &quot;evenodd&quot;, &quot;lineCap&quot;: &quot;round&quot;, &quot;lineJoin&quot;: &quot;round&quot;, &quot;opacity&quot;: 1.0, &quot;radius&quot;: 1.815551209794873, &quot;stroke&quot;: true, &quot;weight&quot;: 3}\n",
       "            ).addTo(map_adbf39b066471cb007ce6ebdf5bfea73);\n",
       "        \n",
       "    \n",
       "        var popup_228444302443f6d3b5261bf408be5173 = L.popup({&quot;maxWidth&quot;: &quot;100%&quot;});\n",
       "\n",
       "        \n",
       "            \n",
       "                var html_b5647cd36a8743dcb0b5bbe0c4c8eefe = $(`&lt;div id=&quot;html_b5647cd36a8743dcb0b5bbe0c4c8eefe&quot; style=&quot;width: 100.0%; height: 100.0%;&quot;&gt;Cape Verde&lt;/div&gt;`)[0];\n",
       "                popup_228444302443f6d3b5261bf408be5173.setContent(html_b5647cd36a8743dcb0b5bbe0c4c8eefe);\n",
       "            \n",
       "        \n",
       "\n",
       "        circle_marker_28fb4d1faac7222fbd70dfeac3753bf2.bindPopup(popup_228444302443f6d3b5261bf408be5173)\n",
       "        ;\n",
       "\n",
       "        \n",
       "    \n",
       "    \n",
       "            var circle_marker_476149402bc2ee3a48ff2e45c8e98f04 = L.circleMarker(\n",
       "                [10.0, -84.0],\n",
       "                {&quot;bubblingMouseEvents&quot;: true, &quot;color&quot;: &quot;green&quot;, &quot;dashArray&quot;: null, &quot;dashOffset&quot;: null, &quot;fill&quot;: true, &quot;fillColor&quot;: &quot;green&quot;, &quot;fillOpacity&quot;: 0.2, &quot;fillRule&quot;: &quot;evenodd&quot;, &quot;lineCap&quot;: &quot;round&quot;, &quot;lineJoin&quot;: &quot;round&quot;, &quot;opacity&quot;: 1.0, &quot;radius&quot;: 4.0755424768787, &quot;stroke&quot;: true, &quot;weight&quot;: 3}\n",
       "            ).addTo(map_adbf39b066471cb007ce6ebdf5bfea73);\n",
       "        \n",
       "    \n",
       "        var popup_cdc3c5c47b3249966b664634291ac13c = L.popup({&quot;maxWidth&quot;: &quot;100%&quot;});\n",
       "\n",
       "        \n",
       "            \n",
       "                var html_81fd8f1b1e89ea3d3235dc9c8584f244 = $(`&lt;div id=&quot;html_81fd8f1b1e89ea3d3235dc9c8584f244&quot; style=&quot;width: 100.0%; height: 100.0%;&quot;&gt;Costa Rica&lt;/div&gt;`)[0];\n",
       "                popup_cdc3c5c47b3249966b664634291ac13c.setContent(html_81fd8f1b1e89ea3d3235dc9c8584f244);\n",
       "            \n",
       "        \n",
       "\n",
       "        circle_marker_476149402bc2ee3a48ff2e45c8e98f04.bindPopup(popup_cdc3c5c47b3249966b664634291ac13c)\n",
       "        ;\n",
       "\n",
       "        \n",
       "    \n",
       "    \n",
       "            var circle_marker_e1d6759f0c9d5411a46514c5527cc91d = L.circleMarker(\n",
       "                [49.75, 15.0],\n",
       "                {&quot;bubblingMouseEvents&quot;: true, &quot;color&quot;: &quot;black&quot;, &quot;dashArray&quot;: null, &quot;dashOffset&quot;: null, &quot;fill&quot;: true, &quot;fillColor&quot;: &quot;black&quot;, &quot;fillOpacity&quot;: 0.2, &quot;fillRule&quot;: &quot;evenodd&quot;, &quot;lineCap&quot;: &quot;round&quot;, &quot;lineJoin&quot;: &quot;round&quot;, &quot;opacity&quot;: 1.0, &quot;radius&quot;: 0.660294669905746, &quot;stroke&quot;: true, &quot;weight&quot;: 3}\n",
       "            ).addTo(map_adbf39b066471cb007ce6ebdf5bfea73);\n",
       "        \n",
       "    \n",
       "        var popup_68523c3e3ed76bba1d46996773a112bc = L.popup({&quot;maxWidth&quot;: &quot;100%&quot;});\n",
       "\n",
       "        \n",
       "            \n",
       "                var html_f3746cd225bedea0542372515ea8747d = $(`&lt;div id=&quot;html_f3746cd225bedea0542372515ea8747d&quot; style=&quot;width: 100.0%; height: 100.0%;&quot;&gt;Czech Republic&lt;/div&gt;`)[0];\n",
       "                popup_68523c3e3ed76bba1d46996773a112bc.setContent(html_f3746cd225bedea0542372515ea8747d);\n",
       "            \n",
       "        \n",
       "\n",
       "        circle_marker_e1d6759f0c9d5411a46514c5527cc91d.bindPopup(popup_68523c3e3ed76bba1d46996773a112bc)\n",
       "        ;\n",
       "\n",
       "        \n",
       "    \n",
       "    \n",
       "            var circle_marker_ad77e8b82f4c985e5c3a82fe10d4fcac = L.circleMarker(\n",
       "                [51.5, 10.5],\n",
       "                {&quot;bubblingMouseEvents&quot;: true, &quot;color&quot;: &quot;black&quot;, &quot;dashArray&quot;: null, &quot;dashOffset&quot;: null, &quot;fill&quot;: true, &quot;fillColor&quot;: &quot;black&quot;, &quot;fillOpacity&quot;: 0.2, &quot;fillRule&quot;: &quot;evenodd&quot;, &quot;lineCap&quot;: &quot;round&quot;, &quot;lineJoin&quot;: &quot;round&quot;, &quot;opacity&quot;: 1.0, &quot;radius&quot;: 2.957623648166546, &quot;stroke&quot;: true, &quot;weight&quot;: 3}\n",
       "            ).addTo(map_adbf39b066471cb007ce6ebdf5bfea73);\n",
       "        \n",
       "    \n",
       "        var popup_dfc2d8038d9a0041ca57c48758d628bf = L.popup({&quot;maxWidth&quot;: &quot;100%&quot;});\n",
       "\n",
       "        \n",
       "            \n",
       "                var html_3412833e03542cdae00090103d3831d0 = $(`&lt;div id=&quot;html_3412833e03542cdae00090103d3831d0&quot; style=&quot;width: 100.0%; height: 100.0%;&quot;&gt;Germany&lt;/div&gt;`)[0];\n",
       "                popup_dfc2d8038d9a0041ca57c48758d628bf.setContent(html_3412833e03542cdae00090103d3831d0);\n",
       "            \n",
       "        \n",
       "\n",
       "        circle_marker_ad77e8b82f4c985e5c3a82fe10d4fcac.bindPopup(popup_dfc2d8038d9a0041ca57c48758d628bf)\n",
       "        ;\n",
       "\n",
       "        \n",
       "    \n",
       "    \n",
       "            var circle_marker_c1b99f3d58ba58417d7769137579554d = L.circleMarker(\n",
       "                [11.58901, 43.14503],\n",
       "                {&quot;bubblingMouseEvents&quot;: true, &quot;color&quot;: &quot;blue&quot;, &quot;dashArray&quot;: null, &quot;dashOffset&quot;: null, &quot;fill&quot;: true, &quot;fillColor&quot;: &quot;blue&quot;, &quot;fillOpacity&quot;: 0.2, &quot;fillRule&quot;: &quot;evenodd&quot;, &quot;lineCap&quot;: &quot;round&quot;, &quot;lineJoin&quot;: &quot;round&quot;, &quot;opacity&quot;: 1.0, &quot;radius&quot;: 2.244091994176071, &quot;stroke&quot;: true, &quot;weight&quot;: 3}\n",
       "            ).addTo(map_adbf39b066471cb007ce6ebdf5bfea73);\n",
       "        \n",
       "    \n",
       "        var popup_f2b7e6d64ef0ae5591a193b7730de2be = L.popup({&quot;maxWidth&quot;: &quot;100%&quot;});\n",
       "\n",
       "        \n",
       "            \n",
       "                var html_61da9318d657a28b5689ebb7eff6d8e2 = $(`&lt;div id=&quot;html_61da9318d657a28b5689ebb7eff6d8e2&quot; style=&quot;width: 100.0%; height: 100.0%;&quot;&gt;Djibouti&lt;/div&gt;`)[0];\n",
       "                popup_f2b7e6d64ef0ae5591a193b7730de2be.setContent(html_61da9318d657a28b5689ebb7eff6d8e2);\n",
       "            \n",
       "        \n",
       "\n",
       "        circle_marker_c1b99f3d58ba58417d7769137579554d.bindPopup(popup_f2b7e6d64ef0ae5591a193b7730de2be)\n",
       "        ;\n",
       "\n",
       "        \n",
       "    \n",
       "    \n",
       "            var circle_marker_2084128c6dd135aa89f24f08efa19fa3 = L.circleMarker(\n",
       "                [56.0, 10.0],\n",
       "                {&quot;bubblingMouseEvents&quot;: true, &quot;color&quot;: &quot;black&quot;, &quot;dashArray&quot;: null, &quot;dashOffset&quot;: null, &quot;fill&quot;: true, &quot;fillColor&quot;: &quot;black&quot;, &quot;fillOpacity&quot;: 0.2, &quot;fillRule&quot;: &quot;evenodd&quot;, &quot;lineCap&quot;: &quot;round&quot;, &quot;lineJoin&quot;: &quot;round&quot;, &quot;opacity&quot;: 1.0, &quot;radius&quot;: 1.3429489879100918, &quot;stroke&quot;: true, &quot;weight&quot;: 3}\n",
       "            ).addTo(map_adbf39b066471cb007ce6ebdf5bfea73);\n",
       "        \n",
       "    \n",
       "        var popup_fa01789c0c9d8a4b2c810b04fd3babea = L.popup({&quot;maxWidth&quot;: &quot;100%&quot;});\n",
       "\n",
       "        \n",
       "            \n",
       "                var html_7a730afdcf01bef88634c51eba99892f = $(`&lt;div id=&quot;html_7a730afdcf01bef88634c51eba99892f&quot; style=&quot;width: 100.0%; height: 100.0%;&quot;&gt;Denmark&lt;/div&gt;`)[0];\n",
       "                popup_fa01789c0c9d8a4b2c810b04fd3babea.setContent(html_7a730afdcf01bef88634c51eba99892f);\n",
       "            \n",
       "        \n",
       "\n",
       "        circle_marker_2084128c6dd135aa89f24f08efa19fa3.bindPopup(popup_fa01789c0c9d8a4b2c810b04fd3babea)\n",
       "        ;\n",
       "\n",
       "        \n",
       "    \n",
       "    \n",
       "            var circle_marker_747f0136a035602dba043424353a3eb1 = L.circleMarker(\n",
       "                [19.0, -70.66667],\n",
       "                {&quot;bubblingMouseEvents&quot;: true, &quot;color&quot;: &quot;green&quot;, &quot;dashArray&quot;: null, &quot;dashOffset&quot;: null, &quot;fill&quot;: true, &quot;fillColor&quot;: &quot;green&quot;, &quot;fillOpacity&quot;: 0.2, &quot;fillRule&quot;: &quot;evenodd&quot;, &quot;lineCap&quot;: &quot;round&quot;, &quot;lineJoin&quot;: &quot;round&quot;, &quot;opacity&quot;: 1.0, &quot;radius&quot;: 7.107649087942641, &quot;stroke&quot;: true, &quot;weight&quot;: 3}\n",
       "            ).addTo(map_adbf39b066471cb007ce6ebdf5bfea73);\n",
       "        \n",
       "    \n",
       "        var popup_3b3cf38758f7c596efd68760648e91e8 = L.popup({&quot;maxWidth&quot;: &quot;100%&quot;});\n",
       "\n",
       "        \n",
       "            \n",
       "                var html_422dd8584cf4c30433325e45809a6471 = $(`&lt;div id=&quot;html_422dd8584cf4c30433325e45809a6471&quot; style=&quot;width: 100.0%; height: 100.0%;&quot;&gt;Dominican Republic&lt;/div&gt;`)[0];\n",
       "                popup_3b3cf38758f7c596efd68760648e91e8.setContent(html_422dd8584cf4c30433325e45809a6471);\n",
       "            \n",
       "        \n",
       "\n",
       "        circle_marker_747f0136a035602dba043424353a3eb1.bindPopup(popup_3b3cf38758f7c596efd68760648e91e8)\n",
       "        ;\n",
       "\n",
       "        \n",
       "    \n",
       "    \n",
       "            var circle_marker_f6ae2741bfef98104c2b6e3c528d30b0 = L.circleMarker(\n",
       "                [28.0, 3.0],\n",
       "                {&quot;bubblingMouseEvents&quot;: true, &quot;color&quot;: &quot;blue&quot;, &quot;dashArray&quot;: null, &quot;dashOffset&quot;: null, &quot;fill&quot;: true, &quot;fillColor&quot;: &quot;blue&quot;, &quot;fillOpacity&quot;: 0.2, &quot;fillRule&quot;: &quot;evenodd&quot;, &quot;lineCap&quot;: &quot;round&quot;, &quot;lineJoin&quot;: &quot;round&quot;, &quot;opacity&quot;: 1.0, &quot;radius&quot;: 9.01715284864346, &quot;stroke&quot;: true, &quot;weight&quot;: 3}\n",
       "            ).addTo(map_adbf39b066471cb007ce6ebdf5bfea73);\n",
       "        \n",
       "    \n",
       "        var popup_9c5e011b161fb4068a8f1ee74d3d211b = L.popup({&quot;maxWidth&quot;: &quot;100%&quot;});\n",
       "\n",
       "        \n",
       "            \n",
       "                var html_efc10387f88a66198986d8a23086e135 = $(`&lt;div id=&quot;html_efc10387f88a66198986d8a23086e135&quot; style=&quot;width: 100.0%; height: 100.0%;&quot;&gt;Algeria&lt;/div&gt;`)[0];\n",
       "                popup_9c5e011b161fb4068a8f1ee74d3d211b.setContent(html_efc10387f88a66198986d8a23086e135);\n",
       "            \n",
       "        \n",
       "\n",
       "        circle_marker_f6ae2741bfef98104c2b6e3c528d30b0.bindPopup(popup_9c5e011b161fb4068a8f1ee74d3d211b)\n",
       "        ;\n",
       "\n",
       "        \n",
       "    \n",
       "    \n",
       "            var circle_marker_6d04cd840bd7ae6d66845bcece229340 = L.circleMarker(\n",
       "                [-1.25, -78.25],\n",
       "                {&quot;bubblingMouseEvents&quot;: true, &quot;color&quot;: &quot;green&quot;, &quot;dashArray&quot;: null, &quot;dashOffset&quot;: null, &quot;fill&quot;: true, &quot;fillColor&quot;: &quot;green&quot;, &quot;fillOpacity&quot;: 0.2, &quot;fillRule&quot;: &quot;evenodd&quot;, &quot;lineCap&quot;: &quot;round&quot;, &quot;lineJoin&quot;: &quot;round&quot;, &quot;opacity&quot;: 1.0, &quot;radius&quot;: 9.853564212056453, &quot;stroke&quot;: true, &quot;weight&quot;: 3}\n",
       "            ).addTo(map_adbf39b066471cb007ce6ebdf5bfea73);\n",
       "        \n",
       "    \n",
       "        var popup_1bae46a3cc5969f353e94728262ec80b = L.popup({&quot;maxWidth&quot;: &quot;100%&quot;});\n",
       "\n",
       "        \n",
       "            \n",
       "                var html_24dcba709bf971506a8cf6f2f87bca49 = $(`&lt;div id=&quot;html_24dcba709bf971506a8cf6f2f87bca49&quot; style=&quot;width: 100.0%; height: 100.0%;&quot;&gt;Ecuador&lt;/div&gt;`)[0];\n",
       "                popup_1bae46a3cc5969f353e94728262ec80b.setContent(html_24dcba709bf971506a8cf6f2f87bca49);\n",
       "            \n",
       "        \n",
       "\n",
       "        circle_marker_6d04cd840bd7ae6d66845bcece229340.bindPopup(popup_1bae46a3cc5969f353e94728262ec80b)\n",
       "        ;\n",
       "\n",
       "        \n",
       "    \n",
       "    \n",
       "            var circle_marker_853ea2995e2d6243bfe90ac7b32d9ac0 = L.circleMarker(\n",
       "                [27.0, 30.0],\n",
       "                {&quot;bubblingMouseEvents&quot;: true, &quot;color&quot;: &quot;blue&quot;, &quot;dashArray&quot;: null, &quot;dashOffset&quot;: null, &quot;fill&quot;: true, &quot;fillColor&quot;: &quot;blue&quot;, &quot;fillOpacity&quot;: 0.2, &quot;fillRule&quot;: &quot;evenodd&quot;, &quot;lineCap&quot;: &quot;round&quot;, &quot;lineJoin&quot;: &quot;round&quot;, &quot;opacity&quot;: 1.0, &quot;radius&quot;: 10.839418133355615, &quot;stroke&quot;: true, &quot;weight&quot;: 3}\n",
       "            ).addTo(map_adbf39b066471cb007ce6ebdf5bfea73);\n",
       "        \n",
       "    \n",
       "        var popup_53e261a512670e322b2f38c755714609 = L.popup({&quot;maxWidth&quot;: &quot;100%&quot;});\n",
       "\n",
       "        \n",
       "            \n",
       "                var html_b41cb9c50b265e154ed6dae867e705a2 = $(`&lt;div id=&quot;html_b41cb9c50b265e154ed6dae867e705a2&quot; style=&quot;width: 100.0%; height: 100.0%;&quot;&gt;Egypt&lt;/div&gt;`)[0];\n",
       "                popup_53e261a512670e322b2f38c755714609.setContent(html_b41cb9c50b265e154ed6dae867e705a2);\n",
       "            \n",
       "        \n",
       "\n",
       "        circle_marker_853ea2995e2d6243bfe90ac7b32d9ac0.bindPopup(popup_53e261a512670e322b2f38c755714609)\n",
       "        ;\n",
       "\n",
       "        \n",
       "    \n",
       "    \n",
       "            var circle_marker_dd4790614ad4f203a452f9925127b451 = L.circleMarker(\n",
       "                [40.0, -4.0],\n",
       "                {&quot;bubblingMouseEvents&quot;: true, &quot;color&quot;: &quot;black&quot;, &quot;dashArray&quot;: null, &quot;dashOffset&quot;: null, &quot;fill&quot;: true, &quot;fillColor&quot;: &quot;black&quot;, &quot;fillOpacity&quot;: 0.2, &quot;fillRule&quot;: &quot;evenodd&quot;, &quot;lineCap&quot;: &quot;round&quot;, &quot;lineJoin&quot;: &quot;round&quot;, &quot;opacity&quot;: 1.0, &quot;radius&quot;: 5.912389201233562, &quot;stroke&quot;: true, &quot;weight&quot;: 3}\n",
       "            ).addTo(map_adbf39b066471cb007ce6ebdf5bfea73);\n",
       "        \n",
       "    \n",
       "        var popup_695f9d9c565097b902717f408a1a1fa9 = L.popup({&quot;maxWidth&quot;: &quot;100%&quot;});\n",
       "\n",
       "        \n",
       "            \n",
       "                var html_c07b17299b911a6ca9aa7c542e2d8272 = $(`&lt;div id=&quot;html_c07b17299b911a6ca9aa7c542e2d8272&quot; style=&quot;width: 100.0%; height: 100.0%;&quot;&gt;Spain&lt;/div&gt;`)[0];\n",
       "                popup_695f9d9c565097b902717f408a1a1fa9.setContent(html_c07b17299b911a6ca9aa7c542e2d8272);\n",
       "            \n",
       "        \n",
       "\n",
       "        circle_marker_dd4790614ad4f203a452f9925127b451.bindPopup(popup_695f9d9c565097b902717f408a1a1fa9)\n",
       "        ;\n",
       "\n",
       "        \n",
       "    \n",
       "    \n",
       "            var circle_marker_416966923220bf3cd6afc52567315a8d = L.circleMarker(\n",
       "                [59.0, 26.0],\n",
       "                {&quot;bubblingMouseEvents&quot;: true, &quot;color&quot;: &quot;black&quot;, &quot;dashArray&quot;: null, &quot;dashOffset&quot;: null, &quot;fill&quot;: true, &quot;fillColor&quot;: &quot;black&quot;, &quot;fillOpacity&quot;: 0.2, &quot;fillRule&quot;: &quot;evenodd&quot;, &quot;lineCap&quot;: &quot;round&quot;, &quot;lineJoin&quot;: &quot;round&quot;, &quot;opacity&quot;: 1.0, &quot;radius&quot;: 0.6446344362605358, &quot;stroke&quot;: true, &quot;weight&quot;: 3}\n",
       "            ).addTo(map_adbf39b066471cb007ce6ebdf5bfea73);\n",
       "        \n",
       "    \n",
       "        var popup_1e9ed3795d083398df0ff67135bd6e4e = L.popup({&quot;maxWidth&quot;: &quot;100%&quot;});\n",
       "\n",
       "        \n",
       "            \n",
       "                var html_027d46b11ee11906db69989879c8124a = $(`&lt;div id=&quot;html_027d46b11ee11906db69989879c8124a&quot; style=&quot;width: 100.0%; height: 100.0%;&quot;&gt;Estonia&lt;/div&gt;`)[0];\n",
       "                popup_1e9ed3795d083398df0ff67135bd6e4e.setContent(html_027d46b11ee11906db69989879c8124a);\n",
       "            \n",
       "        \n",
       "\n",
       "        circle_marker_416966923220bf3cd6afc52567315a8d.bindPopup(popup_1e9ed3795d083398df0ff67135bd6e4e)\n",
       "        ;\n",
       "\n",
       "        \n",
       "    \n",
       "    \n",
       "            var circle_marker_e6ab580ca4841b966f4264e65f2c3f59 = L.circleMarker(\n",
       "                [9.0, 39.5],\n",
       "                {&quot;bubblingMouseEvents&quot;: true, &quot;color&quot;: &quot;blue&quot;, &quot;dashArray&quot;: null, &quot;dashOffset&quot;: null, &quot;fill&quot;: true, &quot;fillColor&quot;: &quot;blue&quot;, &quot;fillOpacity&quot;: 0.2, &quot;fillRule&quot;: &quot;evenodd&quot;, &quot;lineCap&quot;: &quot;round&quot;, &quot;lineJoin&quot;: &quot;round&quot;, &quot;opacity&quot;: 1.0, &quot;radius&quot;: 43.91147441319279, &quot;stroke&quot;: true, &quot;weight&quot;: 3}\n",
       "            ).addTo(map_adbf39b066471cb007ce6ebdf5bfea73);\n",
       "        \n",
       "    \n",
       "        var popup_b01377c9ee52209729807224d03f3aa9 = L.popup({&quot;maxWidth&quot;: &quot;100%&quot;});\n",
       "\n",
       "        \n",
       "            \n",
       "                var html_f10bea530c16d77def764847f60c4f68 = $(`&lt;div id=&quot;html_f10bea530c16d77def764847f60c4f68&quot; style=&quot;width: 100.0%; height: 100.0%;&quot;&gt;Ethiopia&lt;/div&gt;`)[0];\n",
       "                popup_b01377c9ee52209729807224d03f3aa9.setContent(html_f10bea530c16d77def764847f60c4f68);\n",
       "            \n",
       "        \n",
       "\n",
       "        circle_marker_e6ab580ca4841b966f4264e65f2c3f59.bindPopup(popup_b01377c9ee52209729807224d03f3aa9)\n",
       "        ;\n",
       "\n",
       "        \n",
       "    \n",
       "    \n",
       "            var circle_marker_f1df32a8f870eab0e628ff89adf89df2 = L.circleMarker(\n",
       "                [64.0, 26.0],\n",
       "                {&quot;bubblingMouseEvents&quot;: true, &quot;color&quot;: &quot;black&quot;, &quot;dashArray&quot;: null, &quot;dashOffset&quot;: null, &quot;fill&quot;: true, &quot;fillColor&quot;: &quot;black&quot;, &quot;fillOpacity&quot;: 0.2, &quot;fillRule&quot;: &quot;evenodd&quot;, &quot;lineCap&quot;: &quot;round&quot;, &quot;lineJoin&quot;: &quot;round&quot;, &quot;opacity&quot;: 1.0, &quot;stroke&quot;: true, &quot;weight&quot;: 3}\n",
       "            ).addTo(map_adbf39b066471cb007ce6ebdf5bfea73);\n",
       "        \n",
       "    \n",
       "        var popup_3e8221409e50b14d12302351318893f0 = L.popup({&quot;maxWidth&quot;: &quot;100%&quot;});\n",
       "\n",
       "        \n",
       "            \n",
       "                var html_f77f050fb3ac8c8a9adbdbcde002024e = $(`&lt;div id=&quot;html_f77f050fb3ac8c8a9adbdbcde002024e&quot; style=&quot;width: 100.0%; height: 100.0%;&quot;&gt;Finland&lt;/div&gt;`)[0];\n",
       "                popup_3e8221409e50b14d12302351318893f0.setContent(html_f77f050fb3ac8c8a9adbdbcde002024e);\n",
       "            \n",
       "        \n",
       "\n",
       "        circle_marker_f1df32a8f870eab0e628ff89adf89df2.bindPopup(popup_3e8221409e50b14d12302351318893f0)\n",
       "        ;\n",
       "\n",
       "        \n",
       "    \n",
       "    \n",
       "            var circle_marker_e21feeda8dbd4d89137444a47c3b8a1c = L.circleMarker(\n",
       "                [-18.0, 178.0],\n",
       "                {&quot;bubblingMouseEvents&quot;: true, &quot;color&quot;: &quot;red&quot;, &quot;dashArray&quot;: null, &quot;dashOffset&quot;: null, &quot;fill&quot;: true, &quot;fillColor&quot;: &quot;red&quot;, &quot;fillOpacity&quot;: 0.2, &quot;fillRule&quot;: &quot;evenodd&quot;, &quot;lineCap&quot;: &quot;round&quot;, &quot;lineJoin&quot;: &quot;round&quot;, &quot;opacity&quot;: 1.0, &quot;radius&quot;: 2.825018429741165, &quot;stroke&quot;: true, &quot;weight&quot;: 3}\n",
       "            ).addTo(map_adbf39b066471cb007ce6ebdf5bfea73);\n",
       "        \n",
       "    \n",
       "        var popup_abfda412bf728571284dd7a9f67cd17f = L.popup({&quot;maxWidth&quot;: &quot;100%&quot;});\n",
       "\n",
       "        \n",
       "            \n",
       "                var html_31161b0b7f498a742e79080310d07d2f = $(`&lt;div id=&quot;html_31161b0b7f498a742e79080310d07d2f&quot; style=&quot;width: 100.0%; height: 100.0%;&quot;&gt;Fiji&lt;/div&gt;`)[0];\n",
       "                popup_abfda412bf728571284dd7a9f67cd17f.setContent(html_31161b0b7f498a742e79080310d07d2f);\n",
       "            \n",
       "        \n",
       "\n",
       "        circle_marker_e21feeda8dbd4d89137444a47c3b8a1c.bindPopup(popup_abfda412bf728571284dd7a9f67cd17f)\n",
       "        ;\n",
       "\n",
       "        \n",
       "    \n",
       "    \n",
       "            var circle_marker_b749eba06d1adc394b4ac1941f05cbaf = L.circleMarker(\n",
       "                [46.0, 2.0],\n",
       "                {&quot;bubblingMouseEvents&quot;: true, &quot;color&quot;: &quot;black&quot;, &quot;dashArray&quot;: null, &quot;dashOffset&quot;: null, &quot;fill&quot;: true, &quot;fillColor&quot;: &quot;black&quot;, &quot;fillOpacity&quot;: 0.2, &quot;fillRule&quot;: &quot;evenodd&quot;, &quot;lineCap&quot;: &quot;round&quot;, &quot;lineJoin&quot;: &quot;round&quot;, &quot;opacity&quot;: 1.0, &quot;radius&quot;: 7.748905167562035, &quot;stroke&quot;: true, &quot;weight&quot;: 3}\n",
       "            ).addTo(map_adbf39b066471cb007ce6ebdf5bfea73);\n",
       "        \n",
       "    \n",
       "        var popup_008591c6b2ed47a4eadde23baefd488a = L.popup({&quot;maxWidth&quot;: &quot;100%&quot;});\n",
       "\n",
       "        \n",
       "            \n",
       "                var html_0e16c2ff6ff7e4377a2507d54bdaaddd = $(`&lt;div id=&quot;html_0e16c2ff6ff7e4377a2507d54bdaaddd&quot; style=&quot;width: 100.0%; height: 100.0%;&quot;&gt;France&lt;/div&gt;`)[0];\n",
       "                popup_008591c6b2ed47a4eadde23baefd488a.setContent(html_0e16c2ff6ff7e4377a2507d54bdaaddd);\n",
       "            \n",
       "        \n",
       "\n",
       "        circle_marker_b749eba06d1adc394b4ac1941f05cbaf.bindPopup(popup_008591c6b2ed47a4eadde23baefd488a)\n",
       "        ;\n",
       "\n",
       "        \n",
       "    \n",
       "    \n",
       "            var circle_marker_1bd9ba34f8f17d127e88b25b91c7194d = L.circleMarker(\n",
       "                [6.924, 158.162],\n",
       "                {&quot;bubblingMouseEvents&quot;: true, &quot;color&quot;: &quot;red&quot;, &quot;dashArray&quot;: null, &quot;dashOffset&quot;: null, &quot;fill&quot;: true, &quot;fillColor&quot;: &quot;red&quot;, &quot;fillOpacity&quot;: 0.2, &quot;fillRule&quot;: &quot;evenodd&quot;, &quot;lineCap&quot;: &quot;round&quot;, &quot;lineJoin&quot;: &quot;round&quot;, &quot;opacity&quot;: 1.0, &quot;radius&quot;: 1.0101672302782327, &quot;stroke&quot;: true, &quot;weight&quot;: 3}\n",
       "            ).addTo(map_adbf39b066471cb007ce6ebdf5bfea73);\n",
       "        \n",
       "    \n",
       "        var popup_cfeed79374d2d08a66a3681c8a071074 = L.popup({&quot;maxWidth&quot;: &quot;100%&quot;});\n",
       "\n",
       "        \n",
       "            \n",
       "                var html_4d382b249b787ff4410ad945e093cbd3 = $(`&lt;div id=&quot;html_4d382b249b787ff4410ad945e093cbd3&quot; style=&quot;width: 100.0%; height: 100.0%;&quot;&gt;Micronesia, Fed. Sts.&lt;/div&gt;`)[0];\n",
       "                popup_cfeed79374d2d08a66a3681c8a071074.setContent(html_4d382b249b787ff4410ad945e093cbd3);\n",
       "            \n",
       "        \n",
       "\n",
       "        circle_marker_1bd9ba34f8f17d127e88b25b91c7194d.bindPopup(popup_cfeed79374d2d08a66a3681c8a071074)\n",
       "        ;\n",
       "\n",
       "        \n",
       "    \n",
       "    \n",
       "            var circle_marker_d5e892374967ca94f5214cc460dfd92a = L.circleMarker(\n",
       "                [-1.0, 11.75],\n",
       "                {&quot;bubblingMouseEvents&quot;: true, &quot;color&quot;: &quot;blue&quot;, &quot;dashArray&quot;: null, &quot;dashOffset&quot;: null, &quot;fill&quot;: true, &quot;fillColor&quot;: &quot;blue&quot;, &quot;fillOpacity&quot;: 0.2, &quot;fillRule&quot;: &quot;evenodd&quot;, &quot;lineCap&quot;: &quot;round&quot;, &quot;lineJoin&quot;: &quot;round&quot;, &quot;opacity&quot;: 1.0, &quot;radius&quot;: 1.7743739978493467, &quot;stroke&quot;: true, &quot;weight&quot;: 3}\n",
       "            ).addTo(map_adbf39b066471cb007ce6ebdf5bfea73);\n",
       "        \n",
       "    \n",
       "        var popup_ca0963f7c25a751b694b9c679dbce983 = L.popup({&quot;maxWidth&quot;: &quot;100%&quot;});\n",
       "\n",
       "        \n",
       "            \n",
       "                var html_773fae598fef1a2a855bfd9cdd9595a3 = $(`&lt;div id=&quot;html_773fae598fef1a2a855bfd9cdd9595a3&quot; style=&quot;width: 100.0%; height: 100.0%;&quot;&gt;Gabon&lt;/div&gt;`)[0];\n",
       "                popup_ca0963f7c25a751b694b9c679dbce983.setContent(html_773fae598fef1a2a855bfd9cdd9595a3);\n",
       "            \n",
       "        \n",
       "\n",
       "        circle_marker_d5e892374967ca94f5214cc460dfd92a.bindPopup(popup_ca0963f7c25a751b694b9c679dbce983)\n",
       "        ;\n",
       "\n",
       "        \n",
       "    \n",
       "    \n",
       "            var circle_marker_b59cd4a4bc168a652abc4a64600224e6 = L.circleMarker(\n",
       "                [54.75844, -2.69531],\n",
       "                {&quot;bubblingMouseEvents&quot;: true, &quot;color&quot;: &quot;black&quot;, &quot;dashArray&quot;: null, &quot;dashOffset&quot;: null, &quot;fill&quot;: true, &quot;fillColor&quot;: &quot;black&quot;, &quot;fillOpacity&quot;: 0.2, &quot;fillRule&quot;: &quot;evenodd&quot;, &quot;lineCap&quot;: &quot;round&quot;, &quot;lineJoin&quot;: &quot;round&quot;, &quot;opacity&quot;: 1.0, &quot;radius&quot;: 5.222052351928855, &quot;stroke&quot;: true, &quot;weight&quot;: 3}\n",
       "            ).addTo(map_adbf39b066471cb007ce6ebdf5bfea73);\n",
       "        \n",
       "    \n",
       "        var popup_870b4d55ef7d89d93bda41c79f3b96df = L.popup({&quot;maxWidth&quot;: &quot;100%&quot;});\n",
       "\n",
       "        \n",
       "            \n",
       "                var html_90b8a536959284c8d5075d1525850074 = $(`&lt;div id=&quot;html_90b8a536959284c8d5075d1525850074&quot; style=&quot;width: 100.0%; height: 100.0%;&quot;&gt;United Kingdom&lt;/div&gt;`)[0];\n",
       "                popup_870b4d55ef7d89d93bda41c79f3b96df.setContent(html_90b8a536959284c8d5075d1525850074);\n",
       "            \n",
       "        \n",
       "\n",
       "        circle_marker_b59cd4a4bc168a652abc4a64600224e6.bindPopup(popup_870b4d55ef7d89d93bda41c79f3b96df)\n",
       "        ;\n",
       "\n",
       "        \n",
       "    \n",
       "    \n",
       "            var circle_marker_91aa7905856192e8f203cc7540e1aa67 = L.circleMarker(\n",
       "                [41.99998, 43.4999],\n",
       "                {&quot;bubblingMouseEvents&quot;: true, &quot;color&quot;: &quot;black&quot;, &quot;dashArray&quot;: null, &quot;dashOffset&quot;: null, &quot;fill&quot;: true, &quot;fillColor&quot;: &quot;black&quot;, &quot;fillOpacity&quot;: 0.2, &quot;fillRule&quot;: &quot;evenodd&quot;, &quot;lineCap&quot;: &quot;round&quot;, &quot;lineJoin&quot;: &quot;round&quot;, &quot;opacity&quot;: 1.0, &quot;radius&quot;: 4.851626940579119, &quot;stroke&quot;: true, &quot;weight&quot;: 3}\n",
       "            ).addTo(map_adbf39b066471cb007ce6ebdf5bfea73);\n",
       "        \n",
       "    \n",
       "        var popup_296134e7cb11b7e83d5a9073c98b7d13 = L.popup({&quot;maxWidth&quot;: &quot;100%&quot;});\n",
       "\n",
       "        \n",
       "            \n",
       "                var html_3705bd4d1495f986d6fe7bdf7c33441a = $(`&lt;div id=&quot;html_3705bd4d1495f986d6fe7bdf7c33441a&quot; style=&quot;width: 100.0%; height: 100.0%;&quot;&gt;Georgia&lt;/div&gt;`)[0];\n",
       "                popup_296134e7cb11b7e83d5a9073c98b7d13.setContent(html_3705bd4d1495f986d6fe7bdf7c33441a);\n",
       "            \n",
       "        \n",
       "\n",
       "        circle_marker_91aa7905856192e8f203cc7540e1aa67.bindPopup(popup_296134e7cb11b7e83d5a9073c98b7d13)\n",
       "        ;\n",
       "\n",
       "        \n",
       "    \n",
       "    \n",
       "            var circle_marker_4bc5f330afd9a0a02112bd614e9ef8c3 = L.circleMarker(\n",
       "                [8.1, -1.2],\n",
       "                {&quot;bubblingMouseEvents&quot;: true, &quot;color&quot;: &quot;blue&quot;, &quot;dashArray&quot;: null, &quot;dashOffset&quot;: null, &quot;fill&quot;: true, &quot;fillColor&quot;: &quot;blue&quot;, &quot;fillOpacity&quot;: 0.2, &quot;fillRule&quot;: &quot;evenodd&quot;, &quot;lineCap&quot;: &quot;round&quot;, &quot;lineJoin&quot;: &quot;round&quot;, &quot;opacity&quot;: 1.0, &quot;radius&quot;: 20.070364659994787, &quot;stroke&quot;: true, &quot;weight&quot;: 3}\n",
       "            ).addTo(map_adbf39b066471cb007ce6ebdf5bfea73);\n",
       "        \n",
       "    \n",
       "        var popup_83f36b1d0c35cc637e6ffad40704751a = L.popup({&quot;maxWidth&quot;: &quot;100%&quot;});\n",
       "\n",
       "        \n",
       "            \n",
       "                var html_0b0352125bc89b325666594d237c9cdf = $(`&lt;div id=&quot;html_0b0352125bc89b325666594d237c9cdf&quot; style=&quot;width: 100.0%; height: 100.0%;&quot;&gt;Ghana&lt;/div&gt;`)[0];\n",
       "                popup_83f36b1d0c35cc637e6ffad40704751a.setContent(html_0b0352125bc89b325666594d237c9cdf);\n",
       "            \n",
       "        \n",
       "\n",
       "        circle_marker_4bc5f330afd9a0a02112bd614e9ef8c3.bindPopup(popup_83f36b1d0c35cc637e6ffad40704751a)\n",
       "        ;\n",
       "\n",
       "        \n",
       "    \n",
       "    \n",
       "            var circle_marker_7cf2f54f9412ad756f1a0d33b17a238d = L.circleMarker(\n",
       "                [10.83333, -10.66667],\n",
       "                {&quot;bubblingMouseEvents&quot;: true, &quot;color&quot;: &quot;blue&quot;, &quot;dashArray&quot;: null, &quot;dashOffset&quot;: null, &quot;fill&quot;: true, &quot;fillColor&quot;: &quot;blue&quot;, &quot;fillOpacity&quot;: 0.2, &quot;fillRule&quot;: &quot;evenodd&quot;, &quot;lineCap&quot;: &quot;round&quot;, &quot;lineJoin&quot;: &quot;round&quot;, &quot;opacity&quot;: 1.0, &quot;radius&quot;: 17.43896952048552, &quot;stroke&quot;: true, &quot;weight&quot;: 3}\n",
       "            ).addTo(map_adbf39b066471cb007ce6ebdf5bfea73);\n",
       "        \n",
       "    \n",
       "        var popup_4edb0904ec21069c160563d16f4a2527 = L.popup({&quot;maxWidth&quot;: &quot;100%&quot;});\n",
       "\n",
       "        \n",
       "            \n",
       "                var html_c3dd0652ede4748dc33163e85e821efb = $(`&lt;div id=&quot;html_c3dd0652ede4748dc33163e85e821efb&quot; style=&quot;width: 100.0%; height: 100.0%;&quot;&gt;Guinea&lt;/div&gt;`)[0];\n",
       "                popup_4edb0904ec21069c160563d16f4a2527.setContent(html_c3dd0652ede4748dc33163e85e821efb);\n",
       "            \n",
       "        \n",
       "\n",
       "        circle_marker_7cf2f54f9412ad756f1a0d33b17a238d.bindPopup(popup_4edb0904ec21069c160563d16f4a2527)\n",
       "        ;\n",
       "\n",
       "        \n",
       "    \n",
       "    \n",
       "            var circle_marker_7e5a73b0f4970b88327e974f1c3f9b26 = L.circleMarker(\n",
       "                [13.5, -15.5],\n",
       "                {&quot;bubblingMouseEvents&quot;: true, &quot;color&quot;: &quot;blue&quot;, &quot;dashArray&quot;: null, &quot;dashOffset&quot;: null, &quot;fill&quot;: true, &quot;fillColor&quot;: &quot;blue&quot;, &quot;fillOpacity&quot;: 0.2, &quot;fillRule&quot;: &quot;evenodd&quot;, &quot;lineCap&quot;: &quot;round&quot;, &quot;lineJoin&quot;: &quot;round&quot;, &quot;opacity&quot;: 1.0, &quot;radius&quot;: 6.119618539363226, &quot;stroke&quot;: true, &quot;weight&quot;: 3}\n",
       "            ).addTo(map_adbf39b066471cb007ce6ebdf5bfea73);\n",
       "        \n",
       "    \n",
       "        var popup_e62994c74004c9d964f46b132defa64b = L.popup({&quot;maxWidth&quot;: &quot;100%&quot;});\n",
       "\n",
       "        \n",
       "            \n",
       "                var html_96586d8554ea3c89b9125819b2264ad9 = $(`&lt;div id=&quot;html_96586d8554ea3c89b9125819b2264ad9&quot; style=&quot;width: 100.0%; height: 100.0%;&quot;&gt;Gambia&lt;/div&gt;`)[0];\n",
       "                popup_e62994c74004c9d964f46b132defa64b.setContent(html_96586d8554ea3c89b9125819b2264ad9);\n",
       "            \n",
       "        \n",
       "\n",
       "        circle_marker_7e5a73b0f4970b88327e974f1c3f9b26.bindPopup(popup_e62994c74004c9d964f46b132defa64b)\n",
       "        ;\n",
       "\n",
       "        \n",
       "    \n",
       "    \n",
       "            var circle_marker_2cd0f53fcc2d8ec851419d1839f9fdb0 = L.circleMarker(\n",
       "                [12.0, -15.0],\n",
       "                {&quot;bubblingMouseEvents&quot;: true, &quot;color&quot;: &quot;blue&quot;, &quot;dashArray&quot;: null, &quot;dashOffset&quot;: null, &quot;fill&quot;: true, &quot;fillColor&quot;: &quot;blue&quot;, &quot;fillOpacity&quot;: 0.2, &quot;fillRule&quot;: &quot;evenodd&quot;, &quot;lineCap&quot;: &quot;round&quot;, &quot;lineJoin&quot;: &quot;round&quot;, &quot;opacity&quot;: 1.0, &quot;radius&quot;: 5.62697303223573, &quot;stroke&quot;: true, &quot;weight&quot;: 3}\n",
       "            ).addTo(map_adbf39b066471cb007ce6ebdf5bfea73);\n",
       "        \n",
       "    \n",
       "        var popup_294d9ab0ad70c0ff0c297b041a827b38 = L.popup({&quot;maxWidth&quot;: &quot;100%&quot;});\n",
       "\n",
       "        \n",
       "            \n",
       "                var html_a0299a46ace2c45416e323952387a053 = $(`&lt;div id=&quot;html_a0299a46ace2c45416e323952387a053&quot; style=&quot;width: 100.0%; height: 100.0%;&quot;&gt;Guinea-Bissau&lt;/div&gt;`)[0];\n",
       "                popup_294d9ab0ad70c0ff0c297b041a827b38.setContent(html_a0299a46ace2c45416e323952387a053);\n",
       "            \n",
       "        \n",
       "\n",
       "        circle_marker_2cd0f53fcc2d8ec851419d1839f9fdb0.bindPopup(popup_294d9ab0ad70c0ff0c297b041a827b38)\n",
       "        ;\n",
       "\n",
       "        \n",
       "    \n",
       "    \n",
       "            var circle_marker_10b89df7fef1951be5d3938c9ed929bf = L.circleMarker(\n",
       "                [39.0, 22.0],\n",
       "                {&quot;bubblingMouseEvents&quot;: true, &quot;color&quot;: &quot;black&quot;, &quot;dashArray&quot;: null, &quot;dashOffset&quot;: null, &quot;fill&quot;: true, &quot;fillColor&quot;: &quot;black&quot;, &quot;fillOpacity&quot;: 0.2, &quot;fillRule&quot;: &quot;evenodd&quot;, &quot;lineCap&quot;: &quot;round&quot;, &quot;lineJoin&quot;: &quot;round&quot;, &quot;opacity&quot;: 1.0, &quot;radius&quot;: 2.4057509585466565, &quot;stroke&quot;: true, &quot;weight&quot;: 3}\n",
       "            ).addTo(map_adbf39b066471cb007ce6ebdf5bfea73);\n",
       "        \n",
       "    \n",
       "        var popup_416d8273b0ed6b69d0805bdfdf08698a = L.popup({&quot;maxWidth&quot;: &quot;100%&quot;});\n",
       "\n",
       "        \n",
       "            \n",
       "                var html_7f95522a0d07df3adeb2a0652f22cfef = $(`&lt;div id=&quot;html_7f95522a0d07df3adeb2a0652f22cfef&quot; style=&quot;width: 100.0%; height: 100.0%;&quot;&gt;Greece&lt;/div&gt;`)[0];\n",
       "                popup_416d8273b0ed6b69d0805bdfdf08698a.setContent(html_7f95522a0d07df3adeb2a0652f22cfef);\n",
       "            \n",
       "        \n",
       "\n",
       "        circle_marker_10b89df7fef1951be5d3938c9ed929bf.bindPopup(popup_416d8273b0ed6b69d0805bdfdf08698a)\n",
       "        ;\n",
       "\n",
       "        \n",
       "    \n",
       "    \n",
       "            var circle_marker_d72ecf0cf522f25b99ad271d7a4a1439 = L.circleMarker(\n",
       "                [14.64072, -90.51327],\n",
       "                {&quot;bubblingMouseEvents&quot;: true, &quot;color&quot;: &quot;green&quot;, &quot;dashArray&quot;: null, &quot;dashOffset&quot;: null, &quot;fill&quot;: true, &quot;fillColor&quot;: &quot;green&quot;, &quot;fillOpacity&quot;: 0.2, &quot;fillRule&quot;: &quot;evenodd&quot;, &quot;lineCap&quot;: &quot;round&quot;, &quot;lineJoin&quot;: &quot;round&quot;, &quot;opacity&quot;: 1.0, &quot;radius&quot;: 13.414423352179131, &quot;stroke&quot;: true, &quot;weight&quot;: 3}\n",
       "            ).addTo(map_adbf39b066471cb007ce6ebdf5bfea73);\n",
       "        \n",
       "    \n",
       "        var popup_afebe0c0e1992b26f271eb4e8e679a7a = L.popup({&quot;maxWidth&quot;: &quot;100%&quot;});\n",
       "\n",
       "        \n",
       "            \n",
       "                var html_9e5523295b29aa6913823c719afb2361 = $(`&lt;div id=&quot;html_9e5523295b29aa6913823c719afb2361&quot; style=&quot;width: 100.0%; height: 100.0%;&quot;&gt;Guatemala&lt;/div&gt;`)[0];\n",
       "                popup_afebe0c0e1992b26f271eb4e8e679a7a.setContent(html_9e5523295b29aa6913823c719afb2361);\n",
       "            \n",
       "        \n",
       "\n",
       "        circle_marker_d72ecf0cf522f25b99ad271d7a4a1439.bindPopup(popup_afebe0c0e1992b26f271eb4e8e679a7a)\n",
       "        ;\n",
       "\n",
       "        \n",
       "    \n",
       "    \n",
       "            var circle_marker_d5f80263782cdbb9f0c65fde217b54bb = L.circleMarker(\n",
       "                [5.0, -59.0],\n",
       "                {&quot;bubblingMouseEvents&quot;: true, &quot;color&quot;: &quot;green&quot;, &quot;dashArray&quot;: null, &quot;dashOffset&quot;: null, &quot;fill&quot;: true, &quot;fillColor&quot;: &quot;green&quot;, &quot;fillOpacity&quot;: 0.2, &quot;fillRule&quot;: &quot;evenodd&quot;, &quot;lineCap&quot;: &quot;round&quot;, &quot;lineJoin&quot;: &quot;round&quot;, &quot;opacity&quot;: 1.0, &quot;radius&quot;: 1.4406180819073164, &quot;stroke&quot;: true, &quot;weight&quot;: 3}\n",
       "            ).addTo(map_adbf39b066471cb007ce6ebdf5bfea73);\n",
       "        \n",
       "    \n",
       "        var popup_c0b4c15402e04ab0c2e0f3753e3bb328 = L.popup({&quot;maxWidth&quot;: &quot;100%&quot;});\n",
       "\n",
       "        \n",
       "            \n",
       "                var html_8ec2324bd5d4ac207f4e6a3ef4ae2954 = $(`&lt;div id=&quot;html_8ec2324bd5d4ac207f4e6a3ef4ae2954&quot; style=&quot;width: 100.0%; height: 100.0%;&quot;&gt;Guyana&lt;/div&gt;`)[0];\n",
       "                popup_c0b4c15402e04ab0c2e0f3753e3bb328.setContent(html_8ec2324bd5d4ac207f4e6a3ef4ae2954);\n",
       "            \n",
       "        \n",
       "\n",
       "        circle_marker_d5f80263782cdbb9f0c65fde217b54bb.bindPopup(popup_c0b4c15402e04ab0c2e0f3753e3bb328)\n",
       "        ;\n",
       "\n",
       "        \n",
       "    \n",
       "    \n",
       "            var circle_marker_b7eb8cb22d4c6f02caac938262c672ea = L.circleMarker(\n",
       "                [15.0, -86.5],\n",
       "                {&quot;bubblingMouseEvents&quot;: true, &quot;color&quot;: &quot;green&quot;, &quot;dashArray&quot;: null, &quot;dashOffset&quot;: null, &quot;fill&quot;: true, &quot;fillColor&quot;: &quot;green&quot;, &quot;fillOpacity&quot;: 0.2, &quot;fillRule&quot;: &quot;evenodd&quot;, &quot;lineCap&quot;: &quot;round&quot;, &quot;lineJoin&quot;: &quot;round&quot;, &quot;opacity&quot;: 1.0, &quot;radius&quot;: 11.144313897053351, &quot;stroke&quot;: true, &quot;weight&quot;: 3}\n",
       "            ).addTo(map_adbf39b066471cb007ce6ebdf5bfea73);\n",
       "        \n",
       "    \n",
       "        var popup_e00b2b03aeead3fa01b855770bee3f52 = L.popup({&quot;maxWidth&quot;: &quot;100%&quot;});\n",
       "\n",
       "        \n",
       "            \n",
       "                var html_d7e69dacbdd68289713db4975fea7bb0 = $(`&lt;div id=&quot;html_d7e69dacbdd68289713db4975fea7bb0&quot; style=&quot;width: 100.0%; height: 100.0%;&quot;&gt;Honduras&lt;/div&gt;`)[0];\n",
       "                popup_e00b2b03aeead3fa01b855770bee3f52.setContent(html_d7e69dacbdd68289713db4975fea7bb0);\n",
       "            \n",
       "        \n",
       "\n",
       "        circle_marker_b7eb8cb22d4c6f02caac938262c672ea.bindPopup(popup_e00b2b03aeead3fa01b855770bee3f52)\n",
       "        ;\n",
       "\n",
       "        \n",
       "    \n",
       "    \n",
       "            var circle_marker_dbfe60b9393d3c5063c490ec017840ed = L.circleMarker(\n",
       "                [45.16667, 15.5],\n",
       "                {&quot;bubblingMouseEvents&quot;: true, &quot;color&quot;: &quot;black&quot;, &quot;dashArray&quot;: null, &quot;dashOffset&quot;: null, &quot;fill&quot;: true, &quot;fillColor&quot;: &quot;black&quot;, &quot;fillOpacity&quot;: 0.2, &quot;fillRule&quot;: &quot;evenodd&quot;, &quot;lineCap&quot;: &quot;round&quot;, &quot;lineJoin&quot;: &quot;round&quot;, &quot;opacity&quot;: 1.0, &quot;radius&quot;: 0.5116425025323341, &quot;stroke&quot;: true, &quot;weight&quot;: 3}\n",
       "            ).addTo(map_adbf39b066471cb007ce6ebdf5bfea73);\n",
       "        \n",
       "    \n",
       "        var popup_33c217b25b76750f7cc4f74517a53fda = L.popup({&quot;maxWidth&quot;: &quot;100%&quot;});\n",
       "\n",
       "        \n",
       "            \n",
       "                var html_4183ddee506590691c6daffced2f857a = $(`&lt;div id=&quot;html_4183ddee506590691c6daffced2f857a&quot; style=&quot;width: 100.0%; height: 100.0%;&quot;&gt;Croatia&lt;/div&gt;`)[0];\n",
       "                popup_33c217b25b76750f7cc4f74517a53fda.setContent(html_4183ddee506590691c6daffced2f857a);\n",
       "            \n",
       "        \n",
       "\n",
       "        circle_marker_dbfe60b9393d3c5063c490ec017840ed.bindPopup(popup_33c217b25b76750f7cc4f74517a53fda)\n",
       "        ;\n",
       "\n",
       "        \n",
       "    \n",
       "    \n",
       "            var circle_marker_198acb7d081cde8e135d332561a9fade = L.circleMarker(\n",
       "                [19.0, -72.41667],\n",
       "                {&quot;bubblingMouseEvents&quot;: true, &quot;color&quot;: &quot;green&quot;, &quot;dashArray&quot;: null, &quot;dashOffset&quot;: null, &quot;fill&quot;: true, &quot;fillColor&quot;: &quot;green&quot;, &quot;fillOpacity&quot;: 0.2, &quot;fillRule&quot;: &quot;evenodd&quot;, &quot;lineCap&quot;: &quot;round&quot;, &quot;lineJoin&quot;: &quot;round&quot;, &quot;opacity&quot;: 1.0, &quot;radius&quot;: 13.979752671774591, &quot;stroke&quot;: true, &quot;weight&quot;: 3}\n",
       "            ).addTo(map_adbf39b066471cb007ce6ebdf5bfea73);\n",
       "        \n",
       "    \n",
       "        var popup_f80b2cd7c2d0d665a87fdcd477c31dc9 = L.popup({&quot;maxWidth&quot;: &quot;100%&quot;});\n",
       "\n",
       "        \n",
       "            \n",
       "                var html_c888a034374f65eca10031d49f2ea068 = $(`&lt;div id=&quot;html_c888a034374f65eca10031d49f2ea068&quot; style=&quot;width: 100.0%; height: 100.0%;&quot;&gt;Haiti&lt;/div&gt;`)[0];\n",
       "                popup_f80b2cd7c2d0d665a87fdcd477c31dc9.setContent(html_c888a034374f65eca10031d49f2ea068);\n",
       "            \n",
       "        \n",
       "\n",
       "        circle_marker_198acb7d081cde8e135d332561a9fade.bindPopup(popup_f80b2cd7c2d0d665a87fdcd477c31dc9)\n",
       "        ;\n",
       "\n",
       "        \n",
       "    \n",
       "    \n",
       "            var circle_marker_b4a67bebcfb27cfb8094902ef4d28e9d = L.circleMarker(\n",
       "                [47.0, 20.0],\n",
       "                {&quot;bubblingMouseEvents&quot;: true, &quot;color&quot;: &quot;black&quot;, &quot;dashArray&quot;: null, &quot;dashOffset&quot;: null, &quot;fill&quot;: true, &quot;fillColor&quot;: &quot;black&quot;, &quot;fillOpacity&quot;: 0.2, &quot;fillRule&quot;: &quot;evenodd&quot;, &quot;lineCap&quot;: &quot;round&quot;, &quot;lineJoin&quot;: &quot;round&quot;, &quot;opacity&quot;: 1.0, &quot;radius&quot;: 0.6884731305695835, &quot;stroke&quot;: true, &quot;weight&quot;: 3}\n",
       "            ).addTo(map_adbf39b066471cb007ce6ebdf5bfea73);\n",
       "        \n",
       "    \n",
       "        var popup_43b922ce403dab1a0e6edfb459bbd7c9 = L.popup({&quot;maxWidth&quot;: &quot;100%&quot;});\n",
       "\n",
       "        \n",
       "            \n",
       "                var html_a888340b844031b2e0fc92462ba7b4b3 = $(`&lt;div id=&quot;html_a888340b844031b2e0fc92462ba7b4b3&quot; style=&quot;width: 100.0%; height: 100.0%;&quot;&gt;Hungary&lt;/div&gt;`)[0];\n",
       "                popup_43b922ce403dab1a0e6edfb459bbd7c9.setContent(html_a888340b844031b2e0fc92462ba7b4b3);\n",
       "            \n",
       "        \n",
       "\n",
       "        circle_marker_b4a67bebcfb27cfb8094902ef4d28e9d.bindPopup(popup_43b922ce403dab1a0e6edfb459bbd7c9)\n",
       "        ;\n",
       "\n",
       "        \n",
       "    \n",
       "    \n",
       "            var circle_marker_bd9b6ab2dd184b57906025068004dfc9 = L.circleMarker(\n",
       "                [-5.0, 120.0],\n",
       "                {&quot;bubblingMouseEvents&quot;: true, &quot;color&quot;: &quot;red&quot;, &quot;dashArray&quot;: null, &quot;dashOffset&quot;: null, &quot;fill&quot;: true, &quot;fillColor&quot;: &quot;red&quot;, &quot;fillOpacity&quot;: 0.2, &quot;fillRule&quot;: &quot;evenodd&quot;, &quot;lineCap&quot;: &quot;round&quot;, &quot;lineJoin&quot;: &quot;round&quot;, &quot;opacity&quot;: 1.0, &quot;radius&quot;: 72.4350453769964, &quot;stroke&quot;: true, &quot;weight&quot;: 3}\n",
       "            ).addTo(map_adbf39b066471cb007ce6ebdf5bfea73);\n",
       "        \n",
       "    \n",
       "        var popup_0d08bfb3640019c299a0333a865cbc93 = L.popup({&quot;maxWidth&quot;: &quot;100%&quot;});\n",
       "\n",
       "        \n",
       "            \n",
       "                var html_c03861dd5228c72d6f09b8f837c6b403 = $(`&lt;div id=&quot;html_c03861dd5228c72d6f09b8f837c6b403&quot; style=&quot;width: 100.0%; height: 100.0%;&quot;&gt;Indonesia&lt;/div&gt;`)[0];\n",
       "                popup_0d08bfb3640019c299a0333a865cbc93.setContent(html_c03861dd5228c72d6f09b8f837c6b403);\n",
       "            \n",
       "        \n",
       "\n",
       "        circle_marker_bd9b6ab2dd184b57906025068004dfc9.bindPopup(popup_0d08bfb3640019c299a0333a865cbc93)\n",
       "        ;\n",
       "\n",
       "        \n",
       "    \n",
       "    \n",
       "            var circle_marker_c9cd8c533cbed9082d55cd3eb4572b90 = L.circleMarker(\n",
       "                [22.0, 79.0],\n",
       "                {&quot;bubblingMouseEvents&quot;: true, &quot;color&quot;: &quot;red&quot;, &quot;dashArray&quot;: null, &quot;dashOffset&quot;: null, &quot;fill&quot;: true, &quot;fillColor&quot;: &quot;red&quot;, &quot;fillOpacity&quot;: 0.2, &quot;fillRule&quot;: &quot;evenodd&quot;, &quot;lineCap&quot;: &quot;round&quot;, &quot;lineJoin&quot;: &quot;round&quot;, &quot;opacity&quot;: 1.0, &quot;radius&quot;: 160.8947479928774, &quot;stroke&quot;: true, &quot;weight&quot;: 3}\n",
       "            ).addTo(map_adbf39b066471cb007ce6ebdf5bfea73);\n",
       "        \n",
       "    \n",
       "        var popup_b6787a17a1b0ccf84a1b032922b11d0a = L.popup({&quot;maxWidth&quot;: &quot;100%&quot;});\n",
       "\n",
       "        \n",
       "            \n",
       "                var html_440026b25d61fab828e05d7c4c53e380 = $(`&lt;div id=&quot;html_440026b25d61fab828e05d7c4c53e380&quot; style=&quot;width: 100.0%; height: 100.0%;&quot;&gt;India&lt;/div&gt;`)[0];\n",
       "                popup_b6787a17a1b0ccf84a1b032922b11d0a.setContent(html_440026b25d61fab828e05d7c4c53e380);\n",
       "            \n",
       "        \n",
       "\n",
       "        circle_marker_c9cd8c533cbed9082d55cd3eb4572b90.bindPopup(popup_b6787a17a1b0ccf84a1b032922b11d0a)\n",
       "        ;\n",
       "\n",
       "        \n",
       "    \n",
       "    \n",
       "            var circle_marker_c9cbfe793db48621ad121f1023524721 = L.circleMarker(\n",
       "                [53.0, -8.0],\n",
       "                {&quot;bubblingMouseEvents&quot;: true, &quot;color&quot;: &quot;black&quot;, &quot;dashArray&quot;: null, &quot;dashOffset&quot;: null, &quot;fill&quot;: true, &quot;fillColor&quot;: &quot;black&quot;, &quot;fillOpacity&quot;: 0.2, &quot;fillRule&quot;: &quot;evenodd&quot;, &quot;lineCap&quot;: &quot;round&quot;, &quot;lineJoin&quot;: &quot;round&quot;, &quot;opacity&quot;: 1.0, &quot;radius&quot;: 1.4092773693830267, &quot;stroke&quot;: true, &quot;weight&quot;: 3}\n",
       "            ).addTo(map_adbf39b066471cb007ce6ebdf5bfea73);\n",
       "        \n",
       "    \n",
       "        var popup_ae0a2203443c74ee65397962326d7a7b = L.popup({&quot;maxWidth&quot;: &quot;100%&quot;});\n",
       "\n",
       "        \n",
       "            \n",
       "                var html_a4d65b219577a906e367ba4c28b96777 = $(`&lt;div id=&quot;html_a4d65b219577a906e367ba4c28b96777&quot; style=&quot;width: 100.0%; height: 100.0%;&quot;&gt;Ireland&lt;/div&gt;`)[0];\n",
       "                popup_ae0a2203443c74ee65397962326d7a7b.setContent(html_a4d65b219577a906e367ba4c28b96777);\n",
       "            \n",
       "        \n",
       "\n",
       "        circle_marker_c9cbfe793db48621ad121f1023524721.bindPopup(popup_ae0a2203443c74ee65397962326d7a7b)\n",
       "        ;\n",
       "\n",
       "        \n",
       "    \n",
       "    \n",
       "            var circle_marker_e81a2863c5aafa4a59029a0ebcac94f2 = L.circleMarker(\n",
       "                [32.0, 53.0],\n",
       "                {&quot;bubblingMouseEvents&quot;: true, &quot;color&quot;: &quot;red&quot;, &quot;dashArray&quot;: null, &quot;dashOffset&quot;: null, &quot;fill&quot;: true, &quot;fillColor&quot;: &quot;red&quot;, &quot;fillOpacity&quot;: 0.2, &quot;fillRule&quot;: &quot;evenodd&quot;, &quot;lineCap&quot;: &quot;round&quot;, &quot;lineJoin&quot;: &quot;round&quot;, &quot;opacity&quot;: 1.0, &quot;radius&quot;: 9.918590876399392, &quot;stroke&quot;: true, &quot;weight&quot;: 3}\n",
       "            ).addTo(map_adbf39b066471cb007ce6ebdf5bfea73);\n",
       "        \n",
       "    \n",
       "        var popup_6eec06e1c250a951fa4089c8e28e9691 = L.popup({&quot;maxWidth&quot;: &quot;100%&quot;});\n",
       "\n",
       "        \n",
       "            \n",
       "                var html_0d8b3ff39ea8fcfbd031ccacdc20d44a = $(`&lt;div id=&quot;html_0d8b3ff39ea8fcfbd031ccacdc20d44a&quot; style=&quot;width: 100.0%; height: 100.0%;&quot;&gt;Iran&lt;/div&gt;`)[0];\n",
       "                popup_6eec06e1c250a951fa4089c8e28e9691.setContent(html_0d8b3ff39ea8fcfbd031ccacdc20d44a);\n",
       "            \n",
       "        \n",
       "\n",
       "        circle_marker_e81a2863c5aafa4a59029a0ebcac94f2.bindPopup(popup_6eec06e1c250a951fa4089c8e28e9691)\n",
       "        ;\n",
       "\n",
       "        \n",
       "    \n",
       "    \n",
       "            var circle_marker_f6c62c387b7b698f9e7a2559f230dadf = L.circleMarker(\n",
       "                [33.0, 44.0],\n",
       "                {&quot;bubblingMouseEvents&quot;: true, &quot;color&quot;: &quot;red&quot;, &quot;dashArray&quot;: null, &quot;dashOffset&quot;: null, &quot;fill&quot;: true, &quot;fillColor&quot;: &quot;red&quot;, &quot;fillOpacity&quot;: 0.2, &quot;fillRule&quot;: &quot;evenodd&quot;, &quot;lineCap&quot;: &quot;round&quot;, &quot;lineJoin&quot;: &quot;round&quot;, &quot;opacity&quot;: 1.0, &quot;radius&quot;: 6.084127448138132, &quot;stroke&quot;: true, &quot;weight&quot;: 3}\n",
       "            ).addTo(map_adbf39b066471cb007ce6ebdf5bfea73);\n",
       "        \n",
       "    \n",
       "        var popup_650ae6aa5d2afe117e30ea0d3538470a = L.popup({&quot;maxWidth&quot;: &quot;100%&quot;});\n",
       "\n",
       "        \n",
       "            \n",
       "                var html_73c9c615cec6aef78458241b636913b8 = $(`&lt;div id=&quot;html_73c9c615cec6aef78458241b636913b8&quot; style=&quot;width: 100.0%; height: 100.0%;&quot;&gt;Iraq&lt;/div&gt;`)[0];\n",
       "                popup_650ae6aa5d2afe117e30ea0d3538470a.setContent(html_73c9c615cec6aef78458241b636913b8);\n",
       "            \n",
       "        \n",
       "\n",
       "        circle_marker_f6c62c387b7b698f9e7a2559f230dadf.bindPopup(popup_650ae6aa5d2afe117e30ea0d3538470a)\n",
       "        ;\n",
       "\n",
       "        \n",
       "    \n",
       "    \n",
       "            var circle_marker_2d65bff05e7aec564c822e8f0a87f781 = L.circleMarker(\n",
       "                [31.5, 34.75],\n",
       "                {&quot;bubblingMouseEvents&quot;: true, &quot;color&quot;: &quot;red&quot;, &quot;dashArray&quot;: null, &quot;dashOffset&quot;: null, &quot;fill&quot;: true, &quot;fillColor&quot;: &quot;red&quot;, &quot;fillOpacity&quot;: 0.2, &quot;fillRule&quot;: &quot;evenodd&quot;, &quot;lineCap&quot;: &quot;round&quot;, &quot;lineJoin&quot;: &quot;round&quot;, &quot;opacity&quot;: 1.0, &quot;radius&quot;: 1.251700080205013, &quot;stroke&quot;: true, &quot;weight&quot;: 3}\n",
       "            ).addTo(map_adbf39b066471cb007ce6ebdf5bfea73);\n",
       "        \n",
       "    \n",
       "        var popup_8631a14615ccaa688297c04e38828ba7 = L.popup({&quot;maxWidth&quot;: &quot;100%&quot;});\n",
       "\n",
       "        \n",
       "            \n",
       "                var html_8504a7144c053a3b1771c9ba50351fb0 = $(`&lt;div id=&quot;html_8504a7144c053a3b1771c9ba50351fb0&quot; style=&quot;width: 100.0%; height: 100.0%;&quot;&gt;Israel&lt;/div&gt;`)[0];\n",
       "                popup_8631a14615ccaa688297c04e38828ba7.setContent(html_8504a7144c053a3b1771c9ba50351fb0);\n",
       "            \n",
       "        \n",
       "\n",
       "        circle_marker_2d65bff05e7aec564c822e8f0a87f781.bindPopup(popup_8631a14615ccaa688297c04e38828ba7)\n",
       "        ;\n",
       "\n",
       "        \n",
       "    \n",
       "    \n",
       "            var circle_marker_41984b68bb693c7bf48343343e65c86b = L.circleMarker(\n",
       "                [42.83333, 12.83333],\n",
       "                {&quot;bubblingMouseEvents&quot;: true, &quot;color&quot;: &quot;black&quot;, &quot;dashArray&quot;: null, &quot;dashOffset&quot;: null, &quot;fill&quot;: true, &quot;fillColor&quot;: &quot;black&quot;, &quot;fillOpacity&quot;: 0.2, &quot;fillRule&quot;: &quot;evenodd&quot;, &quot;lineCap&quot;: &quot;round&quot;, &quot;lineJoin&quot;: &quot;round&quot;, &quot;opacity&quot;: 1.0, &quot;radius&quot;: 5.615687596801955, &quot;stroke&quot;: true, &quot;weight&quot;: 3}\n",
       "            ).addTo(map_adbf39b066471cb007ce6ebdf5bfea73);\n",
       "        \n",
       "    \n",
       "        var popup_b7d3c5b5b4d4308c94e7ce1b3000f067 = L.popup({&quot;maxWidth&quot;: &quot;100%&quot;});\n",
       "\n",
       "        \n",
       "            \n",
       "                var html_d3aa239bdc774b3c5576dcc3e0fefd89 = $(`&lt;div id=&quot;html_d3aa239bdc774b3c5576dcc3e0fefd89&quot; style=&quot;width: 100.0%; height: 100.0%;&quot;&gt;Italy&lt;/div&gt;`)[0];\n",
       "                popup_b7d3c5b5b4d4308c94e7ce1b3000f067.setContent(html_d3aa239bdc774b3c5576dcc3e0fefd89);\n",
       "            \n",
       "        \n",
       "\n",
       "        circle_marker_41984b68bb693c7bf48343343e65c86b.bindPopup(popup_b7d3c5b5b4d4308c94e7ce1b3000f067)\n",
       "        ;\n",
       "\n",
       "        \n",
       "    \n",
       "    \n",
       "            var circle_marker_6ed0ad1289a182d57122b513de80ddde = L.circleMarker(\n",
       "                [18.16667, -77.25],\n",
       "                {&quot;bubblingMouseEvents&quot;: true, &quot;color&quot;: &quot;green&quot;, &quot;dashArray&quot;: null, &quot;dashOffset&quot;: null, &quot;fill&quot;: true, &quot;fillColor&quot;: &quot;green&quot;, &quot;fillOpacity&quot;: 0.2, &quot;fillRule&quot;: &quot;evenodd&quot;, &quot;lineCap&quot;: &quot;round&quot;, &quot;lineJoin&quot;: &quot;round&quot;, &quot;opacity&quot;: 1.0, &quot;radius&quot;: 5.7788713764036945, &quot;stroke&quot;: true, &quot;weight&quot;: 3}\n",
       "            ).addTo(map_adbf39b066471cb007ce6ebdf5bfea73);\n",
       "        \n",
       "    \n",
       "        var popup_5d66d0c66acab9c51b9a2a8eca2e3266 = L.popup({&quot;maxWidth&quot;: &quot;100%&quot;});\n",
       "\n",
       "        \n",
       "            \n",
       "                var html_a48304afc77ba910605df0efb84952a0 = $(`&lt;div id=&quot;html_a48304afc77ba910605df0efb84952a0&quot; style=&quot;width: 100.0%; height: 100.0%;&quot;&gt;Jamaica&lt;/div&gt;`)[0];\n",
       "                popup_5d66d0c66acab9c51b9a2a8eca2e3266.setContent(html_a48304afc77ba910605df0efb84952a0);\n",
       "            \n",
       "        \n",
       "\n",
       "        circle_marker_6ed0ad1289a182d57122b513de80ddde.bindPopup(popup_5d66d0c66acab9c51b9a2a8eca2e3266)\n",
       "        ;\n",
       "\n",
       "        \n",
       "    \n",
       "    \n",
       "            var circle_marker_1972c1156f7d29e43895c2ca19bc237f = L.circleMarker(\n",
       "                [31.0, 36.0],\n",
       "                {&quot;bubblingMouseEvents&quot;: true, &quot;color&quot;: &quot;red&quot;, &quot;dashArray&quot;: null, &quot;dashOffset&quot;: null, &quot;fill&quot;: true, &quot;fillColor&quot;: &quot;red&quot;, &quot;fillOpacity&quot;: 0.2, &quot;fillRule&quot;: &quot;evenodd&quot;, &quot;lineCap&quot;: &quot;round&quot;, &quot;lineJoin&quot;: &quot;round&quot;, &quot;opacity&quot;: 1.0, &quot;radius&quot;: 2.516601772518729, &quot;stroke&quot;: true, &quot;weight&quot;: 3}\n",
       "            ).addTo(map_adbf39b066471cb007ce6ebdf5bfea73);\n",
       "        \n",
       "    \n",
       "        var popup_ee9b90f22963e61ac8aca02753715bb8 = L.popup({&quot;maxWidth&quot;: &quot;100%&quot;});\n",
       "\n",
       "        \n",
       "            \n",
       "                var html_0b9b200c696b3d2c50a432a9e5e00fad = $(`&lt;div id=&quot;html_0b9b200c696b3d2c50a432a9e5e00fad&quot; style=&quot;width: 100.0%; height: 100.0%;&quot;&gt;Jordan&lt;/div&gt;`)[0];\n",
       "                popup_ee9b90f22963e61ac8aca02753715bb8.setContent(html_0b9b200c696b3d2c50a432a9e5e00fad);\n",
       "            \n",
       "        \n",
       "\n",
       "        circle_marker_1972c1156f7d29e43895c2ca19bc237f.bindPopup(popup_ee9b90f22963e61ac8aca02753715bb8)\n",
       "        ;\n",
       "\n",
       "        \n",
       "    \n",
       "    \n",
       "            var circle_marker_582f60ce3941ee729f8f1195486eb23f = L.circleMarker(\n",
       "                [35.68536, 139.75309],\n",
       "                {&quot;bubblingMouseEvents&quot;: true, &quot;color&quot;: &quot;red&quot;, &quot;dashArray&quot;: null, &quot;dashOffset&quot;: null, &quot;fill&quot;: true, &quot;fillColor&quot;: &quot;red&quot;, &quot;fillOpacity&quot;: 0.2, &quot;fillRule&quot;: &quot;evenodd&quot;, &quot;lineCap&quot;: &quot;round&quot;, &quot;lineJoin&quot;: &quot;round&quot;, &quot;opacity&quot;: 1.0, &quot;radius&quot;: 3.784269826192565, &quot;stroke&quot;: true, &quot;weight&quot;: 3}\n",
       "            ).addTo(map_adbf39b066471cb007ce6ebdf5bfea73);\n",
       "        \n",
       "    \n",
       "        var popup_9ae1495e158a622f99b78d52a994bdf8 = L.popup({&quot;maxWidth&quot;: &quot;100%&quot;});\n",
       "\n",
       "        \n",
       "            \n",
       "                var html_b37bf7908e5bf0d2e5f6b84091ff9740 = $(`&lt;div id=&quot;html_b37bf7908e5bf0d2e5f6b84091ff9740&quot; style=&quot;width: 100.0%; height: 100.0%;&quot;&gt;Japan&lt;/div&gt;`)[0];\n",
       "                popup_9ae1495e158a622f99b78d52a994bdf8.setContent(html_b37bf7908e5bf0d2e5f6b84091ff9740);\n",
       "            \n",
       "        \n",
       "\n",
       "        circle_marker_582f60ce3941ee729f8f1195486eb23f.bindPopup(popup_9ae1495e158a622f99b78d52a994bdf8)\n",
       "        ;\n",
       "\n",
       "        \n",
       "    \n",
       "    \n",
       "            var circle_marker_afa86b69f4c270ce7049415398c14da2 = L.circleMarker(\n",
       "                [48.0, 68.0],\n",
       "                {&quot;bubblingMouseEvents&quot;: true, &quot;color&quot;: &quot;red&quot;, &quot;dashArray&quot;: null, &quot;dashOffset&quot;: null, &quot;fill&quot;: true, &quot;fillColor&quot;: &quot;red&quot;, &quot;fillOpacity&quot;: 0.2, &quot;fillRule&quot;: &quot;evenodd&quot;, &quot;lineCap&quot;: &quot;round&quot;, &quot;lineJoin&quot;: &quot;round&quot;, &quot;opacity&quot;: 1.0, &quot;radius&quot;: 5.626752410440319, &quot;stroke&quot;: true, &quot;weight&quot;: 3}\n",
       "            ).addTo(map_adbf39b066471cb007ce6ebdf5bfea73);\n",
       "        \n",
       "    \n",
       "        var popup_5cff5952bd4f042a0a0484021280ea00 = L.popup({&quot;maxWidth&quot;: &quot;100%&quot;});\n",
       "\n",
       "        \n",
       "            \n",
       "                var html_afce6d7b9706dac71732fd9f750312da = $(`&lt;div id=&quot;html_afce6d7b9706dac71732fd9f750312da&quot; style=&quot;width: 100.0%; height: 100.0%;&quot;&gt;Kazakhstan&lt;/div&gt;`)[0];\n",
       "                popup_5cff5952bd4f042a0a0484021280ea00.setContent(html_afce6d7b9706dac71732fd9f750312da);\n",
       "            \n",
       "        \n",
       "\n",
       "        circle_marker_afa86b69f4c270ce7049415398c14da2.bindPopup(popup_5cff5952bd4f042a0a0484021280ea00)\n",
       "        ;\n",
       "\n",
       "        \n",
       "    \n",
       "    \n",
       "            var circle_marker_69e52ad7c492f30aff4bacb447922a66 = L.circleMarker(\n",
       "                [1.0, 38.0],\n",
       "                {&quot;bubblingMouseEvents&quot;: true, &quot;color&quot;: &quot;blue&quot;, &quot;dashArray&quot;: null, &quot;dashOffset&quot;: null, &quot;fill&quot;: true, &quot;fillColor&quot;: &quot;blue&quot;, &quot;fillOpacity&quot;: 0.2, &quot;fillRule&quot;: &quot;evenodd&quot;, &quot;lineCap&quot;: &quot;round&quot;, &quot;lineJoin&quot;: &quot;round&quot;, &quot;opacity&quot;: 1.0, &quot;radius&quot;: 24.088125640567295, &quot;stroke&quot;: true, &quot;weight&quot;: 3}\n",
       "            ).addTo(map_adbf39b066471cb007ce6ebdf5bfea73);\n",
       "        \n",
       "    \n",
       "        var popup_7eed1aabf1bea58671ddd7f1af5cfb9a = L.popup({&quot;maxWidth&quot;: &quot;100%&quot;});\n",
       "\n",
       "        \n",
       "            \n",
       "                var html_dfb6c33d536d69386ad8e51ae53cd6c8 = $(`&lt;div id=&quot;html_dfb6c33d536d69386ad8e51ae53cd6c8&quot; style=&quot;width: 100.0%; height: 100.0%;&quot;&gt;Kenya&lt;/div&gt;`)[0];\n",
       "                popup_7eed1aabf1bea58671ddd7f1af5cfb9a.setContent(html_dfb6c33d536d69386ad8e51ae53cd6c8);\n",
       "            \n",
       "        \n",
       "\n",
       "        circle_marker_69e52ad7c492f30aff4bacb447922a66.bindPopup(popup_7eed1aabf1bea58671ddd7f1af5cfb9a)\n",
       "        ;\n",
       "\n",
       "        \n",
       "    \n",
       "    \n",
       "            var circle_marker_949ac4e4c9f055c1c550e33d5d13803b = L.circleMarker(\n",
       "                [41.5, 75.0],\n",
       "                {&quot;bubblingMouseEvents&quot;: true, &quot;color&quot;: &quot;red&quot;, &quot;dashArray&quot;: null, &quot;dashOffset&quot;: null, &quot;fill&quot;: true, &quot;fillColor&quot;: &quot;red&quot;, &quot;fillOpacity&quot;: 0.2, &quot;fillRule&quot;: &quot;evenodd&quot;, &quot;lineCap&quot;: &quot;round&quot;, &quot;lineJoin&quot;: &quot;round&quot;, &quot;opacity&quot;: 1.0, &quot;radius&quot;: 7.970758939453412, &quot;stroke&quot;: true, &quot;weight&quot;: 3}\n",
       "            ).addTo(map_adbf39b066471cb007ce6ebdf5bfea73);\n",
       "        \n",
       "    \n",
       "        var popup_dae07f598dd079e97380cac793001e2b = L.popup({&quot;maxWidth&quot;: &quot;100%&quot;});\n",
       "\n",
       "        \n",
       "            \n",
       "                var html_f6c2fcf04bb941c235856d2c7def16f1 = $(`&lt;div id=&quot;html_f6c2fcf04bb941c235856d2c7def16f1&quot; style=&quot;width: 100.0%; height: 100.0%;&quot;&gt;Kyrgyz Republic&lt;/div&gt;`)[0];\n",
       "                popup_dae07f598dd079e97380cac793001e2b.setContent(html_f6c2fcf04bb941c235856d2c7def16f1);\n",
       "            \n",
       "        \n",
       "\n",
       "        circle_marker_949ac4e4c9f055c1c550e33d5d13803b.bindPopup(popup_dae07f598dd079e97380cac793001e2b)\n",
       "        ;\n",
       "\n",
       "        \n",
       "    \n",
       "    \n",
       "            var circle_marker_c003e12b006e4ac984260cb51ee52e12 = L.circleMarker(\n",
       "                [13.0, 105.0],\n",
       "                {&quot;bubblingMouseEvents&quot;: true, &quot;color&quot;: &quot;red&quot;, &quot;dashArray&quot;: null, &quot;dashOffset&quot;: null, &quot;fill&quot;: true, &quot;fillColor&quot;: &quot;red&quot;, &quot;fillOpacity&quot;: 0.2, &quot;fillRule&quot;: &quot;evenodd&quot;, &quot;lineCap&quot;: &quot;round&quot;, &quot;lineJoin&quot;: &quot;round&quot;, &quot;opacity&quot;: 1.0, &quot;radius&quot;: 14.238306436238885, &quot;stroke&quot;: true, &quot;weight&quot;: 3}\n",
       "            ).addTo(map_adbf39b066471cb007ce6ebdf5bfea73);\n",
       "        \n",
       "    \n",
       "        var popup_3f9618e43032c285f01d8708406d39e5 = L.popup({&quot;maxWidth&quot;: &quot;100%&quot;});\n",
       "\n",
       "        \n",
       "            \n",
       "                var html_5862bc8e2bbe8ecc895ec4e0caa52ac0 = $(`&lt;div id=&quot;html_5862bc8e2bbe8ecc895ec4e0caa52ac0&quot; style=&quot;width: 100.0%; height: 100.0%;&quot;&gt;Cambodia&lt;/div&gt;`)[0];\n",
       "                popup_3f9618e43032c285f01d8708406d39e5.setContent(html_5862bc8e2bbe8ecc895ec4e0caa52ac0);\n",
       "            \n",
       "        \n",
       "\n",
       "        circle_marker_c003e12b006e4ac984260cb51ee52e12.bindPopup(popup_3f9618e43032c285f01d8708406d39e5)\n",
       "        ;\n",
       "\n",
       "        \n",
       "    \n",
       "    \n",
       "            var circle_marker_ef2e774dfed0795428e76c06b8ca4f48 = L.circleMarker(\n",
       "                [18.0, 105.0],\n",
       "                {&quot;bubblingMouseEvents&quot;: true, &quot;color&quot;: &quot;red&quot;, &quot;dashArray&quot;: null, &quot;dashOffset&quot;: null, &quot;fill&quot;: true, &quot;fillColor&quot;: &quot;red&quot;, &quot;fillOpacity&quot;: 0.2, &quot;fillRule&quot;: &quot;evenodd&quot;, &quot;lineCap&quot;: &quot;round&quot;, &quot;lineJoin&quot;: &quot;round&quot;, &quot;opacity&quot;: 1.0, &quot;radius&quot;: 10.52412004132549, &quot;stroke&quot;: true, &quot;weight&quot;: 3}\n",
       "            ).addTo(map_adbf39b066471cb007ce6ebdf5bfea73);\n",
       "        \n",
       "    \n",
       "        var popup_b55599cf56444ea9232c21b11c2c3438 = L.popup({&quot;maxWidth&quot;: &quot;100%&quot;});\n",
       "\n",
       "        \n",
       "            \n",
       "                var html_364a2c36bdcad3edba98df360419940e = $(`&lt;div id=&quot;html_364a2c36bdcad3edba98df360419940e&quot; style=&quot;width: 100.0%; height: 100.0%;&quot;&gt;Lao&lt;/div&gt;`)[0];\n",
       "                popup_b55599cf56444ea9232c21b11c2c3438.setContent(html_364a2c36bdcad3edba98df360419940e);\n",
       "            \n",
       "        \n",
       "\n",
       "        circle_marker_ef2e774dfed0795428e76c06b8ca4f48.bindPopup(popup_b55599cf56444ea9232c21b11c2c3438)\n",
       "        ;\n",
       "\n",
       "        \n",
       "    \n",
       "    \n",
       "            var circle_marker_ef15c5e483e0f11c365a7f709620f4ae = L.circleMarker(\n",
       "                [6.5, -9.5],\n",
       "                {&quot;bubblingMouseEvents&quot;: true, &quot;color&quot;: &quot;blue&quot;, &quot;dashArray&quot;: null, &quot;dashOffset&quot;: null, &quot;fill&quot;: true, &quot;fillColor&quot;: &quot;blue&quot;, &quot;fillOpacity&quot;: 0.2, &quot;fillRule&quot;: &quot;evenodd&quot;, &quot;lineCap&quot;: &quot;round&quot;, &quot;lineJoin&quot;: &quot;round&quot;, &quot;opacity&quot;: 1.0, &quot;radius&quot;: 10.185772240421114, &quot;stroke&quot;: true, &quot;weight&quot;: 3}\n",
       "            ).addTo(map_adbf39b066471cb007ce6ebdf5bfea73);\n",
       "        \n",
       "    \n",
       "        var popup_d4eefd47a9bdfd1e7d28e19a5606634d = L.popup({&quot;maxWidth&quot;: &quot;100%&quot;});\n",
       "\n",
       "        \n",
       "            \n",
       "                var html_4eeda8e875a22f8e784698055139ac31 = $(`&lt;div id=&quot;html_4eeda8e875a22f8e784698055139ac31&quot; style=&quot;width: 100.0%; height: 100.0%;&quot;&gt;Liberia&lt;/div&gt;`)[0];\n",
       "                popup_d4eefd47a9bdfd1e7d28e19a5606634d.setContent(html_4eeda8e875a22f8e784698055139ac31);\n",
       "            \n",
       "        \n",
       "\n",
       "        circle_marker_ef15c5e483e0f11c365a7f709620f4ae.bindPopup(popup_d4eefd47a9bdfd1e7d28e19a5606634d)\n",
       "        ;\n",
       "\n",
       "        \n",
       "    \n",
       "    \n",
       "            var circle_marker_e903693bc445b4f7314ae6b679fcc693 = L.circleMarker(\n",
       "                [13.88333, -60.96667],\n",
       "                {&quot;bubblingMouseEvents&quot;: true, &quot;color&quot;: &quot;green&quot;, &quot;dashArray&quot;: null, &quot;dashOffset&quot;: null, &quot;fill&quot;: true, &quot;fillColor&quot;: &quot;green&quot;, &quot;fillOpacity&quot;: 0.2, &quot;fillRule&quot;: &quot;evenodd&quot;, &quot;lineCap&quot;: &quot;round&quot;, &quot;lineJoin&quot;: &quot;round&quot;, &quot;opacity&quot;: 1.0, &quot;radius&quot;: 1.0777350206264305, &quot;stroke&quot;: true, &quot;weight&quot;: 3}\n",
       "            ).addTo(map_adbf39b066471cb007ce6ebdf5bfea73);\n",
       "        \n",
       "    \n",
       "        var popup_5b38945b248407265481ab26621606a1 = L.popup({&quot;maxWidth&quot;: &quot;100%&quot;});\n",
       "\n",
       "        \n",
       "            \n",
       "                var html_36049c935e5d420a547cf97271e34d81 = $(`&lt;div id=&quot;html_36049c935e5d420a547cf97271e34d81&quot; style=&quot;width: 100.0%; height: 100.0%;&quot;&gt;St. Lucia&lt;/div&gt;`)[0];\n",
       "                popup_5b38945b248407265481ab26621606a1.setContent(html_36049c935e5d420a547cf97271e34d81);\n",
       "            \n",
       "        \n",
       "\n",
       "        circle_marker_e903693bc445b4f7314ae6b679fcc693.bindPopup(popup_5b38945b248407265481ab26621606a1)\n",
       "        ;\n",
       "\n",
       "        \n",
       "    \n",
       "    \n",
       "            var circle_marker_a9ec32ea05dcb1a5426ce503bae7623c = L.circleMarker(\n",
       "                [7.75, 80.75],\n",
       "                {&quot;bubblingMouseEvents&quot;: true, &quot;color&quot;: &quot;red&quot;, &quot;dashArray&quot;: null, &quot;dashOffset&quot;: null, &quot;fill&quot;: true, &quot;fillColor&quot;: &quot;red&quot;, &quot;fillOpacity&quot;: 0.2, &quot;fillRule&quot;: &quot;evenodd&quot;, &quot;lineCap&quot;: &quot;round&quot;, &quot;lineJoin&quot;: &quot;round&quot;, &quot;opacity&quot;: 1.0, &quot;radius&quot;: 11.346023660426557, &quot;stroke&quot;: true, &quot;weight&quot;: 3}\n",
       "            ).addTo(map_adbf39b066471cb007ce6ebdf5bfea73);\n",
       "        \n",
       "    \n",
       "        var popup_60d285465eb502b05ccaa8563c05f51b = L.popup({&quot;maxWidth&quot;: &quot;100%&quot;});\n",
       "\n",
       "        \n",
       "            \n",
       "                var html_0775adc0d7230115e82cdacd04eeab2c = $(`&lt;div id=&quot;html_0775adc0d7230115e82cdacd04eeab2c&quot; style=&quot;width: 100.0%; height: 100.0%;&quot;&gt;Sri Lanka&lt;/div&gt;`)[0];\n",
       "                popup_60d285465eb502b05ccaa8563c05f51b.setContent(html_0775adc0d7230115e82cdacd04eeab2c);\n",
       "            \n",
       "        \n",
       "\n",
       "        circle_marker_a9ec32ea05dcb1a5426ce503bae7623c.bindPopup(popup_60d285465eb502b05ccaa8563c05f51b)\n",
       "        ;\n",
       "\n",
       "        \n",
       "    \n",
       "    \n",
       "            var circle_marker_d383cab47a0fc271435f6df2d05b2125 = L.circleMarker(\n",
       "                [-29.5, 28.25],\n",
       "                {&quot;bubblingMouseEvents&quot;: true, &quot;color&quot;: &quot;blue&quot;, &quot;dashArray&quot;: null, &quot;dashOffset&quot;: null, &quot;fill&quot;: true, &quot;fillColor&quot;: &quot;blue&quot;, &quot;fillOpacity&quot;: 0.2, &quot;fillRule&quot;: &quot;evenodd&quot;, &quot;lineCap&quot;: &quot;round&quot;, &quot;lineJoin&quot;: &quot;round&quot;, &quot;opacity&quot;: 1.0, &quot;radius&quot;: 6.525198282777074, &quot;stroke&quot;: true, &quot;weight&quot;: 3}\n",
       "            ).addTo(map_adbf39b066471cb007ce6ebdf5bfea73);\n",
       "        \n",
       "    \n",
       "        var popup_d59a0626d3c75f95a270ce1d361f4b5a = L.popup({&quot;maxWidth&quot;: &quot;100%&quot;});\n",
       "\n",
       "        \n",
       "            \n",
       "                var html_13a151c03ae7eee3d1861c93e9965a80 = $(`&lt;div id=&quot;html_13a151c03ae7eee3d1861c93e9965a80&quot; style=&quot;width: 100.0%; height: 100.0%;&quot;&gt;Lesotho&lt;/div&gt;`)[0];\n",
       "                popup_d59a0626d3c75f95a270ce1d361f4b5a.setContent(html_13a151c03ae7eee3d1861c93e9965a80);\n",
       "            \n",
       "        \n",
       "\n",
       "        circle_marker_d383cab47a0fc271435f6df2d05b2125.bindPopup(popup_d59a0626d3c75f95a270ce1d361f4b5a)\n",
       "        ;\n",
       "\n",
       "        \n",
       "    \n",
       "    \n",
       "            var circle_marker_42b755f2e2c325731f6a9dbaa4847eba = L.circleMarker(\n",
       "                [55.41667, 24.0],\n",
       "                {&quot;bubblingMouseEvents&quot;: true, &quot;color&quot;: &quot;black&quot;, &quot;dashArray&quot;: null, &quot;dashOffset&quot;: null, &quot;fill&quot;: true, &quot;fillColor&quot;: &quot;black&quot;, &quot;fillOpacity&quot;: 0.2, &quot;fillRule&quot;: &quot;evenodd&quot;, &quot;lineCap&quot;: &quot;round&quot;, &quot;lineJoin&quot;: &quot;round&quot;, &quot;opacity&quot;: 1.0, &quot;radius&quot;: 1.462132982183076, &quot;stroke&quot;: true, &quot;weight&quot;: 3}\n",
       "            ).addTo(map_adbf39b066471cb007ce6ebdf5bfea73);\n",
       "        \n",
       "    \n",
       "        var popup_1f7374bef9d8c341b906316733868cff = L.popup({&quot;maxWidth&quot;: &quot;100%&quot;});\n",
       "\n",
       "        \n",
       "            \n",
       "                var html_33e8894e3c21153233cdea67fc8bac7e = $(`&lt;div id=&quot;html_33e8894e3c21153233cdea67fc8bac7e&quot; style=&quot;width: 100.0%; height: 100.0%;&quot;&gt;Lithuania&lt;/div&gt;`)[0];\n",
       "                popup_1f7374bef9d8c341b906316733868cff.setContent(html_33e8894e3c21153233cdea67fc8bac7e);\n",
       "            \n",
       "        \n",
       "\n",
       "        circle_marker_42b755f2e2c325731f6a9dbaa4847eba.bindPopup(popup_1f7374bef9d8c341b906316733868cff)\n",
       "        ;\n",
       "\n",
       "        \n",
       "    \n",
       "    \n",
       "            var circle_marker_ae301cf7b6c133f22e6e554dea90628b = L.circleMarker(\n",
       "                [57.0, 25.0],\n",
       "                {&quot;bubblingMouseEvents&quot;: true, &quot;color&quot;: &quot;black&quot;, &quot;dashArray&quot;: null, &quot;dashOffset&quot;: null, &quot;fill&quot;: true, &quot;fillColor&quot;: &quot;black&quot;, &quot;fillOpacity&quot;: 0.2, &quot;fillRule&quot;: &quot;evenodd&quot;, &quot;lineCap&quot;: &quot;round&quot;, &quot;lineJoin&quot;: &quot;round&quot;, &quot;opacity&quot;: 1.0, &quot;radius&quot;: 0.9647476909541707, &quot;stroke&quot;: true, &quot;weight&quot;: 3}\n",
       "            ).addTo(map_adbf39b066471cb007ce6ebdf5bfea73);\n",
       "        \n",
       "    \n",
       "        var popup_4cbbd6a6a58e0bc4ad11db8d8bbe8d1f = L.popup({&quot;maxWidth&quot;: &quot;100%&quot;});\n",
       "\n",
       "        \n",
       "            \n",
       "                var html_3074c883aeb4bdd02905dae8ffebb9f9 = $(`&lt;div id=&quot;html_3074c883aeb4bdd02905dae8ffebb9f9&quot; style=&quot;width: 100.0%; height: 100.0%;&quot;&gt;Latvia&lt;/div&gt;`)[0];\n",
       "                popup_4cbbd6a6a58e0bc4ad11db8d8bbe8d1f.setContent(html_3074c883aeb4bdd02905dae8ffebb9f9);\n",
       "            \n",
       "        \n",
       "\n",
       "        circle_marker_ae301cf7b6c133f22e6e554dea90628b.bindPopup(popup_4cbbd6a6a58e0bc4ad11db8d8bbe8d1f)\n",
       "        ;\n",
       "\n",
       "        \n",
       "    \n",
       "    \n",
       "            var circle_marker_c8a05470a7323d20f32906ca1164549f = L.circleMarker(\n",
       "                [32.0, -6.0],\n",
       "                {&quot;bubblingMouseEvents&quot;: true, &quot;color&quot;: &quot;blue&quot;, &quot;dashArray&quot;: null, &quot;dashOffset&quot;: null, &quot;fill&quot;: true, &quot;fillColor&quot;: &quot;blue&quot;, &quot;fillOpacity&quot;: 0.2, &quot;fillRule&quot;: &quot;evenodd&quot;, &quot;lineCap&quot;: &quot;round&quot;, &quot;lineJoin&quot;: &quot;round&quot;, &quot;opacity&quot;: 1.0, &quot;radius&quot;: 10.292608778849043, &quot;stroke&quot;: true, &quot;weight&quot;: 3}\n",
       "            ).addTo(map_adbf39b066471cb007ce6ebdf5bfea73);\n",
       "        \n",
       "    \n",
       "        var popup_f7d29e9ad7cc771075a5dcc74465d375 = L.popup({&quot;maxWidth&quot;: &quot;100%&quot;});\n",
       "\n",
       "        \n",
       "            \n",
       "                var html_32ab3e230ce8a7d05ff3c2e9289c66f1 = $(`&lt;div id=&quot;html_32ab3e230ce8a7d05ff3c2e9289c66f1&quot; style=&quot;width: 100.0%; height: 100.0%;&quot;&gt;Morocco&lt;/div&gt;`)[0];\n",
       "                popup_f7d29e9ad7cc771075a5dcc74465d375.setContent(html_32ab3e230ce8a7d05ff3c2e9289c66f1);\n",
       "            \n",
       "        \n",
       "\n",
       "        circle_marker_c8a05470a7323d20f32906ca1164549f.bindPopup(popup_f7d29e9ad7cc771075a5dcc74465d375)\n",
       "        ;\n",
       "\n",
       "        \n",
       "    \n",
       "    \n",
       "            var circle_marker_20b738a944f45bce942259be3685ac85 = L.circleMarker(\n",
       "                [47.25, 28.58333],\n",
       "                {&quot;bubblingMouseEvents&quot;: true, &quot;color&quot;: &quot;black&quot;, &quot;dashArray&quot;: null, &quot;dashOffset&quot;: null, &quot;fill&quot;: true, &quot;fillColor&quot;: &quot;black&quot;, &quot;fillOpacity&quot;: 0.2, &quot;fillRule&quot;: &quot;evenodd&quot;, &quot;lineCap&quot;: &quot;round&quot;, &quot;lineJoin&quot;: &quot;round&quot;, &quot;opacity&quot;: 1.0, &quot;radius&quot;: 6.811308285432134, &quot;stroke&quot;: true, &quot;weight&quot;: 3}\n",
       "            ).addTo(map_adbf39b066471cb007ce6ebdf5bfea73);\n",
       "        \n",
       "    \n",
       "        var popup_95921bcbbbd8b1eb702cecf7f5716de8 = L.popup({&quot;maxWidth&quot;: &quot;100%&quot;});\n",
       "\n",
       "        \n",
       "            \n",
       "                var html_6ca4dbae1cbf8d170087b0e97c235e86 = $(`&lt;div id=&quot;html_6ca4dbae1cbf8d170087b0e97c235e86&quot; style=&quot;width: 100.0%; height: 100.0%;&quot;&gt;Moldova&lt;/div&gt;`)[0];\n",
       "                popup_95921bcbbbd8b1eb702cecf7f5716de8.setContent(html_6ca4dbae1cbf8d170087b0e97c235e86);\n",
       "            \n",
       "        \n",
       "\n",
       "        circle_marker_20b738a944f45bce942259be3685ac85.bindPopup(popup_95921bcbbbd8b1eb702cecf7f5716de8)\n",
       "        ;\n",
       "\n",
       "        \n",
       "    \n",
       "    \n",
       "            var circle_marker_5a53d69a3619b903d56b5535a9ef3736 = L.circleMarker(\n",
       "                [-20.0, 47.0],\n",
       "                {&quot;bubblingMouseEvents&quot;: true, &quot;color&quot;: &quot;blue&quot;, &quot;dashArray&quot;: null, &quot;dashOffset&quot;: null, &quot;fill&quot;: true, &quot;fillColor&quot;: &quot;blue&quot;, &quot;fillOpacity&quot;: 0.2, &quot;fillRule&quot;: &quot;evenodd&quot;, &quot;lineCap&quot;: &quot;round&quot;, &quot;lineJoin&quot;: &quot;round&quot;, &quot;opacity&quot;: 1.0, &quot;radius&quot;: 25.242621279013672, &quot;stroke&quot;: true, &quot;weight&quot;: 3}\n",
       "            ).addTo(map_adbf39b066471cb007ce6ebdf5bfea73);\n",
       "        \n",
       "    \n",
       "        var popup_5473c855517db32ef4c28e1bd849bd51 = L.popup({&quot;maxWidth&quot;: &quot;100%&quot;});\n",
       "\n",
       "        \n",
       "            \n",
       "                var html_5878fa808cf697859c77758de567d853 = $(`&lt;div id=&quot;html_5878fa808cf697859c77758de567d853&quot; style=&quot;width: 100.0%; height: 100.0%;&quot;&gt;Madagascar&lt;/div&gt;`)[0];\n",
       "                popup_5473c855517db32ef4c28e1bd849bd51.setContent(html_5878fa808cf697859c77758de567d853);\n",
       "            \n",
       "        \n",
       "\n",
       "        circle_marker_5a53d69a3619b903d56b5535a9ef3736.bindPopup(popup_5473c855517db32ef4c28e1bd849bd51)\n",
       "        ;\n",
       "\n",
       "        \n",
       "    \n",
       "    \n",
       "            var circle_marker_56881c69bab797a0903be5be5c0b0be7 = L.circleMarker(\n",
       "                [3.2, 73.0],\n",
       "                {&quot;bubblingMouseEvents&quot;: true, &quot;color&quot;: &quot;red&quot;, &quot;dashArray&quot;: null, &quot;dashOffset&quot;: null, &quot;fill&quot;: true, &quot;fillColor&quot;: &quot;red&quot;, &quot;fillOpacity&quot;: 0.2, &quot;fillRule&quot;: &quot;evenodd&quot;, &quot;lineCap&quot;: &quot;round&quot;, &quot;lineJoin&quot;: &quot;round&quot;, &quot;opacity&quot;: 1.0, &quot;radius&quot;: 1.725996009495415, &quot;stroke&quot;: true, &quot;weight&quot;: 3}\n",
       "            ).addTo(map_adbf39b066471cb007ce6ebdf5bfea73);\n",
       "        \n",
       "    \n",
       "        var popup_f8768efc3a6116a62314f213f4664df3 = L.popup({&quot;maxWidth&quot;: &quot;100%&quot;});\n",
       "\n",
       "        \n",
       "            \n",
       "                var html_3b016a9fce85c3ef15b8e76096089753 = $(`&lt;div id=&quot;html_3b016a9fce85c3ef15b8e76096089753&quot; style=&quot;width: 100.0%; height: 100.0%;&quot;&gt;Maldives&lt;/div&gt;`)[0];\n",
       "                popup_f8768efc3a6116a62314f213f4664df3.setContent(html_3b016a9fce85c3ef15b8e76096089753);\n",
       "            \n",
       "        \n",
       "\n",
       "        circle_marker_56881c69bab797a0903be5be5c0b0be7.bindPopup(popup_f8768efc3a6116a62314f213f4664df3)\n",
       "        ;\n",
       "\n",
       "        \n",
       "    \n",
       "    \n",
       "            var circle_marker_8dee231c6df99a05f8b74a9fe755f4e4 = L.circleMarker(\n",
       "                [19.42847, -99.12766],\n",
       "                {&quot;bubblingMouseEvents&quot;: true, &quot;color&quot;: &quot;green&quot;, &quot;dashArray&quot;: null, &quot;dashOffset&quot;: null, &quot;fill&quot;: true, &quot;fillColor&quot;: &quot;green&quot;, &quot;fillOpacity&quot;: 0.2, &quot;fillRule&quot;: &quot;evenodd&quot;, &quot;lineCap&quot;: &quot;round&quot;, &quot;lineJoin&quot;: &quot;round&quot;, &quot;opacity&quot;: 1.0, &quot;radius&quot;: 21.543681011463075, &quot;stroke&quot;: true, &quot;weight&quot;: 3}\n",
       "            ).addTo(map_adbf39b066471cb007ce6ebdf5bfea73);\n",
       "        \n",
       "    \n",
       "        var popup_54a664f95b6c161be96feb157b007518 = L.popup({&quot;maxWidth&quot;: &quot;100%&quot;});\n",
       "\n",
       "        \n",
       "            \n",
       "                var html_f36279451b3a85c360275a2bc84c497b = $(`&lt;div id=&quot;html_f36279451b3a85c360275a2bc84c497b&quot; style=&quot;width: 100.0%; height: 100.0%;&quot;&gt;Mexico&lt;/div&gt;`)[0];\n",
       "                popup_54a664f95b6c161be96feb157b007518.setContent(html_f36279451b3a85c360275a2bc84c497b);\n",
       "            \n",
       "        \n",
       "\n",
       "        circle_marker_8dee231c6df99a05f8b74a9fe755f4e4.bindPopup(popup_54a664f95b6c161be96feb157b007518)\n",
       "        ;\n",
       "\n",
       "        \n",
       "    \n",
       "    \n",
       "            var circle_marker_45c677096ed8950dad3edb0e97637801 = L.circleMarker(\n",
       "                [41.66667, 21.75],\n",
       "                {&quot;bubblingMouseEvents&quot;: true, &quot;color&quot;: &quot;black&quot;, &quot;dashArray&quot;: null, &quot;dashOffset&quot;: null, &quot;fill&quot;: true, &quot;fillColor&quot;: &quot;black&quot;, &quot;fillOpacity&quot;: 0.2, &quot;fillRule&quot;: &quot;evenodd&quot;, &quot;lineCap&quot;: &quot;round&quot;, &quot;lineJoin&quot;: &quot;round&quot;, &quot;opacity&quot;: 1.0, &quot;radius&quot;: 1.6578919950337634, &quot;stroke&quot;: true, &quot;weight&quot;: 3}\n",
       "            ).addTo(map_adbf39b066471cb007ce6ebdf5bfea73);\n",
       "        \n",
       "    \n",
       "        var popup_2e1abfd16e4ad14a8dd55299a50f6dec = L.popup({&quot;maxWidth&quot;: &quot;100%&quot;});\n",
       "\n",
       "        \n",
       "            \n",
       "                var html_3c8e779bafbd7c30393507be97da778e = $(`&lt;div id=&quot;html_3c8e779bafbd7c30393507be97da778e&quot; style=&quot;width: 100.0%; height: 100.0%;&quot;&gt;North Macedonia&lt;/div&gt;`)[0];\n",
       "                popup_2e1abfd16e4ad14a8dd55299a50f6dec.setContent(html_3c8e779bafbd7c30393507be97da778e);\n",
       "            \n",
       "        \n",
       "\n",
       "        circle_marker_45c677096ed8950dad3edb0e97637801.bindPopup(popup_2e1abfd16e4ad14a8dd55299a50f6dec)\n",
       "        ;\n",
       "\n",
       "        \n",
       "    \n",
       "    \n",
       "            var circle_marker_388b832ff69050de58a81b0ab18c814a = L.circleMarker(\n",
       "                [18.0, -2.0],\n",
       "                {&quot;bubblingMouseEvents&quot;: true, &quot;color&quot;: &quot;blue&quot;, &quot;dashArray&quot;: null, &quot;dashOffset&quot;: null, &quot;fill&quot;: true, &quot;fillColor&quot;: &quot;blue&quot;, &quot;fillOpacity&quot;: 0.2, &quot;fillRule&quot;: &quot;evenodd&quot;, &quot;lineCap&quot;: &quot;round&quot;, &quot;lineJoin&quot;: &quot;round&quot;, &quot;opacity&quot;: 1.0, &quot;radius&quot;: 20.287619641644866, &quot;stroke&quot;: true, &quot;weight&quot;: 3}\n",
       "            ).addTo(map_adbf39b066471cb007ce6ebdf5bfea73);\n",
       "        \n",
       "    \n",
       "        var popup_e46d17512cead6c8168de97cadf40f11 = L.popup({&quot;maxWidth&quot;: &quot;100%&quot;});\n",
       "\n",
       "        \n",
       "            \n",
       "                var html_c2184b64ba339b052a3e7a23ba7e3e04 = $(`&lt;div id=&quot;html_c2184b64ba339b052a3e7a23ba7e3e04&quot; style=&quot;width: 100.0%; height: 100.0%;&quot;&gt;Mali&lt;/div&gt;`)[0];\n",
       "                popup_e46d17512cead6c8168de97cadf40f11.setContent(html_c2184b64ba339b052a3e7a23ba7e3e04);\n",
       "            \n",
       "        \n",
       "\n",
       "        circle_marker_388b832ff69050de58a81b0ab18c814a.bindPopup(popup_e46d17512cead6c8168de97cadf40f11)\n",
       "        ;\n",
       "\n",
       "        \n",
       "    \n",
       "    \n",
       "            var circle_marker_464c9a586346baef8d889262c57b4b81 = L.circleMarker(\n",
       "                [42.75, 19.25],\n",
       "                {&quot;bubblingMouseEvents&quot;: true, &quot;color&quot;: &quot;black&quot;, &quot;dashArray&quot;: null, &quot;dashOffset&quot;: null, &quot;fill&quot;: true, &quot;fillColor&quot;: &quot;black&quot;, &quot;fillOpacity&quot;: 0.2, &quot;fillRule&quot;: &quot;evenodd&quot;, &quot;lineCap&quot;: &quot;round&quot;, &quot;lineJoin&quot;: &quot;round&quot;, &quot;opacity&quot;: 1.0, &quot;radius&quot;: 0.2711633893217439, &quot;stroke&quot;: true, &quot;weight&quot;: 3}\n",
       "            ).addTo(map_adbf39b066471cb007ce6ebdf5bfea73);\n",
       "        \n",
       "    \n",
       "        var popup_545db2d9b8200df1a94045edac6422f3 = L.popup({&quot;maxWidth&quot;: &quot;100%&quot;});\n",
       "\n",
       "        \n",
       "            \n",
       "                var html_8263c8b3a23202ef4832162973e26927 = $(`&lt;div id=&quot;html_8263c8b3a23202ef4832162973e26927&quot; style=&quot;width: 100.0%; height: 100.0%;&quot;&gt;Montenegro&lt;/div&gt;`)[0];\n",
       "                popup_545db2d9b8200df1a94045edac6422f3.setContent(html_8263c8b3a23202ef4832162973e26927);\n",
       "            \n",
       "        \n",
       "\n",
       "        circle_marker_464c9a586346baef8d889262c57b4b81.bindPopup(popup_545db2d9b8200df1a94045edac6422f3)\n",
       "        ;\n",
       "\n",
       "        \n",
       "    \n",
       "    \n",
       "            var circle_marker_6ae194c378524f2d7110dfadd8ffc6dd = L.circleMarker(\n",
       "                [-18.25, 35.0],\n",
       "                {&quot;bubblingMouseEvents&quot;: true, &quot;color&quot;: &quot;blue&quot;, &quot;dashArray&quot;: null, &quot;dashOffset&quot;: null, &quot;fill&quot;: true, &quot;fillColor&quot;: &quot;blue&quot;, &quot;fillOpacity&quot;: 0.2, &quot;fillRule&quot;: &quot;evenodd&quot;, &quot;lineCap&quot;: &quot;round&quot;, &quot;lineJoin&quot;: &quot;round&quot;, &quot;opacity&quot;: 1.0, &quot;radius&quot;: 24.56920293676448, &quot;stroke&quot;: true, &quot;weight&quot;: 3}\n",
       "            ).addTo(map_adbf39b066471cb007ce6ebdf5bfea73);\n",
       "        \n",
       "    \n",
       "        var popup_12baddb410e614abc43c09b92f119976 = L.popup({&quot;maxWidth&quot;: &quot;100%&quot;});\n",
       "\n",
       "        \n",
       "            \n",
       "                var html_17585d3247932a36dbe8249067313522 = $(`&lt;div id=&quot;html_17585d3247932a36dbe8249067313522&quot; style=&quot;width: 100.0%; height: 100.0%;&quot;&gt;Mozambique&lt;/div&gt;`)[0];\n",
       "                popup_12baddb410e614abc43c09b92f119976.setContent(html_17585d3247932a36dbe8249067313522);\n",
       "            \n",
       "        \n",
       "\n",
       "        circle_marker_6ae194c378524f2d7110dfadd8ffc6dd.bindPopup(popup_12baddb410e614abc43c09b92f119976)\n",
       "        ;\n",
       "\n",
       "        \n",
       "    \n",
       "    \n",
       "            var circle_marker_c7916b4b284699e0fca978a978fc1295 = L.circleMarker(\n",
       "                [20.25, -10.5],\n",
       "                {&quot;bubblingMouseEvents&quot;: true, &quot;color&quot;: &quot;blue&quot;, &quot;dashArray&quot;: null, &quot;dashOffset&quot;: null, &quot;fill&quot;: true, &quot;fillColor&quot;: &quot;blue&quot;, &quot;fillOpacity&quot;: 0.2, &quot;fillRule&quot;: &quot;evenodd&quot;, &quot;lineCap&quot;: &quot;round&quot;, &quot;lineJoin&quot;: &quot;round&quot;, &quot;opacity&quot;: 1.0, &quot;radius&quot;: 6.898744493787591, &quot;stroke&quot;: true, &quot;weight&quot;: 3}\n",
       "            ).addTo(map_adbf39b066471cb007ce6ebdf5bfea73);\n",
       "        \n",
       "    \n",
       "        var popup_94d6e49c7e81730df312be313ead2c11 = L.popup({&quot;maxWidth&quot;: &quot;100%&quot;});\n",
       "\n",
       "        \n",
       "            \n",
       "                var html_e7d8e21c7382089fabfb357bfafd1009 = $(`&lt;div id=&quot;html_e7d8e21c7382089fabfb357bfafd1009&quot; style=&quot;width: 100.0%; height: 100.0%;&quot;&gt;Mauritania&lt;/div&gt;`)[0];\n",
       "                popup_94d6e49c7e81730df312be313ead2c11.setContent(html_e7d8e21c7382089fabfb357bfafd1009);\n",
       "            \n",
       "        \n",
       "\n",
       "        circle_marker_c7916b4b284699e0fca978a978fc1295.bindPopup(popup_94d6e49c7e81730df312be313ead2c11)\n",
       "        ;\n",
       "\n",
       "        \n",
       "    \n",
       "    \n",
       "            var circle_marker_e09aba705222d14314e7357149458d1b = L.circleMarker(\n",
       "                [-13.5, 34.0],\n",
       "                {&quot;bubblingMouseEvents&quot;: true, &quot;color&quot;: &quot;blue&quot;, &quot;dashArray&quot;: null, &quot;dashOffset&quot;: null, &quot;fill&quot;: true, &quot;fillColor&quot;: &quot;blue&quot;, &quot;fillOpacity&quot;: 0.2, &quot;fillRule&quot;: &quot;evenodd&quot;, &quot;lineCap&quot;: &quot;round&quot;, &quot;lineJoin&quot;: &quot;round&quot;, &quot;opacity&quot;: 1.0, &quot;radius&quot;: 19.62525417509149, &quot;stroke&quot;: true, &quot;weight&quot;: 3}\n",
       "            ).addTo(map_adbf39b066471cb007ce6ebdf5bfea73);\n",
       "        \n",
       "    \n",
       "        var popup_9c0f89066e56e682e7acfc4a09d8e276 = L.popup({&quot;maxWidth&quot;: &quot;100%&quot;});\n",
       "\n",
       "        \n",
       "            \n",
       "                var html_4c986330900dd638d13572f65e27d4ae = $(`&lt;div id=&quot;html_4c986330900dd638d13572f65e27d4ae&quot; style=&quot;width: 100.0%; height: 100.0%;&quot;&gt;Malawi&lt;/div&gt;`)[0];\n",
       "                popup_9c0f89066e56e682e7acfc4a09d8e276.setContent(html_4c986330900dd638d13572f65e27d4ae);\n",
       "            \n",
       "        \n",
       "\n",
       "        circle_marker_e09aba705222d14314e7357149458d1b.bindPopup(popup_9c0f89066e56e682e7acfc4a09d8e276)\n",
       "        ;\n",
       "\n",
       "        \n",
       "    \n",
       "    \n",
       "            var circle_marker_ed12d55a2db9113b53261d3315d9cf20 = L.circleMarker(\n",
       "                [2.5, 112.5],\n",
       "                {&quot;bubblingMouseEvents&quot;: true, &quot;color&quot;: &quot;red&quot;, &quot;dashArray&quot;: null, &quot;dashOffset&quot;: null, &quot;fill&quot;: true, &quot;fillColor&quot;: &quot;red&quot;, &quot;fillOpacity&quot;: 0.2, &quot;fillRule&quot;: &quot;evenodd&quot;, &quot;lineCap&quot;: &quot;round&quot;, &quot;lineJoin&quot;: &quot;round&quot;, &quot;opacity&quot;: 1.0, &quot;radius&quot;: 5.385333649736934, &quot;stroke&quot;: true, &quot;weight&quot;: 3}\n",
       "            ).addTo(map_adbf39b066471cb007ce6ebdf5bfea73);\n",
       "        \n",
       "    \n",
       "        var popup_d0561718a0110007c933e43595846490 = L.popup({&quot;maxWidth&quot;: &quot;100%&quot;});\n",
       "\n",
       "        \n",
       "            \n",
       "                var html_73933b0589406f1fa95fc5fe8a0f3ac1 = $(`&lt;div id=&quot;html_73933b0589406f1fa95fc5fe8a0f3ac1&quot; style=&quot;width: 100.0%; height: 100.0%;&quot;&gt;Malaysia&lt;/div&gt;`)[0];\n",
       "                popup_d0561718a0110007c933e43595846490.setContent(html_73933b0589406f1fa95fc5fe8a0f3ac1);\n",
       "            \n",
       "        \n",
       "\n",
       "        circle_marker_ed12d55a2db9113b53261d3315d9cf20.bindPopup(popup_d0561718a0110007c933e43595846490)\n",
       "        ;\n",
       "\n",
       "        \n",
       "    \n",
       "    \n",
       "            var circle_marker_e8476fb569d76a6bb9dd3e925b831761 = L.circleMarker(\n",
       "                [-22.0, 17.0],\n",
       "                {&quot;bubblingMouseEvents&quot;: true, &quot;color&quot;: &quot;blue&quot;, &quot;dashArray&quot;: null, &quot;dashOffset&quot;: null, &quot;fill&quot;: true, &quot;fillColor&quot;: &quot;blue&quot;, &quot;fillOpacity&quot;: 0.2, &quot;fillRule&quot;: &quot;evenodd&quot;, &quot;lineCap&quot;: &quot;round&quot;, &quot;lineJoin&quot;: &quot;round&quot;, &quot;opacity&quot;: 1.0, &quot;radius&quot;: 5.756990068193116, &quot;stroke&quot;: true, &quot;weight&quot;: 3}\n",
       "            ).addTo(map_adbf39b066471cb007ce6ebdf5bfea73);\n",
       "        \n",
       "    \n",
       "        var popup_fff89e3ff6f78cc466317bd1c42f7e99 = L.popup({&quot;maxWidth&quot;: &quot;100%&quot;});\n",
       "\n",
       "        \n",
       "            \n",
       "                var html_0e32c4dc6fcf3b46ac3455b3bf49baeb = $(`&lt;div id=&quot;html_0e32c4dc6fcf3b46ac3455b3bf49baeb&quot; style=&quot;width: 100.0%; height: 100.0%;&quot;&gt;Namibia&lt;/div&gt;`)[0];\n",
       "                popup_fff89e3ff6f78cc466317bd1c42f7e99.setContent(html_0e32c4dc6fcf3b46ac3455b3bf49baeb);\n",
       "            \n",
       "        \n",
       "\n",
       "        circle_marker_e8476fb569d76a6bb9dd3e925b831761.bindPopup(popup_fff89e3ff6f78cc466317bd1c42f7e99)\n",
       "        ;\n",
       "\n",
       "        \n",
       "    \n",
       "    \n",
       "            var circle_marker_cebd804b2f9c2dfcc157ee96533405ba = L.circleMarker(\n",
       "                [18.0, 9.0],\n",
       "                {&quot;bubblingMouseEvents&quot;: true, &quot;color&quot;: &quot;blue&quot;, &quot;dashArray&quot;: null, &quot;dashOffset&quot;: null, &quot;fill&quot;: true, &quot;fillColor&quot;: &quot;blue&quot;, &quot;fillOpacity&quot;: 0.2, &quot;fillRule&quot;: &quot;evenodd&quot;, &quot;lineCap&quot;: &quot;round&quot;, &quot;lineJoin&quot;: &quot;round&quot;, &quot;opacity&quot;: 1.0, &quot;radius&quot;: 20.240121829854633, &quot;stroke&quot;: true, &quot;weight&quot;: 3}\n",
       "            ).addTo(map_adbf39b066471cb007ce6ebdf5bfea73);\n",
       "        \n",
       "    \n",
       "        var popup_1ab35d39ef053e2ac07572074f5d9965 = L.popup({&quot;maxWidth&quot;: &quot;100%&quot;});\n",
       "\n",
       "        \n",
       "            \n",
       "                var html_71aff8e112f831e7606ca5c26280bc95 = $(`&lt;div id=&quot;html_71aff8e112f831e7606ca5c26280bc95&quot; style=&quot;width: 100.0%; height: 100.0%;&quot;&gt;Niger&lt;/div&gt;`)[0];\n",
       "                popup_1ab35d39ef053e2ac07572074f5d9965.setContent(html_71aff8e112f831e7606ca5c26280bc95);\n",
       "            \n",
       "        \n",
       "\n",
       "        circle_marker_cebd804b2f9c2dfcc157ee96533405ba.bindPopup(popup_1ab35d39ef053e2ac07572074f5d9965)\n",
       "        ;\n",
       "\n",
       "        \n",
       "    \n",
       "    \n",
       "            var circle_marker_77931660ce0fde398a947f3316224818 = L.circleMarker(\n",
       "                [10.0, 8.0],\n",
       "                {&quot;bubblingMouseEvents&quot;: true, &quot;color&quot;: &quot;blue&quot;, &quot;dashArray&quot;: null, &quot;dashOffset&quot;: null, &quot;fill&quot;: true, &quot;fillColor&quot;: &quot;blue&quot;, &quot;fillOpacity&quot;: 0.2, &quot;fillRule&quot;: &quot;evenodd&quot;, &quot;lineCap&quot;: &quot;round&quot;, &quot;lineJoin&quot;: &quot;round&quot;, &quot;opacity&quot;: 1.0, &quot;radius&quot;: 58.85242412727748, &quot;stroke&quot;: true, &quot;weight&quot;: 3}\n",
       "            ).addTo(map_adbf39b066471cb007ce6ebdf5bfea73);\n",
       "        \n",
       "    \n",
       "        var popup_01ba1ce1862b302bf6621e28165d3ac2 = L.popup({&quot;maxWidth&quot;: &quot;100%&quot;});\n",
       "\n",
       "        \n",
       "            \n",
       "                var html_f54ec335f340ad8951bbc21e8a86191e = $(`&lt;div id=&quot;html_f54ec335f340ad8951bbc21e8a86191e&quot; style=&quot;width: 100.0%; height: 100.0%;&quot;&gt;Nigeria&lt;/div&gt;`)[0];\n",
       "                popup_01ba1ce1862b302bf6621e28165d3ac2.setContent(html_f54ec335f340ad8951bbc21e8a86191e);\n",
       "            \n",
       "        \n",
       "\n",
       "        circle_marker_77931660ce0fde398a947f3316224818.bindPopup(popup_01ba1ce1862b302bf6621e28165d3ac2)\n",
       "        ;\n",
       "\n",
       "        \n",
       "    \n",
       "    \n",
       "            var circle_marker_cc2febda6094759c03cf4f7f40c9f0a6 = L.circleMarker(\n",
       "                [13.0, -85.0],\n",
       "                {&quot;bubblingMouseEvents&quot;: true, &quot;color&quot;: &quot;green&quot;, &quot;dashArray&quot;: null, &quot;dashOffset&quot;: null, &quot;fill&quot;: true, &quot;fillColor&quot;: &quot;green&quot;, &quot;fillOpacity&quot;: 0.2, &quot;fillRule&quot;: &quot;evenodd&quot;, &quot;lineCap&quot;: &quot;round&quot;, &quot;lineJoin&quot;: &quot;round&quot;, &quot;opacity&quot;: 1.0, &quot;radius&quot;: 7.78952348595181, &quot;stroke&quot;: true, &quot;weight&quot;: 3}\n",
       "            ).addTo(map_adbf39b066471cb007ce6ebdf5bfea73);\n",
       "        \n",
       "    \n",
       "        var popup_b8d47407cc1f3768bcf9216546db200d = L.popup({&quot;maxWidth&quot;: &quot;100%&quot;});\n",
       "\n",
       "        \n",
       "            \n",
       "                var html_f55203a7f540f45cefa08c799f13abe1 = $(`&lt;div id=&quot;html_f55203a7f540f45cefa08c799f13abe1&quot; style=&quot;width: 100.0%; height: 100.0%;&quot;&gt;Nicaragua&lt;/div&gt;`)[0];\n",
       "                popup_b8d47407cc1f3768bcf9216546db200d.setContent(html_f55203a7f540f45cefa08c799f13abe1);\n",
       "            \n",
       "        \n",
       "\n",
       "        circle_marker_cc2febda6094759c03cf4f7f40c9f0a6.bindPopup(popup_b8d47407cc1f3768bcf9216546db200d)\n",
       "        ;\n",
       "\n",
       "        \n",
       "    \n",
       "    \n",
       "            var circle_marker_6308e8a7fe128b17dc05764d68911e50 = L.circleMarker(\n",
       "                [52.25, 5.75],\n",
       "                {&quot;bubblingMouseEvents&quot;: true, &quot;color&quot;: &quot;black&quot;, &quot;dashArray&quot;: null, &quot;dashOffset&quot;: null, &quot;fill&quot;: true, &quot;fillColor&quot;: &quot;black&quot;, &quot;fillOpacity&quot;: 0.2, &quot;fillRule&quot;: &quot;evenodd&quot;, &quot;lineCap&quot;: &quot;round&quot;, &quot;lineJoin&quot;: &quot;round&quot;, &quot;opacity&quot;: 1.0, &quot;radius&quot;: 2.66755493600924, &quot;stroke&quot;: true, &quot;weight&quot;: 3}\n",
       "            ).addTo(map_adbf39b066471cb007ce6ebdf5bfea73);\n",
       "        \n",
       "    \n",
       "        var popup_1297c47f6d44be9fe7f3a61e8867a224 = L.popup({&quot;maxWidth&quot;: &quot;100%&quot;});\n",
       "\n",
       "        \n",
       "            \n",
       "                var html_118962ac8bf22619fcec738cc9f564e9 = $(`&lt;div id=&quot;html_118962ac8bf22619fcec738cc9f564e9&quot; style=&quot;width: 100.0%; height: 100.0%;&quot;&gt;Netherlands&lt;/div&gt;`)[0];\n",
       "                popup_1297c47f6d44be9fe7f3a61e8867a224.setContent(html_118962ac8bf22619fcec738cc9f564e9);\n",
       "            \n",
       "        \n",
       "\n",
       "        circle_marker_6308e8a7fe128b17dc05764d68911e50.bindPopup(popup_1297c47f6d44be9fe7f3a61e8867a224)\n",
       "        ;\n",
       "\n",
       "        \n",
       "    \n",
       "    \n",
       "            var circle_marker_dcec7c56cf9702da0f8d1afec627aa7b = L.circleMarker(\n",
       "                [62.0, 10.0],\n",
       "                {&quot;bubblingMouseEvents&quot;: true, &quot;color&quot;: &quot;black&quot;, &quot;dashArray&quot;: null, &quot;dashOffset&quot;: null, &quot;fill&quot;: true, &quot;fillColor&quot;: &quot;black&quot;, &quot;fillOpacity&quot;: 0.2, &quot;fillRule&quot;: &quot;evenodd&quot;, &quot;lineCap&quot;: &quot;round&quot;, &quot;lineJoin&quot;: &quot;round&quot;, &quot;opacity&quot;: 1.0, &quot;radius&quot;: 1.0207778467534643, &quot;stroke&quot;: true, &quot;weight&quot;: 3}\n",
       "            ).addTo(map_adbf39b066471cb007ce6ebdf5bfea73);\n",
       "        \n",
       "    \n",
       "        var popup_78d2f91bc86715a069138adb08cf6faa = L.popup({&quot;maxWidth&quot;: &quot;100%&quot;});\n",
       "\n",
       "        \n",
       "            \n",
       "                var html_9e354445c0e132045b5121d62eabd72b = $(`&lt;div id=&quot;html_9e354445c0e132045b5121d62eabd72b&quot; style=&quot;width: 100.0%; height: 100.0%;&quot;&gt;Norway&lt;/div&gt;`)[0];\n",
       "                popup_78d2f91bc86715a069138adb08cf6faa.setContent(html_9e354445c0e132045b5121d62eabd72b);\n",
       "            \n",
       "        \n",
       "\n",
       "        circle_marker_dcec7c56cf9702da0f8d1afec627aa7b.bindPopup(popup_78d2f91bc86715a069138adb08cf6faa)\n",
       "        ;\n",
       "\n",
       "        \n",
       "    \n",
       "    \n",
       "            var circle_marker_863abd8b8126be9a6e7f6a3d268574ad = L.circleMarker(\n",
       "                [28.0, 84.0],\n",
       "                {&quot;bubblingMouseEvents&quot;: true, &quot;color&quot;: &quot;red&quot;, &quot;dashArray&quot;: null, &quot;dashOffset&quot;: null, &quot;fill&quot;: true, &quot;fillColor&quot;: &quot;red&quot;, &quot;fillOpacity&quot;: 0.2, &quot;fillRule&quot;: &quot;evenodd&quot;, &quot;lineCap&quot;: &quot;round&quot;, &quot;lineJoin&quot;: &quot;round&quot;, &quot;opacity&quot;: 1.0, &quot;radius&quot;: 25.9225442998105, &quot;stroke&quot;: true, &quot;weight&quot;: 3}\n",
       "            ).addTo(map_adbf39b066471cb007ce6ebdf5bfea73);\n",
       "        \n",
       "    \n",
       "        var popup_9ad96595aafd07e932764afb0e9f497a = L.popup({&quot;maxWidth&quot;: &quot;100%&quot;});\n",
       "\n",
       "        \n",
       "            \n",
       "                var html_84fcd212083ab6335c34da55f584d920 = $(`&lt;div id=&quot;html_84fcd212083ab6335c34da55f584d920&quot; style=&quot;width: 100.0%; height: 100.0%;&quot;&gt;Nepal&lt;/div&gt;`)[0];\n",
       "                popup_9ad96595aafd07e932764afb0e9f497a.setContent(html_84fcd212083ab6335c34da55f584d920);\n",
       "            \n",
       "        \n",
       "\n",
       "        circle_marker_863abd8b8126be9a6e7f6a3d268574ad.bindPopup(popup_9ad96595aafd07e932764afb0e9f497a)\n",
       "        ;\n",
       "\n",
       "        \n",
       "    \n",
       "    \n",
       "            var circle_marker_c55c3ca2db11a7ad73491cc55c7d8a44 = L.circleMarker(\n",
       "                [30.0, 70.0],\n",
       "                {&quot;bubblingMouseEvents&quot;: true, &quot;color&quot;: &quot;red&quot;, &quot;dashArray&quot;: null, &quot;dashOffset&quot;: null, &quot;fill&quot;: true, &quot;fillColor&quot;: &quot;red&quot;, &quot;fillOpacity&quot;: 0.2, &quot;fillRule&quot;: &quot;evenodd&quot;, &quot;lineCap&quot;: &quot;round&quot;, &quot;lineJoin&quot;: &quot;round&quot;, &quot;opacity&quot;: 1.0, &quot;radius&quot;: 61.60930051014683, &quot;stroke&quot;: true, &quot;weight&quot;: 3}\n",
       "            ).addTo(map_adbf39b066471cb007ce6ebdf5bfea73);\n",
       "        \n",
       "    \n",
       "        var popup_164db3fb1807eabe4100e7b442bd6f80 = L.popup({&quot;maxWidth&quot;: &quot;100%&quot;});\n",
       "\n",
       "        \n",
       "            \n",
       "                var html_417453c9853c5774edfdcce80715ec93 = $(`&lt;div id=&quot;html_417453c9853c5774edfdcce80715ec93&quot; style=&quot;width: 100.0%; height: 100.0%;&quot;&gt;Pakistan&lt;/div&gt;`)[0];\n",
       "                popup_164db3fb1807eabe4100e7b442bd6f80.setContent(html_417453c9853c5774edfdcce80715ec93);\n",
       "            \n",
       "        \n",
       "\n",
       "        circle_marker_c55c3ca2db11a7ad73491cc55c7d8a44.bindPopup(popup_164db3fb1807eabe4100e7b442bd6f80)\n",
       "        ;\n",
       "\n",
       "        \n",
       "    \n",
       "    \n",
       "            var circle_marker_771e537a7d7f7308f35232f80b7d9b42 = L.circleMarker(\n",
       "                [8.9936, -79.51973],\n",
       "                {&quot;bubblingMouseEvents&quot;: true, &quot;color&quot;: &quot;green&quot;, &quot;dashArray&quot;: null, &quot;dashOffset&quot;: null, &quot;fill&quot;: true, &quot;fillColor&quot;: &quot;green&quot;, &quot;fillOpacity&quot;: 0.2, &quot;fillRule&quot;: &quot;evenodd&quot;, &quot;lineCap&quot;: &quot;round&quot;, &quot;lineJoin&quot;: &quot;round&quot;, &quot;opacity&quot;: 1.0, &quot;radius&quot;: 5.149549057069472, &quot;stroke&quot;: true, &quot;weight&quot;: 3}\n",
       "            ).addTo(map_adbf39b066471cb007ce6ebdf5bfea73);\n",
       "        \n",
       "    \n",
       "        var popup_877174e78c165a4762737adbc2504349 = L.popup({&quot;maxWidth&quot;: &quot;100%&quot;});\n",
       "\n",
       "        \n",
       "            \n",
       "                var html_3f621728e96b43eb4e03e866fadba2b4 = $(`&lt;div id=&quot;html_3f621728e96b43eb4e03e866fadba2b4&quot; style=&quot;width: 100.0%; height: 100.0%;&quot;&gt;Panama&lt;/div&gt;`)[0];\n",
       "                popup_877174e78c165a4762737adbc2504349.setContent(html_3f621728e96b43eb4e03e866fadba2b4);\n",
       "            \n",
       "        \n",
       "\n",
       "        circle_marker_771e537a7d7f7308f35232f80b7d9b42.bindPopup(popup_877174e78c165a4762737adbc2504349)\n",
       "        ;\n",
       "\n",
       "        \n",
       "    \n",
       "    \n",
       "            var circle_marker_4c9d6f956430f0e17df61575c9be46de = L.circleMarker(\n",
       "                [-10.0, -75.25],\n",
       "                {&quot;bubblingMouseEvents&quot;: true, &quot;color&quot;: &quot;green&quot;, &quot;dashArray&quot;: null, &quot;dashOffset&quot;: null, &quot;fill&quot;: true, &quot;fillColor&quot;: &quot;green&quot;, &quot;fillOpacity&quot;: 0.2, &quot;fillRule&quot;: &quot;evenodd&quot;, &quot;lineCap&quot;: &quot;round&quot;, &quot;lineJoin&quot;: &quot;round&quot;, &quot;opacity&quot;: 1.0, &quot;radius&quot;: 12.08258195762152, &quot;stroke&quot;: true, &quot;weight&quot;: 3}\n",
       "            ).addTo(map_adbf39b066471cb007ce6ebdf5bfea73);\n",
       "        \n",
       "    \n",
       "        var popup_1015383f5c0907f6b595ff6fcd6b14dc = L.popup({&quot;maxWidth&quot;: &quot;100%&quot;});\n",
       "\n",
       "        \n",
       "            \n",
       "                var html_e7f866b27b4f95c910ab17763c55897e = $(`&lt;div id=&quot;html_e7f866b27b4f95c910ab17763c55897e&quot; style=&quot;width: 100.0%; height: 100.0%;&quot;&gt;Peru&lt;/div&gt;`)[0];\n",
       "                popup_1015383f5c0907f6b595ff6fcd6b14dc.setContent(html_e7f866b27b4f95c910ab17763c55897e);\n",
       "            \n",
       "        \n",
       "\n",
       "        circle_marker_4c9d6f956430f0e17df61575c9be46de.bindPopup(popup_1015383f5c0907f6b595ff6fcd6b14dc)\n",
       "        ;\n",
       "\n",
       "        \n",
       "    \n",
       "    \n",
       "            var circle_marker_c1a4a0954f21e11544afe556967cc2f3 = L.circleMarker(\n",
       "                [13.0, 122.0],\n",
       "                {&quot;bubblingMouseEvents&quot;: true, &quot;color&quot;: &quot;red&quot;, &quot;dashArray&quot;: null, &quot;dashOffset&quot;: null, &quot;fill&quot;: true, &quot;fillColor&quot;: &quot;red&quot;, &quot;fillOpacity&quot;: 0.2, &quot;fillRule&quot;: &quot;evenodd&quot;, &quot;lineCap&quot;: &quot;round&quot;, &quot;lineJoin&quot;: &quot;round&quot;, &quot;opacity&quot;: 1.0, &quot;radius&quot;: 34.180496416253504, &quot;stroke&quot;: true, &quot;weight&quot;: 3}\n",
       "            ).addTo(map_adbf39b066471cb007ce6ebdf5bfea73);\n",
       "        \n",
       "    \n",
       "        var popup_c8cadf196cccad5c7189f350fd45db30 = L.popup({&quot;maxWidth&quot;: &quot;100%&quot;});\n",
       "\n",
       "        \n",
       "            \n",
       "                var html_ed5dc3c4cce7fb15789f48c6a0bf56f2 = $(`&lt;div id=&quot;html_ed5dc3c4cce7fb15789f48c6a0bf56f2&quot; style=&quot;width: 100.0%; height: 100.0%;&quot;&gt;Philippines&lt;/div&gt;`)[0];\n",
       "                popup_c8cadf196cccad5c7189f350fd45db30.setContent(html_ed5dc3c4cce7fb15789f48c6a0bf56f2);\n",
       "            \n",
       "        \n",
       "\n",
       "        circle_marker_c1a4a0954f21e11544afe556967cc2f3.bindPopup(popup_c8cadf196cccad5c7189f350fd45db30)\n",
       "        ;\n",
       "\n",
       "        \n",
       "    \n",
       "    \n",
       "            var circle_marker_bbab496bfd7de3170ed4097d67b2e884 = L.circleMarker(\n",
       "                [-6.0, 147.0],\n",
       "                {&quot;bubblingMouseEvents&quot;: true, &quot;color&quot;: &quot;red&quot;, &quot;dashArray&quot;: null, &quot;dashOffset&quot;: null, &quot;fill&quot;: true, &quot;fillColor&quot;: &quot;red&quot;, &quot;fillOpacity&quot;: 0.2, &quot;fillRule&quot;: &quot;evenodd&quot;, &quot;lineCap&quot;: &quot;round&quot;, &quot;lineJoin&quot;: &quot;round&quot;, &quot;opacity&quot;: 1.0, &quot;radius&quot;: 9.125985821420215, &quot;stroke&quot;: true, &quot;weight&quot;: 3}\n",
       "            ).addTo(map_adbf39b066471cb007ce6ebdf5bfea73);\n",
       "        \n",
       "    \n",
       "        var popup_f25c7fa288db2c7596a6fdfad83e9315 = L.popup({&quot;maxWidth&quot;: &quot;100%&quot;});\n",
       "\n",
       "        \n",
       "            \n",
       "                var html_ba0c0a1ba21489d638f3c25ef2317dc6 = $(`&lt;div id=&quot;html_ba0c0a1ba21489d638f3c25ef2317dc6&quot; style=&quot;width: 100.0%; height: 100.0%;&quot;&gt;Papua New Guinea&lt;/div&gt;`)[0];\n",
       "                popup_f25c7fa288db2c7596a6fdfad83e9315.setContent(html_ba0c0a1ba21489d638f3c25ef2317dc6);\n",
       "            \n",
       "        \n",
       "\n",
       "        circle_marker_bbab496bfd7de3170ed4097d67b2e884.bindPopup(popup_f25c7fa288db2c7596a6fdfad83e9315)\n",
       "        ;\n",
       "\n",
       "        \n",
       "    \n",
       "    \n",
       "            var circle_marker_4f734b64d37a73038f7ea6274c5e9cdf = L.circleMarker(\n",
       "                [52.0, 20.0],\n",
       "                {&quot;bubblingMouseEvents&quot;: true, &quot;color&quot;: &quot;black&quot;, &quot;dashArray&quot;: null, &quot;dashOffset&quot;: null, &quot;fill&quot;: true, &quot;fillColor&quot;: &quot;black&quot;, &quot;fillOpacity&quot;: 0.2, &quot;fillRule&quot;: &quot;evenodd&quot;, &quot;lineCap&quot;: &quot;round&quot;, &quot;lineJoin&quot;: &quot;round&quot;, &quot;opacity&quot;: 1.0, &quot;radius&quot;: 4.132922648614262, &quot;stroke&quot;: true, &quot;weight&quot;: 3}\n",
       "            ).addTo(map_adbf39b066471cb007ce6ebdf5bfea73);\n",
       "        \n",
       "    \n",
       "        var popup_0e7a768e7ce38b83715f411323e205c4 = L.popup({&quot;maxWidth&quot;: &quot;100%&quot;});\n",
       "\n",
       "        \n",
       "            \n",
       "                var html_5c79c841d97685efdea59893d9ba6466 = $(`&lt;div id=&quot;html_5c79c841d97685efdea59893d9ba6466&quot; style=&quot;width: 100.0%; height: 100.0%;&quot;&gt;Poland&lt;/div&gt;`)[0];\n",
       "                popup_0e7a768e7ce38b83715f411323e205c4.setContent(html_5c79c841d97685efdea59893d9ba6466);\n",
       "            \n",
       "        \n",
       "\n",
       "        circle_marker_4f734b64d37a73038f7ea6274c5e9cdf.bindPopup(popup_0e7a768e7ce38b83715f411323e205c4)\n",
       "        ;\n",
       "\n",
       "        \n",
       "    \n",
       "    \n",
       "            var circle_marker_8837433e9e4bb7038c392902308998c9 = L.circleMarker(\n",
       "                [-23.33333, -58.0],\n",
       "                {&quot;bubblingMouseEvents&quot;: true, &quot;color&quot;: &quot;green&quot;, &quot;dashArray&quot;: null, &quot;dashOffset&quot;: null, &quot;fill&quot;: true, &quot;fillColor&quot;: &quot;green&quot;, &quot;fillOpacity&quot;: 0.2, &quot;fillRule&quot;: &quot;evenodd&quot;, &quot;lineCap&quot;: &quot;round&quot;, &quot;lineJoin&quot;: &quot;round&quot;, &quot;opacity&quot;: 1.0, &quot;radius&quot;: 4.989975401613145, &quot;stroke&quot;: true, &quot;weight&quot;: 3}\n",
       "            ).addTo(map_adbf39b066471cb007ce6ebdf5bfea73);\n",
       "        \n",
       "    \n",
       "        var popup_45884b01063e8ce821127715636361bf = L.popup({&quot;maxWidth&quot;: &quot;100%&quot;});\n",
       "\n",
       "        \n",
       "            \n",
       "                var html_967091e968fb819fb3476d76f4898d45 = $(`&lt;div id=&quot;html_967091e968fb819fb3476d76f4898d45&quot; style=&quot;width: 100.0%; height: 100.0%;&quot;&gt;Paraguay&lt;/div&gt;`)[0];\n",
       "                popup_45884b01063e8ce821127715636361bf.setContent(html_967091e968fb819fb3476d76f4898d45);\n",
       "            \n",
       "        \n",
       "\n",
       "        circle_marker_8837433e9e4bb7038c392902308998c9.bindPopup(popup_45884b01063e8ce821127715636361bf)\n",
       "        ;\n",
       "\n",
       "        \n",
       "    \n",
       "    \n",
       "            var circle_marker_19e52e0da559a1efccaa3cc6f667e33b = L.circleMarker(\n",
       "                [31.92157, 35.20329],\n",
       "                {&quot;bubblingMouseEvents&quot;: true, &quot;color&quot;: &quot;red&quot;, &quot;dashArray&quot;: null, &quot;dashOffset&quot;: null, &quot;fill&quot;: true, &quot;fillColor&quot;: &quot;red&quot;, &quot;fillOpacity&quot;: 0.2, &quot;fillRule&quot;: &quot;evenodd&quot;, &quot;lineCap&quot;: &quot;round&quot;, &quot;lineJoin&quot;: &quot;round&quot;, &quot;opacity&quot;: 1.0, &quot;radius&quot;: 1.0898063347810747, &quot;stroke&quot;: true, &quot;weight&quot;: 3}\n",
       "            ).addTo(map_adbf39b066471cb007ce6ebdf5bfea73);\n",
       "        \n",
       "    \n",
       "        var popup_c7add9a2727015990df6ee1f83575886 = L.popup({&quot;maxWidth&quot;: &quot;100%&quot;});\n",
       "\n",
       "        \n",
       "            \n",
       "                var html_cd9e65194d97b5d2ca544d8e66d4a06e = $(`&lt;div id=&quot;html_cd9e65194d97b5d2ca544d8e66d4a06e&quot; style=&quot;width: 100.0%; height: 100.0%;&quot;&gt;Palestine&lt;/div&gt;`)[0];\n",
       "                popup_c7add9a2727015990df6ee1f83575886.setContent(html_cd9e65194d97b5d2ca544d8e66d4a06e);\n",
       "            \n",
       "        \n",
       "\n",
       "        circle_marker_19e52e0da559a1efccaa3cc6f667e33b.bindPopup(popup_c7add9a2727015990df6ee1f83575886)\n",
       "        ;\n",
       "\n",
       "        \n",
       "    \n",
       "    \n",
       "            var circle_marker_e43b59058039b315e20956516db7dc6c = L.circleMarker(\n",
       "                [46.0, 25.0],\n",
       "                {&quot;bubblingMouseEvents&quot;: true, &quot;color&quot;: &quot;black&quot;, &quot;dashArray&quot;: null, &quot;dashOffset&quot;: null, &quot;fill&quot;: true, &quot;fillColor&quot;: &quot;black&quot;, &quot;fillOpacity&quot;: 0.2, &quot;fillRule&quot;: &quot;evenodd&quot;, &quot;lineCap&quot;: &quot;round&quot;, &quot;lineJoin&quot;: &quot;round&quot;, &quot;opacity&quot;: 1.0, &quot;radius&quot;: 5.690911280345039, &quot;stroke&quot;: true, &quot;weight&quot;: 3}\n",
       "            ).addTo(map_adbf39b066471cb007ce6ebdf5bfea73);\n",
       "        \n",
       "    \n",
       "        var popup_b9b84c6ae7ca887557b1da1bb891b647 = L.popup({&quot;maxWidth&quot;: &quot;100%&quot;});\n",
       "\n",
       "        \n",
       "            \n",
       "                var html_40935d9e5b4a6ad08bf97b9dd0072959 = $(`&lt;div id=&quot;html_40935d9e5b4a6ad08bf97b9dd0072959&quot; style=&quot;width: 100.0%; height: 100.0%;&quot;&gt;Romania&lt;/div&gt;`)[0];\n",
       "                popup_b9b84c6ae7ca887557b1da1bb891b647.setContent(html_40935d9e5b4a6ad08bf97b9dd0072959);\n",
       "            \n",
       "        \n",
       "\n",
       "        circle_marker_e43b59058039b315e20956516db7dc6c.bindPopup(popup_b9b84c6ae7ca887557b1da1bb891b647)\n",
       "        ;\n",
       "\n",
       "        \n",
       "    \n",
       "    \n",
       "            var circle_marker_e25392a13418713b8563497b2d040c23 = L.circleMarker(\n",
       "                [60.0, 100.0],\n",
       "                {&quot;bubblingMouseEvents&quot;: true, &quot;color&quot;: &quot;black&quot;, &quot;dashArray&quot;: null, &quot;dashOffset&quot;: null, &quot;fill&quot;: true, &quot;fillColor&quot;: &quot;black&quot;, &quot;fillOpacity&quot;: 0.2, &quot;fillRule&quot;: &quot;evenodd&quot;, &quot;lineCap&quot;: &quot;round&quot;, &quot;lineJoin&quot;: &quot;round&quot;, &quot;opacity&quot;: 1.0, &quot;radius&quot;: 11.32851099306281, &quot;stroke&quot;: true, &quot;weight&quot;: 3}\n",
       "            ).addTo(map_adbf39b066471cb007ce6ebdf5bfea73);\n",
       "        \n",
       "    \n",
       "        var popup_cc73b6ee5a7460b7bfced0ca9230409f = L.popup({&quot;maxWidth&quot;: &quot;100%&quot;});\n",
       "\n",
       "        \n",
       "            \n",
       "                var html_616b5c23e26d40e47e5f60c5dbbe9d8a = $(`&lt;div id=&quot;html_616b5c23e26d40e47e5f60c5dbbe9d8a&quot; style=&quot;width: 100.0%; height: 100.0%;&quot;&gt;Russia&lt;/div&gt;`)[0];\n",
       "                popup_cc73b6ee5a7460b7bfced0ca9230409f.setContent(html_616b5c23e26d40e47e5f60c5dbbe9d8a);\n",
       "            \n",
       "        \n",
       "\n",
       "        circle_marker_e25392a13418713b8563497b2d040c23.bindPopup(popup_cc73b6ee5a7460b7bfced0ca9230409f)\n",
       "        ;\n",
       "\n",
       "        \n",
       "    \n",
       "    \n",
       "            var circle_marker_60093db10c03d03928a99d9995123fc2 = L.circleMarker(\n",
       "                [-2.0, 30.0],\n",
       "                {&quot;bubblingMouseEvents&quot;: true, &quot;color&quot;: &quot;blue&quot;, &quot;dashArray&quot;: null, &quot;dashOffset&quot;: null, &quot;fill&quot;: true, &quot;fillColor&quot;: &quot;blue&quot;, &quot;fillOpacity&quot;: 0.2, &quot;fillRule&quot;: &quot;evenodd&quot;, &quot;lineCap&quot;: &quot;round&quot;, &quot;lineJoin&quot;: &quot;round&quot;, &quot;opacity&quot;: 1.0, &quot;radius&quot;: 15.925966709173617, &quot;stroke&quot;: true, &quot;weight&quot;: 3}\n",
       "            ).addTo(map_adbf39b066471cb007ce6ebdf5bfea73);\n",
       "        \n",
       "    \n",
       "        var popup_55b6f5b568989853054094453c7a59e7 = L.popup({&quot;maxWidth&quot;: &quot;100%&quot;});\n",
       "\n",
       "        \n",
       "            \n",
       "                var html_c26e1250666018d49f4ba5a4e26fea77 = $(`&lt;div id=&quot;html_c26e1250666018d49f4ba5a4e26fea77&quot; style=&quot;width: 100.0%; height: 100.0%;&quot;&gt;Rwanda&lt;/div&gt;`)[0];\n",
       "                popup_55b6f5b568989853054094453c7a59e7.setContent(html_c26e1250666018d49f4ba5a4e26fea77);\n",
       "            \n",
       "        \n",
       "\n",
       "        circle_marker_60093db10c03d03928a99d9995123fc2.bindPopup(popup_55b6f5b568989853054094453c7a59e7)\n",
       "        ;\n",
       "\n",
       "        \n",
       "    \n",
       "    \n",
       "            var circle_marker_24adfa809de09231db962f3178ae7fbc = L.circleMarker(\n",
       "                [16.0, 30.0],\n",
       "                {&quot;bubblingMouseEvents&quot;: true, &quot;color&quot;: &quot;blue&quot;, &quot;dashArray&quot;: null, &quot;dashOffset&quot;: null, &quot;fill&quot;: true, &quot;fillColor&quot;: &quot;blue&quot;, &quot;fillOpacity&quot;: 0.2, &quot;fillRule&quot;: &quot;evenodd&quot;, &quot;lineCap&quot;: &quot;round&quot;, &quot;lineJoin&quot;: &quot;round&quot;, &quot;opacity&quot;: 1.0, &quot;radius&quot;: 14.75537843817308, &quot;stroke&quot;: true, &quot;weight&quot;: 3}\n",
       "            ).addTo(map_adbf39b066471cb007ce6ebdf5bfea73);\n",
       "        \n",
       "    \n",
       "        var popup_bd4196942659be3d7f1daa01bb914c72 = L.popup({&quot;maxWidth&quot;: &quot;100%&quot;});\n",
       "\n",
       "        \n",
       "            \n",
       "                var html_bcfb9bf1e866d0a754c2ce2fc58bfd7e = $(`&lt;div id=&quot;html_bcfb9bf1e866d0a754c2ce2fc58bfd7e&quot; style=&quot;width: 100.0%; height: 100.0%;&quot;&gt;Sudan&lt;/div&gt;`)[0];\n",
       "                popup_bd4196942659be3d7f1daa01bb914c72.setContent(html_bcfb9bf1e866d0a754c2ce2fc58bfd7e);\n",
       "            \n",
       "        \n",
       "\n",
       "        circle_marker_24adfa809de09231db962f3178ae7fbc.bindPopup(popup_bd4196942659be3d7f1daa01bb914c72)\n",
       "        ;\n",
       "\n",
       "        \n",
       "    \n",
       "    \n",
       "            var circle_marker_baca05c68f8d6717d0ab1cb0a9a76e68 = L.circleMarker(\n",
       "                [14.5, -14.25],\n",
       "                {&quot;bubblingMouseEvents&quot;: true, &quot;color&quot;: &quot;blue&quot;, &quot;dashArray&quot;: null, &quot;dashOffset&quot;: null, &quot;fill&quot;: true, &quot;fillColor&quot;: &quot;blue&quot;, &quot;fillOpacity&quot;: 0.2, &quot;fillRule&quot;: &quot;evenodd&quot;, &quot;lineCap&quot;: &quot;round&quot;, &quot;lineJoin&quot;: &quot;round&quot;, &quot;opacity&quot;: 1.0, &quot;radius&quot;: 16.284282441357412, &quot;stroke&quot;: true, &quot;weight&quot;: 3}\n",
       "            ).addTo(map_adbf39b066471cb007ce6ebdf5bfea73);\n",
       "        \n",
       "    \n",
       "        var popup_6eee53be2de8512dd719744e7fae99b5 = L.popup({&quot;maxWidth&quot;: &quot;100%&quot;});\n",
       "\n",
       "        \n",
       "            \n",
       "                var html_07b5b5e68190a1fe252cd8d9a2510700 = $(`&lt;div id=&quot;html_07b5b5e68190a1fe252cd8d9a2510700&quot; style=&quot;width: 100.0%; height: 100.0%;&quot;&gt;Senegal&lt;/div&gt;`)[0];\n",
       "                popup_6eee53be2de8512dd719744e7fae99b5.setContent(html_07b5b5e68190a1fe252cd8d9a2510700);\n",
       "            \n",
       "        \n",
       "\n",
       "        circle_marker_baca05c68f8d6717d0ab1cb0a9a76e68.bindPopup(popup_6eee53be2de8512dd719744e7fae99b5)\n",
       "        ;\n",
       "\n",
       "        \n",
       "    \n",
       "    \n",
       "            var circle_marker_90003fb9a9393420d3d0716d8e76791b = L.circleMarker(\n",
       "                [8.5, -11.5],\n",
       "                {&quot;bubblingMouseEvents&quot;: true, &quot;color&quot;: &quot;blue&quot;, &quot;dashArray&quot;: null, &quot;dashOffset&quot;: null, &quot;fill&quot;: true, &quot;fillColor&quot;: &quot;blue&quot;, &quot;fillOpacity&quot;: 0.2, &quot;fillRule&quot;: &quot;evenodd&quot;, &quot;lineCap&quot;: &quot;round&quot;, &quot;lineJoin&quot;: &quot;round&quot;, &quot;opacity&quot;: 1.0, &quot;radius&quot;: 11.329155826614832, &quot;stroke&quot;: true, &quot;weight&quot;: 3}\n",
       "            ).addTo(map_adbf39b066471cb007ce6ebdf5bfea73);\n",
       "        \n",
       "    \n",
       "        var popup_5462d325eed107fc2931584decdbb58c = L.popup({&quot;maxWidth&quot;: &quot;100%&quot;});\n",
       "\n",
       "        \n",
       "            \n",
       "                var html_43ef756f2476750e333fd8eb5ae227be = $(`&lt;div id=&quot;html_43ef756f2476750e333fd8eb5ae227be&quot; style=&quot;width: 100.0%; height: 100.0%;&quot;&gt;Sierra Leone&lt;/div&gt;`)[0];\n",
       "                popup_5462d325eed107fc2931584decdbb58c.setContent(html_43ef756f2476750e333fd8eb5ae227be);\n",
       "            \n",
       "        \n",
       "\n",
       "        circle_marker_90003fb9a9393420d3d0716d8e76791b.bindPopup(popup_5462d325eed107fc2931584decdbb58c)\n",
       "        ;\n",
       "\n",
       "        \n",
       "    \n",
       "    \n",
       "            var circle_marker_9d9bcef603e7ad55a02a8160d693b022 = L.circleMarker(\n",
       "                [13.83333, -88.91667],\n",
       "                {&quot;bubblingMouseEvents&quot;: true, &quot;color&quot;: &quot;green&quot;, &quot;dashArray&quot;: null, &quot;dashOffset&quot;: null, &quot;fill&quot;: true, &quot;fillColor&quot;: &quot;green&quot;, &quot;fillOpacity&quot;: 0.2, &quot;fillRule&quot;: &quot;evenodd&quot;, &quot;lineCap&quot;: &quot;round&quot;, &quot;lineJoin&quot;: &quot;round&quot;, &quot;opacity&quot;: 1.0, &quot;radius&quot;: 5.848983643806148, &quot;stroke&quot;: true, &quot;weight&quot;: 3}\n",
       "            ).addTo(map_adbf39b066471cb007ce6ebdf5bfea73);\n",
       "        \n",
       "    \n",
       "        var popup_fbb6c73f269d45f5afd8ef03421a3771 = L.popup({&quot;maxWidth&quot;: &quot;100%&quot;});\n",
       "\n",
       "        \n",
       "            \n",
       "                var html_9af24b8e0553b77ec64ab64fe3afadcb = $(`&lt;div id=&quot;html_9af24b8e0553b77ec64ab64fe3afadcb&quot; style=&quot;width: 100.0%; height: 100.0%;&quot;&gt;El Salvador&lt;/div&gt;`)[0];\n",
       "                popup_fbb6c73f269d45f5afd8ef03421a3771.setContent(html_9af24b8e0553b77ec64ab64fe3afadcb);\n",
       "            \n",
       "        \n",
       "\n",
       "        circle_marker_9d9bcef603e7ad55a02a8160d693b022.bindPopup(popup_fbb6c73f269d45f5afd8ef03421a3771)\n",
       "        ;\n",
       "\n",
       "        \n",
       "    \n",
       "    \n",
       "            var circle_marker_8f1b82736064906950e57884ee392781 = L.circleMarker(\n",
       "                [44.81892, 20.45998],\n",
       "                {&quot;bubblingMouseEvents&quot;: true, &quot;color&quot;: &quot;black&quot;, &quot;dashArray&quot;: null, &quot;dashOffset&quot;: null, &quot;fill&quot;: true, &quot;fillColor&quot;: &quot;black&quot;, &quot;fillOpacity&quot;: 0.2, &quot;fillRule&quot;: &quot;evenodd&quot;, &quot;lineCap&quot;: &quot;round&quot;, &quot;lineJoin&quot;: &quot;round&quot;, &quot;opacity&quot;: 1.0, &quot;radius&quot;: 1.2994499929692458, &quot;stroke&quot;: true, &quot;weight&quot;: 3}\n",
       "            ).addTo(map_adbf39b066471cb007ce6ebdf5bfea73);\n",
       "        \n",
       "    \n",
       "        var popup_287c6435119bcc8b23466ce6c78f30c3 = L.popup({&quot;maxWidth&quot;: &quot;100%&quot;});\n",
       "\n",
       "        \n",
       "            \n",
       "                var html_dd5731e4fc17b0f39c0ff04b3dec32d0 = $(`&lt;div id=&quot;html_dd5731e4fc17b0f39c0ff04b3dec32d0&quot; style=&quot;width: 100.0%; height: 100.0%;&quot;&gt;Serbia&lt;/div&gt;`)[0];\n",
       "                popup_287c6435119bcc8b23466ce6c78f30c3.setContent(html_dd5731e4fc17b0f39c0ff04b3dec32d0);\n",
       "            \n",
       "        \n",
       "\n",
       "        circle_marker_8f1b82736064906950e57884ee392781.bindPopup(popup_287c6435119bcc8b23466ce6c78f30c3)\n",
       "        ;\n",
       "\n",
       "        \n",
       "    \n",
       "    \n",
       "            var circle_marker_f3009e27d7ca08cced009c55d3874d13 = L.circleMarker(\n",
       "                [1.0, 7.0],\n",
       "                {&quot;bubblingMouseEvents&quot;: true, &quot;color&quot;: &quot;blue&quot;, &quot;dashArray&quot;: null, &quot;dashOffset&quot;: null, &quot;fill&quot;: true, &quot;fillColor&quot;: &quot;blue&quot;, &quot;fillOpacity&quot;: 0.2, &quot;fillRule&quot;: &quot;evenodd&quot;, &quot;lineCap&quot;: &quot;round&quot;, &quot;lineJoin&quot;: &quot;round&quot;, &quot;opacity&quot;: 1.0, &quot;radius&quot;: 1.5808990803845295, &quot;stroke&quot;: true, &quot;weight&quot;: 3}\n",
       "            ).addTo(map_adbf39b066471cb007ce6ebdf5bfea73);\n",
       "        \n",
       "    \n",
       "        var popup_f07dcac148aa7ecc7e2121da354976d4 = L.popup({&quot;maxWidth&quot;: &quot;100%&quot;});\n",
       "\n",
       "        \n",
       "            \n",
       "                var html_92e465729c920e8fd7b4812531796657 = $(`&lt;div id=&quot;html_92e465729c920e8fd7b4812531796657&quot; style=&quot;width: 100.0%; height: 100.0%;&quot;&gt;Sao Tome and Principe&lt;/div&gt;`)[0];\n",
       "                popup_f07dcac148aa7ecc7e2121da354976d4.setContent(html_92e465729c920e8fd7b4812531796657);\n",
       "            \n",
       "        \n",
       "\n",
       "        circle_marker_f3009e27d7ca08cced009c55d3874d13.bindPopup(popup_f07dcac148aa7ecc7e2121da354976d4)\n",
       "        ;\n",
       "\n",
       "        \n",
       "    \n",
       "    \n",
       "            var circle_marker_d6b934c9f6103d748e03f67822367828 = L.circleMarker(\n",
       "                [4.0, -56.0],\n",
       "                {&quot;bubblingMouseEvents&quot;: true, &quot;color&quot;: &quot;green&quot;, &quot;dashArray&quot;: null, &quot;dashOffset&quot;: null, &quot;fill&quot;: true, &quot;fillColor&quot;: &quot;green&quot;, &quot;fillOpacity&quot;: 0.2, &quot;fillRule&quot;: &quot;evenodd&quot;, &quot;lineCap&quot;: &quot;round&quot;, &quot;lineJoin&quot;: &quot;round&quot;, &quot;opacity&quot;: 1.0, &quot;radius&quot;: 1.6178179347920572, &quot;stroke&quot;: true, &quot;weight&quot;: 3}\n",
       "            ).addTo(map_adbf39b066471cb007ce6ebdf5bfea73);\n",
       "        \n",
       "    \n",
       "        var popup_0b7d27690fd2fd9d39c0a95f3357e821 = L.popup({&quot;maxWidth&quot;: &quot;100%&quot;});\n",
       "\n",
       "        \n",
       "            \n",
       "                var html_0502bc2b6440216beae09a7714d436e3 = $(`&lt;div id=&quot;html_0502bc2b6440216beae09a7714d436e3&quot; style=&quot;width: 100.0%; height: 100.0%;&quot;&gt;Suriname&lt;/div&gt;`)[0];\n",
       "                popup_0b7d27690fd2fd9d39c0a95f3357e821.setContent(html_0502bc2b6440216beae09a7714d436e3);\n",
       "            \n",
       "        \n",
       "\n",
       "        circle_marker_d6b934c9f6103d748e03f67822367828.bindPopup(popup_0b7d27690fd2fd9d39c0a95f3357e821)\n",
       "        ;\n",
       "\n",
       "        \n",
       "    \n",
       "    \n",
       "            var circle_marker_671a0f254e6733fed20ff82a3aac2533 = L.circleMarker(\n",
       "                [48.66667, 19.5],\n",
       "                {&quot;bubblingMouseEvents&quot;: true, &quot;color&quot;: &quot;black&quot;, &quot;dashArray&quot;: null, &quot;dashOffset&quot;: null, &quot;fill&quot;: true, &quot;fillColor&quot;: &quot;black&quot;, &quot;fillOpacity&quot;: 0.2, &quot;fillRule&quot;: &quot;evenodd&quot;, &quot;lineCap&quot;: &quot;round&quot;, &quot;lineJoin&quot;: &quot;round&quot;, &quot;opacity&quot;: 1.0, &quot;radius&quot;: 0.8295121945839617, &quot;stroke&quot;: true, &quot;weight&quot;: 3}\n",
       "            ).addTo(map_adbf39b066471cb007ce6ebdf5bfea73);\n",
       "        \n",
       "    \n",
       "        var popup_d3944cf13349dd5aeee43310c4c37022 = L.popup({&quot;maxWidth&quot;: &quot;100%&quot;});\n",
       "\n",
       "        \n",
       "            \n",
       "                var html_13f4a1f0ca99c40f0d43b5f58c2b2a58 = $(`&lt;div id=&quot;html_13f4a1f0ca99c40f0d43b5f58c2b2a58&quot; style=&quot;width: 100.0%; height: 100.0%;&quot;&gt;Slovak Republic&lt;/div&gt;`)[0];\n",
       "                popup_d3944cf13349dd5aeee43310c4c37022.setContent(html_13f4a1f0ca99c40f0d43b5f58c2b2a58);\n",
       "            \n",
       "        \n",
       "\n",
       "        circle_marker_671a0f254e6733fed20ff82a3aac2533.bindPopup(popup_d3944cf13349dd5aeee43310c4c37022)\n",
       "        ;\n",
       "\n",
       "        \n",
       "    \n",
       "    \n",
       "            var circle_marker_c849d3d795b516b62e22ab88a0d7fecc = L.circleMarker(\n",
       "                [46.08333, 15.0],\n",
       "                {&quot;bubblingMouseEvents&quot;: true, &quot;color&quot;: &quot;black&quot;, &quot;dashArray&quot;: null, &quot;dashOffset&quot;: null, &quot;fill&quot;: true, &quot;fillColor&quot;: &quot;black&quot;, &quot;fillOpacity&quot;: 0.2, &quot;fillRule&quot;: &quot;evenodd&quot;, &quot;lineCap&quot;: &quot;round&quot;, &quot;lineJoin&quot;: &quot;round&quot;, &quot;opacity&quot;: 1.0, &quot;radius&quot;: 0.2281308098242098, &quot;stroke&quot;: true, &quot;weight&quot;: 3}\n",
       "            ).addTo(map_adbf39b066471cb007ce6ebdf5bfea73);\n",
       "        \n",
       "    \n",
       "        var popup_c6287a613af98b8f57847591a18f5f6b = L.popup({&quot;maxWidth&quot;: &quot;100%&quot;});\n",
       "\n",
       "        \n",
       "            \n",
       "                var html_dca227fb35ab969599f24df06fd36847 = $(`&lt;div id=&quot;html_dca227fb35ab969599f24df06fd36847&quot; style=&quot;width: 100.0%; height: 100.0%;&quot;&gt;Slovenia&lt;/div&gt;`)[0];\n",
       "                popup_c6287a613af98b8f57847591a18f5f6b.setContent(html_dca227fb35ab969599f24df06fd36847);\n",
       "            \n",
       "        \n",
       "\n",
       "        circle_marker_c849d3d795b516b62e22ab88a0d7fecc.bindPopup(popup_c6287a613af98b8f57847591a18f5f6b)\n",
       "        ;\n",
       "\n",
       "        \n",
       "    \n",
       "    \n",
       "            var circle_marker_aa5f9e657dd6d42101c413503dac046b = L.circleMarker(\n",
       "                [62.0, 15.0],\n",
       "                {&quot;bubblingMouseEvents&quot;: true, &quot;color&quot;: &quot;black&quot;, &quot;dashArray&quot;: null, &quot;dashOffset&quot;: null, &quot;fill&quot;: true, &quot;fillColor&quot;: &quot;black&quot;, &quot;fillOpacity&quot;: 0.2, &quot;fillRule&quot;: &quot;evenodd&quot;, &quot;lineCap&quot;: &quot;round&quot;, &quot;lineJoin&quot;: &quot;round&quot;, &quot;opacity&quot;: 1.0, &quot;radius&quot;: 1.1070199012698887, &quot;stroke&quot;: true, &quot;weight&quot;: 3}\n",
       "            ).addTo(map_adbf39b066471cb007ce6ebdf5bfea73);\n",
       "        \n",
       "    \n",
       "        var popup_d81cd44c2701e1b836089803695585d9 = L.popup({&quot;maxWidth&quot;: &quot;100%&quot;});\n",
       "\n",
       "        \n",
       "            \n",
       "                var html_275a56cd903724480baa69600f6bd03f = $(`&lt;div id=&quot;html_275a56cd903724480baa69600f6bd03f&quot; style=&quot;width: 100.0%; height: 100.0%;&quot;&gt;Sweden&lt;/div&gt;`)[0];\n",
       "                popup_d81cd44c2701e1b836089803695585d9.setContent(html_275a56cd903724480baa69600f6bd03f);\n",
       "            \n",
       "        \n",
       "\n",
       "        circle_marker_aa5f9e657dd6d42101c413503dac046b.bindPopup(popup_d81cd44c2701e1b836089803695585d9)\n",
       "        ;\n",
       "\n",
       "        \n",
       "    \n",
       "    \n",
       "            var circle_marker_3ed61aff7e6a3345658c83b45c58f749 = L.circleMarker(\n",
       "                [-26.5, 31.5],\n",
       "                {&quot;bubblingMouseEvents&quot;: true, &quot;color&quot;: &quot;blue&quot;, &quot;dashArray&quot;: null, &quot;dashOffset&quot;: null, &quot;fill&quot;: true, &quot;fillColor&quot;: &quot;blue&quot;, &quot;fillOpacity&quot;: 0.2, &quot;fillRule&quot;: &quot;evenodd&quot;, &quot;lineCap&quot;: &quot;round&quot;, &quot;lineJoin&quot;: &quot;round&quot;, &quot;opacity&quot;: 1.0, &quot;radius&quot;: 5.161206186947784, &quot;stroke&quot;: true, &quot;weight&quot;: 3}\n",
       "            ).addTo(map_adbf39b066471cb007ce6ebdf5bfea73);\n",
       "        \n",
       "    \n",
       "        var popup_253b00c363aaaeccb5fbf55dcde23b68 = L.popup({&quot;maxWidth&quot;: &quot;100%&quot;});\n",
       "\n",
       "        \n",
       "            \n",
       "                var html_c2fdd7d850ec977a22a3c94eb0797db7 = $(`&lt;div id=&quot;html_c2fdd7d850ec977a22a3c94eb0797db7&quot; style=&quot;width: 100.0%; height: 100.0%;&quot;&gt;Swaziland&lt;/div&gt;`)[0];\n",
       "                popup_253b00c363aaaeccb5fbf55dcde23b68.setContent(html_c2fdd7d850ec977a22a3c94eb0797db7);\n",
       "            \n",
       "        \n",
       "\n",
       "        circle_marker_3ed61aff7e6a3345658c83b45c58f749.bindPopup(popup_253b00c363aaaeccb5fbf55dcde23b68)\n",
       "        ;\n",
       "\n",
       "        \n",
       "    \n",
       "    \n",
       "            var circle_marker_66e044df2b13e893d6c676769acf2268 = L.circleMarker(\n",
       "                [-4.58333, 55.66667],\n",
       "                {&quot;bubblingMouseEvents&quot;: true, &quot;color&quot;: &quot;blue&quot;, &quot;dashArray&quot;: null, &quot;dashOffset&quot;: null, &quot;fill&quot;: true, &quot;fillColor&quot;: &quot;blue&quot;, &quot;fillOpacity&quot;: 0.2, &quot;fillRule&quot;: &quot;evenodd&quot;, &quot;lineCap&quot;: &quot;round&quot;, &quot;lineJoin&quot;: &quot;round&quot;, &quot;opacity&quot;: 1.0, &quot;radius&quot;: 0.08519075891779829, &quot;stroke&quot;: true, &quot;weight&quot;: 3}\n",
       "            ).addTo(map_adbf39b066471cb007ce6ebdf5bfea73);\n",
       "        \n",
       "    \n",
       "        var popup_6e422f414c0aa5121eb53f45f5a79922 = L.popup({&quot;maxWidth&quot;: &quot;100%&quot;});\n",
       "\n",
       "        \n",
       "            \n",
       "                var html_169020a16a899737fc6ce948e3b8e2f6 = $(`&lt;div id=&quot;html_169020a16a899737fc6ce948e3b8e2f6&quot; style=&quot;width: 100.0%; height: 100.0%;&quot;&gt;Seychelles&lt;/div&gt;`)[0];\n",
       "                popup_6e422f414c0aa5121eb53f45f5a79922.setContent(html_169020a16a899737fc6ce948e3b8e2f6);\n",
       "            \n",
       "        \n",
       "\n",
       "        circle_marker_66e044df2b13e893d6c676769acf2268.bindPopup(popup_6e422f414c0aa5121eb53f45f5a79922)\n",
       "        ;\n",
       "\n",
       "        \n",
       "    \n",
       "    \n",
       "            var circle_marker_4ba1a846451440bce14441502c5935c9 = L.circleMarker(\n",
       "                [35.0, 38.0],\n",
       "                {&quot;bubblingMouseEvents&quot;: true, &quot;color&quot;: &quot;red&quot;, &quot;dashArray&quot;: null, &quot;dashOffset&quot;: null, &quot;fill&quot;: true, &quot;fillColor&quot;: &quot;red&quot;, &quot;fillOpacity&quot;: 0.2, &quot;fillRule&quot;: &quot;evenodd&quot;, &quot;lineCap&quot;: &quot;round&quot;, &quot;lineJoin&quot;: &quot;round&quot;, &quot;opacity&quot;: 1.0, &quot;radius&quot;: 3.4099601627152856, &quot;stroke&quot;: true, &quot;weight&quot;: 3}\n",
       "            ).addTo(map_adbf39b066471cb007ce6ebdf5bfea73);\n",
       "        \n",
       "    \n",
       "        var popup_af8507b6826cc7d595cf4668721c3404 = L.popup({&quot;maxWidth&quot;: &quot;100%&quot;});\n",
       "\n",
       "        \n",
       "            \n",
       "                var html_4384ef44344ea5ac7a6f522fa3c0bad7 = $(`&lt;div id=&quot;html_4384ef44344ea5ac7a6f522fa3c0bad7&quot; style=&quot;width: 100.0%; height: 100.0%;&quot;&gt;Syria&lt;/div&gt;`)[0];\n",
       "                popup_af8507b6826cc7d595cf4668721c3404.setContent(html_4384ef44344ea5ac7a6f522fa3c0bad7);\n",
       "            \n",
       "        \n",
       "\n",
       "        circle_marker_4ba1a846451440bce14441502c5935c9.bindPopup(popup_af8507b6826cc7d595cf4668721c3404)\n",
       "        ;\n",
       "\n",
       "        \n",
       "    \n",
       "    \n",
       "            var circle_marker_e7c64f81aede86653eab16823146e403 = L.circleMarker(\n",
       "                [15.0, 19.0],\n",
       "                {&quot;bubblingMouseEvents&quot;: true, &quot;color&quot;: &quot;blue&quot;, &quot;dashArray&quot;: null, &quot;dashOffset&quot;: null, &quot;fill&quot;: true, &quot;fillColor&quot;: &quot;blue&quot;, &quot;fillOpacity&quot;: 0.2, &quot;fillRule&quot;: &quot;evenodd&quot;, &quot;lineCap&quot;: &quot;round&quot;, &quot;lineJoin&quot;: &quot;round&quot;, &quot;opacity&quot;: 1.0, &quot;radius&quot;: 15.350884243330423, &quot;stroke&quot;: true, &quot;weight&quot;: 3}\n",
       "            ).addTo(map_adbf39b066471cb007ce6ebdf5bfea73);\n",
       "        \n",
       "    \n",
       "        var popup_a858e57eb46d8cdf8e296406f94fd644 = L.popup({&quot;maxWidth&quot;: &quot;100%&quot;});\n",
       "\n",
       "        \n",
       "            \n",
       "                var html_bc8aee8260d24cace768583004bd8c42 = $(`&lt;div id=&quot;html_bc8aee8260d24cace768583004bd8c42&quot; style=&quot;width: 100.0%; height: 100.0%;&quot;&gt;Chad&lt;/div&gt;`)[0];\n",
       "                popup_a858e57eb46d8cdf8e296406f94fd644.setContent(html_bc8aee8260d24cace768583004bd8c42);\n",
       "            \n",
       "        \n",
       "\n",
       "        circle_marker_e7c64f81aede86653eab16823146e403.bindPopup(popup_a858e57eb46d8cdf8e296406f94fd644)\n",
       "        ;\n",
       "\n",
       "        \n",
       "    \n",
       "    \n",
       "            var circle_marker_605e1d419de4ef32cdc116a3536816db = L.circleMarker(\n",
       "                [8.66667, 1.08333],\n",
       "                {&quot;bubblingMouseEvents&quot;: true, &quot;color&quot;: &quot;blue&quot;, &quot;dashArray&quot;: null, &quot;dashOffset&quot;: null, &quot;fill&quot;: true, &quot;fillColor&quot;: &quot;blue&quot;, &quot;fillOpacity&quot;: 0.2, &quot;fillRule&quot;: &quot;evenodd&quot;, &quot;lineCap&quot;: &quot;round&quot;, &quot;lineJoin&quot;: &quot;round&quot;, &quot;opacity&quot;: 1.0, &quot;radius&quot;: 10.423194513831255, &quot;stroke&quot;: true, &quot;weight&quot;: 3}\n",
       "            ).addTo(map_adbf39b066471cb007ce6ebdf5bfea73);\n",
       "        \n",
       "    \n",
       "        var popup_864a286a098c5f4b7c64f644338855b0 = L.popup({&quot;maxWidth&quot;: &quot;100%&quot;});\n",
       "\n",
       "        \n",
       "            \n",
       "                var html_33fb9ac5a99ad6f162d1c0e25f37f074 = $(`&lt;div id=&quot;html_33fb9ac5a99ad6f162d1c0e25f37f074&quot; style=&quot;width: 100.0%; height: 100.0%;&quot;&gt;Togo&lt;/div&gt;`)[0];\n",
       "                popup_864a286a098c5f4b7c64f644338855b0.setContent(html_33fb9ac5a99ad6f162d1c0e25f37f074);\n",
       "            \n",
       "        \n",
       "\n",
       "        circle_marker_605e1d419de4ef32cdc116a3536816db.bindPopup(popup_864a286a098c5f4b7c64f644338855b0)\n",
       "        ;\n",
       "\n",
       "        \n",
       "    \n",
       "    \n",
       "            var circle_marker_3d26c2b3c630905100aeaa355539a0aa = L.circleMarker(\n",
       "                [15.5, 101.0],\n",
       "                {&quot;bubblingMouseEvents&quot;: true, &quot;color&quot;: &quot;red&quot;, &quot;dashArray&quot;: null, &quot;dashOffset&quot;: null, &quot;fill&quot;: true, &quot;fillColor&quot;: &quot;red&quot;, &quot;fillOpacity&quot;: 0.2, &quot;fillRule&quot;: &quot;evenodd&quot;, &quot;lineCap&quot;: &quot;round&quot;, &quot;lineJoin&quot;: &quot;round&quot;, &quot;opacity&quot;: 1.0, &quot;radius&quot;: 21.672540025374772, &quot;stroke&quot;: true, &quot;weight&quot;: 3}\n",
       "            ).addTo(map_adbf39b066471cb007ce6ebdf5bfea73);\n",
       "        \n",
       "    \n",
       "        var popup_e43a172f48bba2eb4c0732e715952ae4 = L.popup({&quot;maxWidth&quot;: &quot;100%&quot;});\n",
       "\n",
       "        \n",
       "            \n",
       "                var html_609349fdbd4a158f363827dbbfb1a564 = $(`&lt;div id=&quot;html_609349fdbd4a158f363827dbbfb1a564&quot; style=&quot;width: 100.0%; height: 100.0%;&quot;&gt;Thailand&lt;/div&gt;`)[0];\n",
       "                popup_e43a172f48bba2eb4c0732e715952ae4.setContent(html_609349fdbd4a158f363827dbbfb1a564);\n",
       "            \n",
       "        \n",
       "\n",
       "        circle_marker_3d26c2b3c630905100aeaa355539a0aa.bindPopup(popup_e43a172f48bba2eb4c0732e715952ae4)\n",
       "        ;\n",
       "\n",
       "        \n",
       "    \n",
       "    \n",
       "            var circle_marker_627c893b95ff5c5437ddc6e2c46d8bdc = L.circleMarker(\n",
       "                [39.0, 71.0],\n",
       "                {&quot;bubblingMouseEvents&quot;: true, &quot;color&quot;: &quot;red&quot;, &quot;dashArray&quot;: null, &quot;dashOffset&quot;: null, &quot;fill&quot;: true, &quot;fillColor&quot;: &quot;red&quot;, &quot;fillOpacity&quot;: 0.2, &quot;fillRule&quot;: &quot;evenodd&quot;, &quot;lineCap&quot;: &quot;round&quot;, &quot;lineJoin&quot;: &quot;round&quot;, &quot;opacity&quot;: 1.0, &quot;radius&quot;: 10.954173378876014, &quot;stroke&quot;: true, &quot;weight&quot;: 3}\n",
       "            ).addTo(map_adbf39b066471cb007ce6ebdf5bfea73);\n",
       "        \n",
       "    \n",
       "        var popup_652953f2d70c680d230b10a759f6a2f6 = L.popup({&quot;maxWidth&quot;: &quot;100%&quot;});\n",
       "\n",
       "        \n",
       "            \n",
       "                var html_9e0368a1332a0a154cd68b12feadc90f = $(`&lt;div id=&quot;html_9e0368a1332a0a154cd68b12feadc90f&quot; style=&quot;width: 100.0%; height: 100.0%;&quot;&gt;Tajikistan&lt;/div&gt;`)[0];\n",
       "                popup_652953f2d70c680d230b10a759f6a2f6.setContent(html_9e0368a1332a0a154cd68b12feadc90f);\n",
       "            \n",
       "        \n",
       "\n",
       "        circle_marker_627c893b95ff5c5437ddc6e2c46d8bdc.bindPopup(popup_652953f2d70c680d230b10a759f6a2f6)\n",
       "        ;\n",
       "\n",
       "        \n",
       "    \n",
       "    \n",
       "            var circle_marker_83d8b1571d34c3b7db3596c0e24b45d0 = L.circleMarker(\n",
       "                [39.75, 59.66667],\n",
       "                {&quot;bubblingMouseEvents&quot;: true, &quot;color&quot;: &quot;red&quot;, &quot;dashArray&quot;: null, &quot;dashOffset&quot;: null, &quot;fill&quot;: true, &quot;fillColor&quot;: &quot;red&quot;, &quot;fillOpacity&quot;: 0.2, &quot;fillRule&quot;: &quot;evenodd&quot;, &quot;lineCap&quot;: &quot;round&quot;, &quot;lineJoin&quot;: &quot;round&quot;, &quot;opacity&quot;: 1.0, &quot;radius&quot;: 10.14271814015762, &quot;stroke&quot;: true, &quot;weight&quot;: 3}\n",
       "            ).addTo(map_adbf39b066471cb007ce6ebdf5bfea73);\n",
       "        \n",
       "    \n",
       "        var popup_ddbea79a26019157c4ac876b8589d15a = L.popup({&quot;maxWidth&quot;: &quot;100%&quot;});\n",
       "\n",
       "        \n",
       "            \n",
       "                var html_01881ce65dc1afea477eb7ccb67ec9db = $(`&lt;div id=&quot;html_01881ce65dc1afea477eb7ccb67ec9db&quot; style=&quot;width: 100.0%; height: 100.0%;&quot;&gt;Turkmenistan&lt;/div&gt;`)[0];\n",
       "                popup_ddbea79a26019157c4ac876b8589d15a.setContent(html_01881ce65dc1afea477eb7ccb67ec9db);\n",
       "            \n",
       "        \n",
       "\n",
       "        circle_marker_83d8b1571d34c3b7db3596c0e24b45d0.bindPopup(popup_ddbea79a26019157c4ac876b8589d15a)\n",
       "        ;\n",
       "\n",
       "        \n",
       "    \n",
       "    \n",
       "            var circle_marker_d36f27899bab6b16256f5db9d35d7949 = L.circleMarker(\n",
       "                [-8.83333, 125.75],\n",
       "                {&quot;bubblingMouseEvents&quot;: true, &quot;color&quot;: &quot;red&quot;, &quot;dashArray&quot;: null, &quot;dashOffset&quot;: null, &quot;fill&quot;: true, &quot;fillColor&quot;: &quot;red&quot;, &quot;fillOpacity&quot;: 0.2, &quot;fillRule&quot;: &quot;evenodd&quot;, &quot;lineCap&quot;: &quot;round&quot;, &quot;lineJoin&quot;: &quot;round&quot;, &quot;opacity&quot;: 1.0, &quot;radius&quot;: 3.4838832413106937, &quot;stroke&quot;: true, &quot;weight&quot;: 3}\n",
       "            ).addTo(map_adbf39b066471cb007ce6ebdf5bfea73);\n",
       "        \n",
       "    \n",
       "        var popup_18c758fa382ed70ad20ed061f2459181 = L.popup({&quot;maxWidth&quot;: &quot;100%&quot;});\n",
       "\n",
       "        \n",
       "            \n",
       "                var html_a23c948dea017ace8c8d76bb7f4359a1 = $(`&lt;div id=&quot;html_a23c948dea017ace8c8d76bb7f4359a1&quot; style=&quot;width: 100.0%; height: 100.0%;&quot;&gt;Timor-Leste&lt;/div&gt;`)[0];\n",
       "                popup_18c758fa382ed70ad20ed061f2459181.setContent(html_a23c948dea017ace8c8d76bb7f4359a1);\n",
       "            \n",
       "        \n",
       "\n",
       "        circle_marker_d36f27899bab6b16256f5db9d35d7949.bindPopup(popup_18c758fa382ed70ad20ed061f2459181)\n",
       "        ;\n",
       "\n",
       "        \n",
       "    \n",
       "    \n",
       "            var circle_marker_10445bb2428775d953bdd78c672a325f = L.circleMarker(\n",
       "                [11.0, -61.0],\n",
       "                {&quot;bubblingMouseEvents&quot;: true, &quot;color&quot;: &quot;green&quot;, &quot;dashArray&quot;: null, &quot;dashOffset&quot;: null, &quot;fill&quot;: true, &quot;fillColor&quot;: &quot;green&quot;, &quot;fillOpacity&quot;: 0.2, &quot;fillRule&quot;: &quot;evenodd&quot;, &quot;lineCap&quot;: &quot;round&quot;, &quot;lineJoin&quot;: &quot;round&quot;, &quot;opacity&quot;: 1.0, &quot;radius&quot;: 1.3261575894870345, &quot;stroke&quot;: true, &quot;weight&quot;: 3}\n",
       "            ).addTo(map_adbf39b066471cb007ce6ebdf5bfea73);\n",
       "        \n",
       "    \n",
       "        var popup_3086d8248a6dac30e26fd685f1d5ab3d = L.popup({&quot;maxWidth&quot;: &quot;100%&quot;});\n",
       "\n",
       "        \n",
       "            \n",
       "                var html_f978e2707e19273b65be703ba6c56646 = $(`&lt;div id=&quot;html_f978e2707e19273b65be703ba6c56646&quot; style=&quot;width: 100.0%; height: 100.0%;&quot;&gt;Trinidad and Tobago&lt;/div&gt;`)[0];\n",
       "                popup_3086d8248a6dac30e26fd685f1d5ab3d.setContent(html_f978e2707e19273b65be703ba6c56646);\n",
       "            \n",
       "        \n",
       "\n",
       "        circle_marker_10445bb2428775d953bdd78c672a325f.bindPopup(popup_3086d8248a6dac30e26fd685f1d5ab3d)\n",
       "        ;\n",
       "\n",
       "        \n",
       "    \n",
       "    \n",
       "            var circle_marker_f404882f11796cb35bb1feb792d775db = L.circleMarker(\n",
       "                [34.0, 9.0],\n",
       "                {&quot;bubblingMouseEvents&quot;: true, &quot;color&quot;: &quot;blue&quot;, &quot;dashArray&quot;: null, &quot;dashOffset&quot;: null, &quot;fill&quot;: true, &quot;fillColor&quot;: &quot;blue&quot;, &quot;fillOpacity&quot;: 0.2, &quot;fillRule&quot;: &quot;evenodd&quot;, &quot;lineCap&quot;: &quot;round&quot;, &quot;lineJoin&quot;: &quot;round&quot;, &quot;opacity&quot;: 1.0, &quot;radius&quot;: 5.408236124338439, &quot;stroke&quot;: true, &quot;weight&quot;: 3}\n",
       "            ).addTo(map_adbf39b066471cb007ce6ebdf5bfea73);\n",
       "        \n",
       "    \n",
       "        var popup_02ba9e10caa06682ee056737fa5f435e = L.popup({&quot;maxWidth&quot;: &quot;100%&quot;});\n",
       "\n",
       "        \n",
       "            \n",
       "                var html_9527464c5b2595fb673911f5959d6564 = $(`&lt;div id=&quot;html_9527464c5b2595fb673911f5959d6564&quot; style=&quot;width: 100.0%; height: 100.0%;&quot;&gt;Tunisia&lt;/div&gt;`)[0];\n",
       "                popup_02ba9e10caa06682ee056737fa5f435e.setContent(html_9527464c5b2595fb673911f5959d6564);\n",
       "            \n",
       "        \n",
       "\n",
       "        circle_marker_f404882f11796cb35bb1feb792d775db.bindPopup(popup_02ba9e10caa06682ee056737fa5f435e)\n",
       "        ;\n",
       "\n",
       "        \n",
       "    \n",
       "    \n",
       "            var circle_marker_c6172759371aca7221f7f4dfb8d52f39 = L.circleMarker(\n",
       "                [39.0, 35.0],\n",
       "                {&quot;bubblingMouseEvents&quot;: true, &quot;color&quot;: &quot;black&quot;, &quot;dashArray&quot;: null, &quot;dashOffset&quot;: null, &quot;fill&quot;: true, &quot;fillColor&quot;: &quot;black&quot;, &quot;fillOpacity&quot;: 0.2, &quot;fillRule&quot;: &quot;evenodd&quot;, &quot;lineCap&quot;: &quot;round&quot;, &quot;lineJoin&quot;: &quot;round&quot;, &quot;opacity&quot;: 1.0, &quot;radius&quot;: 8.128609272760132, &quot;stroke&quot;: true, &quot;weight&quot;: 3}\n",
       "            ).addTo(map_adbf39b066471cb007ce6ebdf5bfea73);\n",
       "        \n",
       "    \n",
       "        var popup_d65a18aa721d8fdd705a4a358cb29612 = L.popup({&quot;maxWidth&quot;: &quot;100%&quot;});\n",
       "\n",
       "        \n",
       "            \n",
       "                var html_ae2e9b93c39b71baf8eeb1fffcce6e7e = $(`&lt;div id=&quot;html_ae2e9b93c39b71baf8eeb1fffcce6e7e&quot; style=&quot;width: 100.0%; height: 100.0%;&quot;&gt;Turkey&lt;/div&gt;`)[0];\n",
       "                popup_d65a18aa721d8fdd705a4a358cb29612.setContent(html_ae2e9b93c39b71baf8eeb1fffcce6e7e);\n",
       "            \n",
       "        \n",
       "\n",
       "        circle_marker_c6172759371aca7221f7f4dfb8d52f39.bindPopup(popup_d65a18aa721d8fdd705a4a358cb29612)\n",
       "        ;\n",
       "\n",
       "        \n",
       "    \n",
       "    \n",
       "            var circle_marker_e57d3c0ce2c84ea3c7d31fe388f4c20d = L.circleMarker(\n",
       "                [-6.0, 35.0],\n",
       "                {&quot;bubblingMouseEvents&quot;: true, &quot;color&quot;: &quot;blue&quot;, &quot;dashArray&quot;: null, &quot;dashOffset&quot;: null, &quot;fill&quot;: true, &quot;fillColor&quot;: &quot;blue&quot;, &quot;fillOpacity&quot;: 0.2, &quot;fillRule&quot;: &quot;evenodd&quot;, &quot;lineCap&quot;: &quot;round&quot;, &quot;lineJoin&quot;: &quot;round&quot;, &quot;opacity&quot;: 1.0, &quot;radius&quot;: 34.48167037232038, &quot;stroke&quot;: true, &quot;weight&quot;: 3}\n",
       "            ).addTo(map_adbf39b066471cb007ce6ebdf5bfea73);\n",
       "        \n",
       "    \n",
       "        var popup_935e5c494a69eb9dc4149cea0dc1c6af = L.popup({&quot;maxWidth&quot;: &quot;100%&quot;});\n",
       "\n",
       "        \n",
       "            \n",
       "                var html_06fea9b3f263404993a5304c03cc8828 = $(`&lt;div id=&quot;html_06fea9b3f263404993a5304c03cc8828&quot; style=&quot;width: 100.0%; height: 100.0%;&quot;&gt;Tanzania&lt;/div&gt;`)[0];\n",
       "                popup_935e5c494a69eb9dc4149cea0dc1c6af.setContent(html_06fea9b3f263404993a5304c03cc8828);\n",
       "            \n",
       "        \n",
       "\n",
       "        circle_marker_e57d3c0ce2c84ea3c7d31fe388f4c20d.bindPopup(popup_935e5c494a69eb9dc4149cea0dc1c6af)\n",
       "        ;\n",
       "\n",
       "        \n",
       "    \n",
       "    \n",
       "            var circle_marker_cc5515e432816ca4b448cff34964c2d0 = L.circleMarker(\n",
       "                [1.25, 32.5],\n",
       "                {&quot;bubblingMouseEvents&quot;: true, &quot;color&quot;: &quot;blue&quot;, &quot;dashArray&quot;: null, &quot;dashOffset&quot;: null, &quot;fill&quot;: true, &quot;fillColor&quot;: &quot;blue&quot;, &quot;fillOpacity&quot;: 0.2, &quot;fillRule&quot;: &quot;evenodd&quot;, &quot;lineCap&quot;: &quot;round&quot;, &quot;lineJoin&quot;: &quot;round&quot;, &quot;opacity&quot;: 1.0, &quot;radius&quot;: 27.246522929908185, &quot;stroke&quot;: true, &quot;weight&quot;: 3}\n",
       "            ).addTo(map_adbf39b066471cb007ce6ebdf5bfea73);\n",
       "        \n",
       "    \n",
       "        var popup_be286708cfe36f593cfaf92d303d8ccb = L.popup({&quot;maxWidth&quot;: &quot;100%&quot;});\n",
       "\n",
       "        \n",
       "            \n",
       "                var html_cfbf0f23ecc22a77d754d58665f9170f = $(`&lt;div id=&quot;html_cfbf0f23ecc22a77d754d58665f9170f&quot; style=&quot;width: 100.0%; height: 100.0%;&quot;&gt;Uganda&lt;/div&gt;`)[0];\n",
       "                popup_be286708cfe36f593cfaf92d303d8ccb.setContent(html_cfbf0f23ecc22a77d754d58665f9170f);\n",
       "            \n",
       "        \n",
       "\n",
       "        circle_marker_cc5515e432816ca4b448cff34964c2d0.bindPopup(popup_be286708cfe36f593cfaf92d303d8ccb)\n",
       "        ;\n",
       "\n",
       "        \n",
       "    \n",
       "    \n",
       "            var circle_marker_df1224b51402da421f0b75f53d2f46d9 = L.circleMarker(\n",
       "                [49.0, 32.0],\n",
       "                {&quot;bubblingMouseEvents&quot;: true, &quot;color&quot;: &quot;black&quot;, &quot;dashArray&quot;: null, &quot;dashOffset&quot;: null, &quot;fill&quot;: true, &quot;fillColor&quot;: &quot;black&quot;, &quot;fillOpacity&quot;: 0.2, &quot;fillRule&quot;: &quot;evenodd&quot;, &quot;lineCap&quot;: &quot;round&quot;, &quot;lineJoin&quot;: &quot;round&quot;, &quot;opacity&quot;: 1.0, &quot;radius&quot;: 5.439615663710461, &quot;stroke&quot;: true, &quot;weight&quot;: 3}\n",
       "            ).addTo(map_adbf39b066471cb007ce6ebdf5bfea73);\n",
       "        \n",
       "    \n",
       "        var popup_f941a09bf244f64c8523ce4c0ffe7d98 = L.popup({&quot;maxWidth&quot;: &quot;100%&quot;});\n",
       "\n",
       "        \n",
       "            \n",
       "                var html_ce10799ea65b8c6ebf9fd49f720cb9f6 = $(`&lt;div id=&quot;html_ce10799ea65b8c6ebf9fd49f720cb9f6&quot; style=&quot;width: 100.0%; height: 100.0%;&quot;&gt;Ukraine&lt;/div&gt;`)[0];\n",
       "                popup_f941a09bf244f64c8523ce4c0ffe7d98.setContent(html_ce10799ea65b8c6ebf9fd49f720cb9f6);\n",
       "            \n",
       "        \n",
       "\n",
       "        circle_marker_df1224b51402da421f0b75f53d2f46d9.bindPopup(popup_f941a09bf244f64c8523ce4c0ffe7d98)\n",
       "        ;\n",
       "\n",
       "        \n",
       "    \n",
       "    \n",
       "            var circle_marker_17b53279516b52502a3c2d09a56dd950 = L.circleMarker(\n",
       "                [-33.0, -56.0],\n",
       "                {&quot;bubblingMouseEvents&quot;: true, &quot;color&quot;: &quot;green&quot;, &quot;dashArray&quot;: null, &quot;dashOffset&quot;: null, &quot;fill&quot;: true, &quot;fillColor&quot;: &quot;green&quot;, &quot;fillOpacity&quot;: 0.2, &quot;fillRule&quot;: &quot;evenodd&quot;, &quot;lineCap&quot;: &quot;round&quot;, &quot;lineJoin&quot;: &quot;round&quot;, &quot;opacity&quot;: 1.0, &quot;radius&quot;: 1.183534741839203, &quot;stroke&quot;: true, &quot;weight&quot;: 3}\n",
       "            ).addTo(map_adbf39b066471cb007ce6ebdf5bfea73);\n",
       "        \n",
       "    \n",
       "        var popup_924d818bdb01bc248d894a24689ee309 = L.popup({&quot;maxWidth&quot;: &quot;100%&quot;});\n",
       "\n",
       "        \n",
       "            \n",
       "                var html_3a532106446d210ed719468264e65e0e = $(`&lt;div id=&quot;html_3a532106446d210ed719468264e65e0e&quot; style=&quot;width: 100.0%; height: 100.0%;&quot;&gt;Uruguay&lt;/div&gt;`)[0];\n",
       "                popup_924d818bdb01bc248d894a24689ee309.setContent(html_3a532106446d210ed719468264e65e0e);\n",
       "            \n",
       "        \n",
       "\n",
       "        circle_marker_17b53279516b52502a3c2d09a56dd950.bindPopup(popup_924d818bdb01bc248d894a24689ee309)\n",
       "        ;\n",
       "\n",
       "        \n",
       "    \n",
       "    \n",
       "            var circle_marker_fcd74848538921c6aaba887f69f3ccf6 = L.circleMarker(\n",
       "                [39.76, -98.5],\n",
       "                {&quot;bubblingMouseEvents&quot;: true, &quot;color&quot;: &quot;green&quot;, &quot;dashArray&quot;: null, &quot;dashOffset&quot;: null, &quot;fill&quot;: true, &quot;fillColor&quot;: &quot;green&quot;, &quot;fillOpacity&quot;: 0.2, &quot;fillRule&quot;: &quot;evenodd&quot;, &quot;lineCap&quot;: &quot;round&quot;, &quot;lineJoin&quot;: &quot;round&quot;, &quot;opacity&quot;: 1.0, &quot;radius&quot;: 12.816534715641207, &quot;stroke&quot;: true, &quot;weight&quot;: 3}\n",
       "            ).addTo(map_adbf39b066471cb007ce6ebdf5bfea73);\n",
       "        \n",
       "    \n",
       "        var popup_988a364225ef886b6da38857e14b39aa = L.popup({&quot;maxWidth&quot;: &quot;100%&quot;});\n",
       "\n",
       "        \n",
       "            \n",
       "                var html_356b2c759e9c48754757a766d9368f57 = $(`&lt;div id=&quot;html_356b2c759e9c48754757a766d9368f57&quot; style=&quot;width: 100.0%; height: 100.0%;&quot;&gt;United States&lt;/div&gt;`)[0];\n",
       "                popup_988a364225ef886b6da38857e14b39aa.setContent(html_356b2c759e9c48754757a766d9368f57);\n",
       "            \n",
       "        \n",
       "\n",
       "        circle_marker_fcd74848538921c6aaba887f69f3ccf6.bindPopup(popup_988a364225ef886b6da38857e14b39aa)\n",
       "        ;\n",
       "\n",
       "        \n",
       "    \n",
       "    \n",
       "            var circle_marker_2ea796ad9366c89da1ee5f56e304cb40 = L.circleMarker(\n",
       "                [8.0, -66.0],\n",
       "                {&quot;bubblingMouseEvents&quot;: true, &quot;color&quot;: &quot;green&quot;, &quot;dashArray&quot;: null, &quot;dashOffset&quot;: null, &quot;fill&quot;: true, &quot;fillColor&quot;: &quot;green&quot;, &quot;fillOpacity&quot;: 0.2, &quot;fillRule&quot;: &quot;evenodd&quot;, &quot;lineCap&quot;: &quot;round&quot;, &quot;lineJoin&quot;: &quot;round&quot;, &quot;opacity&quot;: 1.0, &quot;radius&quot;: 13.135628799078571, &quot;stroke&quot;: true, &quot;weight&quot;: 3}\n",
       "            ).addTo(map_adbf39b066471cb007ce6ebdf5bfea73);\n",
       "        \n",
       "    \n",
       "        var popup_24de490976e07dff1650b63d6e045f8f = L.popup({&quot;maxWidth&quot;: &quot;100%&quot;});\n",
       "\n",
       "        \n",
       "            \n",
       "                var html_dfdcb735c68fc58bb45429b1ee13a720 = $(`&lt;div id=&quot;html_dfdcb735c68fc58bb45429b1ee13a720&quot; style=&quot;width: 100.0%; height: 100.0%;&quot;&gt;Venezuela&lt;/div&gt;`)[0];\n",
       "                popup_24de490976e07dff1650b63d6e045f8f.setContent(html_dfdcb735c68fc58bb45429b1ee13a720);\n",
       "            \n",
       "        \n",
       "\n",
       "        circle_marker_2ea796ad9366c89da1ee5f56e304cb40.bindPopup(popup_24de490976e07dff1650b63d6e045f8f)\n",
       "        ;\n",
       "\n",
       "        \n",
       "    \n",
       "    \n",
       "            var circle_marker_478fdf56bbd4d77b32113005c6c159c1 = L.circleMarker(\n",
       "                [16.16667, 107.83333],\n",
       "                {&quot;bubblingMouseEvents&quot;: true, &quot;color&quot;: &quot;red&quot;, &quot;dashArray&quot;: null, &quot;dashOffset&quot;: null, &quot;fill&quot;: true, &quot;fillColor&quot;: &quot;red&quot;, &quot;fillOpacity&quot;: 0.2, &quot;fillRule&quot;: &quot;evenodd&quot;, &quot;lineCap&quot;: &quot;round&quot;, &quot;lineJoin&quot;: &quot;round&quot;, &quot;opacity&quot;: 1.0, &quot;radius&quot;: 42.25330902678074, &quot;stroke&quot;: true, &quot;weight&quot;: 3}\n",
       "            ).addTo(map_adbf39b066471cb007ce6ebdf5bfea73);\n",
       "        \n",
       "    \n",
       "        var popup_17095dc132eda7c264a65683f6307e3c = L.popup({&quot;maxWidth&quot;: &quot;100%&quot;});\n",
       "\n",
       "        \n",
       "            \n",
       "                var html_1a3ad04ad6aafe9c1364f67e818083af = $(`&lt;div id=&quot;html_1a3ad04ad6aafe9c1364f67e818083af&quot; style=&quot;width: 100.0%; height: 100.0%;&quot;&gt;Vietnam&lt;/div&gt;`)[0];\n",
       "                popup_17095dc132eda7c264a65683f6307e3c.setContent(html_1a3ad04ad6aafe9c1364f67e818083af);\n",
       "            \n",
       "        \n",
       "\n",
       "        circle_marker_478fdf56bbd4d77b32113005c6c159c1.bindPopup(popup_17095dc132eda7c264a65683f6307e3c)\n",
       "        ;\n",
       "\n",
       "        \n",
       "    \n",
       "    \n",
       "            var circle_marker_2e7ecae3c5cfb1f3694942681415d36e = L.circleMarker(\n",
       "                [15.5, 47.5],\n",
       "                {&quot;bubblingMouseEvents&quot;: true, &quot;color&quot;: &quot;red&quot;, &quot;dashArray&quot;: null, &quot;dashOffset&quot;: null, &quot;fill&quot;: true, &quot;fillColor&quot;: &quot;red&quot;, &quot;fillOpacity&quot;: 0.2, &quot;fillRule&quot;: &quot;evenodd&quot;, &quot;lineCap&quot;: &quot;round&quot;, &quot;lineJoin&quot;: &quot;round&quot;, &quot;opacity&quot;: 1.0, &quot;radius&quot;: 8.784547769258724, &quot;stroke&quot;: true, &quot;weight&quot;: 3}\n",
       "            ).addTo(map_adbf39b066471cb007ce6ebdf5bfea73);\n",
       "        \n",
       "    \n",
       "        var popup_196ba289b6d62f32a90d43e470bec0ab = L.popup({&quot;maxWidth&quot;: &quot;100%&quot;});\n",
       "\n",
       "        \n",
       "            \n",
       "                var html_703709870cae5be38d16cbdc0c9d76a4 = $(`&lt;div id=&quot;html_703709870cae5be38d16cbdc0c9d76a4&quot; style=&quot;width: 100.0%; height: 100.0%;&quot;&gt;Yemen&lt;/div&gt;`)[0];\n",
       "                popup_196ba289b6d62f32a90d43e470bec0ab.setContent(html_703709870cae5be38d16cbdc0c9d76a4);\n",
       "            \n",
       "        \n",
       "\n",
       "        circle_marker_2e7ecae3c5cfb1f3694942681415d36e.bindPopup(popup_196ba289b6d62f32a90d43e470bec0ab)\n",
       "        ;\n",
       "\n",
       "        \n",
       "    \n",
       "    \n",
       "            var circle_marker_efba75c99da9bb8323bcd7b21d7ce6b3 = L.circleMarker(\n",
       "                [-29.0, 24.0],\n",
       "                {&quot;bubblingMouseEvents&quot;: true, &quot;color&quot;: &quot;blue&quot;, &quot;dashArray&quot;: null, &quot;dashOffset&quot;: null, &quot;fill&quot;: true, &quot;fillColor&quot;: &quot;blue&quot;, &quot;fillOpacity&quot;: 0.2, &quot;fillRule&quot;: &quot;evenodd&quot;, &quot;lineCap&quot;: &quot;round&quot;, &quot;lineJoin&quot;: &quot;round&quot;, &quot;opacity&quot;: 1.0, &quot;radius&quot;: 20.667247094540503, &quot;stroke&quot;: true, &quot;weight&quot;: 3}\n",
       "            ).addTo(map_adbf39b066471cb007ce6ebdf5bfea73);\n",
       "        \n",
       "    \n",
       "        var popup_bf81fc5c7643710a1457df8b864ff7d7 = L.popup({&quot;maxWidth&quot;: &quot;100%&quot;});\n",
       "\n",
       "        \n",
       "            \n",
       "                var html_2d9627b6c84a232ff20d3b556955f7c5 = $(`&lt;div id=&quot;html_2d9627b6c84a232ff20d3b556955f7c5&quot; style=&quot;width: 100.0%; height: 100.0%;&quot;&gt;South Africa&lt;/div&gt;`)[0];\n",
       "                popup_bf81fc5c7643710a1457df8b864ff7d7.setContent(html_2d9627b6c84a232ff20d3b556955f7c5);\n",
       "            \n",
       "        \n",
       "\n",
       "        circle_marker_efba75c99da9bb8323bcd7b21d7ce6b3.bindPopup(popup_bf81fc5c7643710a1457df8b864ff7d7)\n",
       "        ;\n",
       "\n",
       "        \n",
       "    \n",
       "    \n",
       "            var circle_marker_7a00d8eaea1f4ed24d028b60068b354b = L.circleMarker(\n",
       "                [-14.33333, 28.5],\n",
       "                {&quot;bubblingMouseEvents&quot;: true, &quot;color&quot;: &quot;blue&quot;, &quot;dashArray&quot;: null, &quot;dashOffset&quot;: null, &quot;fill&quot;: true, &quot;fillColor&quot;: &quot;blue&quot;, &quot;fillOpacity&quot;: 0.2, &quot;fillRule&quot;: &quot;evenodd&quot;, &quot;lineCap&quot;: &quot;round&quot;, &quot;lineJoin&quot;: &quot;round&quot;, &quot;opacity&quot;: 1.0, &quot;radius&quot;: 17.940846416721868, &quot;stroke&quot;: true, &quot;weight&quot;: 3}\n",
       "            ).addTo(map_adbf39b066471cb007ce6ebdf5bfea73);\n",
       "        \n",
       "    \n",
       "        var popup_c813011e58f16f03018eb4043650b8ad = L.popup({&quot;maxWidth&quot;: &quot;100%&quot;});\n",
       "\n",
       "        \n",
       "            \n",
       "                var html_69f0668620a5bde35a4af853be4e8fa6 = $(`&lt;div id=&quot;html_69f0668620a5bde35a4af853be4e8fa6&quot; style=&quot;width: 100.0%; height: 100.0%;&quot;&gt;Zambia&lt;/div&gt;`)[0];\n",
       "                popup_c813011e58f16f03018eb4043650b8ad.setContent(html_69f0668620a5bde35a4af853be4e8fa6);\n",
       "            \n",
       "        \n",
       "\n",
       "        circle_marker_7a00d8eaea1f4ed24d028b60068b354b.bindPopup(popup_c813011e58f16f03018eb4043650b8ad)\n",
       "        ;\n",
       "\n",
       "        \n",
       "    \n",
       "&lt;/script&gt;\n",
       "&lt;/html&gt;\" style=\"position:absolute;width:100%;height:100%;left:0;top:0;border:none !important;\" allowfullscreen webkitallowfullscreen mozallowfullscreen></iframe></div></div>"
      ],
      "text/plain": [
       "<datascience.maps.Map at 0x7570436fcb60>"
      ]
     },
     "execution_count": 74,
     "metadata": {},
     "output_type": "execute_result"
    }
   ],
   "source": [
    "# It may take a few seconds to generate this map.\n",
    "colors = {'africa': 'blue', 'europe': 'black', 'asia': 'red', 'americas': 'green'}\n",
    "scaled = poverty_map.with_columns(\n",
    "    'labels', poverty_map.column('name'),\n",
    "    'colors', poverty_map.apply(colors.get, 'region'),\n",
    "    'areas', 1e-4 * poverty_map.column('poverty_total')\n",
    ").drop('name', 'region', 'poverty_total')\n",
    "\n",
    "Circle.map_table(scaled)"
   ]
  },
  {
   "cell_type": "markdown",
   "metadata": {
    "deletable": false,
    "editable": false
   },
   "source": [
    "Although people lived in extreme poverty throughout the world in 2010 (with more than 5 million in the United States), the largest numbers were in Asia and Africa."
   ]
  },
  {
   "cell_type": "markdown",
   "metadata": {},
   "source": [
    "**Question 5.** Assign `largest` to a two-column table with the `name` (not the 3-letter code) and `poverty_total` of the 10 countries with the largest number of people living in extreme poverty.\n",
    "\n",
    "*Hint*: How can we use `take` and `np.arange` in conjunction with each other?\n"
   ]
  },
  {
   "cell_type": "code",
   "execution_count": 88,
   "metadata": {
    "deletable": false,
    "tags": []
   },
   "outputs": [
    {
     "name": "stdout",
     "output_type": "stream",
     "text": [
      "latitude | longitude | name             | region | poverty_total\n",
      "35       | 105       | China            | asia   | 1.1535e+09\n",
      "22       | 79        | India            | asia   | 8.13268e+08\n",
      "-5       | 120       | Indonesia        | asia   | 1.64834e+08\n",
      "30       | 70        | Pakistan         | asia   | 1.19246e+08\n",
      "10       | 8         | Nigeria          | africa | 1.08812e+08\n",
      "24       | 90        | Bangladesh       | asia   | 1.05679e+08\n",
      "9        | 39.5      | Ethiopia         | africa | 6.05767e+07\n",
      "-2.5     | 23.5      | Congo, Dem. Rep. | africa | 5.66354e+07\n",
      "16.1667  | 107.833   | Vietnam          | asia   | 5.60882e+07\n",
      "-6       | 35        | Tanzania         | africa | 3.73531e+07\n",
      "... (135 rows omitted)\n"
     ]
    },
    {
     "data": {
      "text/html": [
       "<table border=\"1\" class=\"dataframe\">\n",
       "    <thead>\n",
       "        <tr>\n",
       "            <th>name</th> <th>poverty_total</th>\n",
       "        </tr>\n",
       "    </thead>\n",
       "    <tbody>\n",
       "        <tr>\n",
       "            <td>China           </td> <td>1,153,496,696.00</td>\n",
       "        </tr>\n",
       "        <tr>\n",
       "            <td>India           </td> <td>813,267,858.00  </td>\n",
       "        </tr>\n",
       "        <tr>\n",
       "            <td>Indonesia       </td> <td>164,834,208.00  </td>\n",
       "        </tr>\n",
       "        <tr>\n",
       "            <td>Pakistan        </td> <td>119,245,618.00  </td>\n",
       "        </tr>\n",
       "        <tr>\n",
       "            <td>Nigeria         </td> <td>108,812,449.00  </td>\n",
       "        </tr>\n",
       "        <tr>\n",
       "            <td>Bangladesh      </td> <td>105,678,768.00  </td>\n",
       "        </tr>\n",
       "        <tr>\n",
       "            <td>Ethiopia        </td> <td>60,576,742.00   </td>\n",
       "        </tr>\n",
       "        <tr>\n",
       "            <td>Congo, Dem. Rep.</td> <td>56,635,412.00   </td>\n",
       "        </tr>\n",
       "        <tr>\n",
       "            <td>Vietnam         </td> <td>56,088,177.00   </td>\n",
       "        </tr>\n",
       "        <tr>\n",
       "            <td>Tanzania        </td> <td>37,353,084.00   </td>\n",
       "        </tr>\n",
       "    </tbody>\n",
       "</table>"
      ],
      "text/plain": [
       "name             | poverty_total\n",
       "China            | 1,153,496,696.00\n",
       "India            | 813,267,858.00\n",
       "Indonesia        | 164,834,208.00\n",
       "Pakistan         | 119,245,618.00\n",
       "Nigeria          | 108,812,449.00\n",
       "Bangladesh       | 105,678,768.00\n",
       "Ethiopia         | 60,576,742.00\n",
       "Congo, Dem. Rep. | 56,635,412.00\n",
       "Vietnam          | 56,088,177.00\n",
       "Tanzania         | 37,353,084.00"
      ]
     },
     "execution_count": 88,
     "metadata": {},
     "output_type": "execute_result"
    }
   ],
   "source": [
    "country = []\n",
    "topPoverty = []\n",
    "sortPoverty = poverty_map.sort(\"poverty_total\", descending=True)\n",
    "print(sortPoverty)\n",
    "for i in range(10):\n",
    "    topPoverty.append(sortPoverty.column(\"poverty_total\").item(i))\n",
    "    country.append(sortPoverty.column(\"name\").item(i))\n",
    "largest = Table().with_columns(\"name\", country, \"poverty_total\", topPoverty)\n",
    "largest.set_format('poverty_total', NumberFormatter)"
   ]
  },
  {
   "cell_type": "code",
   "execution_count": 84,
   "metadata": {
    "deletable": false,
    "editable": false
   },
   "outputs": [
    {
     "data": {
      "text/html": [
       "<p><strong style='color: red;'><pre style='display: inline;'>q2_5</pre> results:</strong></p><p><strong><pre style='display: inline;'>q2_5 - 1</pre> result:</strong></p><pre>    ✅ Test case passed</pre><p><strong><pre style='display: inline;'>q2_5 - 2</pre> result:</strong></p><pre>    ❌ Test case failed\n",
       "    Trying:\n",
       "        largest.column(0).item(0)\n",
       "    Expecting:\n",
       "        'India'\n",
       "    **********************************************************************\n",
       "    Line 3, in q2_5 1\n",
       "    Failed example:\n",
       "        largest.column(0).item(0)\n",
       "    Expected:\n",
       "        'India'\n",
       "    Got:\n",
       "        'China'\n",
       "</pre><p><strong><pre style='display: inline;'>q2_5 - 3</pre> result:</strong></p><pre>    ✅ Test case passed</pre>"
      ],
      "text/plain": [
       "q2_5 results:\n",
       "    q2_5 - 1 result:\n",
       "        ✅ Test case passed\n",
       "\n",
       "    q2_5 - 2 result:\n",
       "        ❌ Test case failed\n",
       "        Trying:\n",
       "            largest.column(0).item(0)\n",
       "        Expecting:\n",
       "            'India'\n",
       "        **********************************************************************\n",
       "        Line 3, in q2_5 1\n",
       "        Failed example:\n",
       "            largest.column(0).item(0)\n",
       "        Expected:\n",
       "            'India'\n",
       "        Got:\n",
       "            'China'\n",
       "\n",
       "    q2_5 - 3 result:\n",
       "        ✅ Test case passed"
      ]
     },
     "execution_count": 84,
     "metadata": {},
     "output_type": "execute_result"
    }
   ],
   "source": [
    "grader.check(\"q2_5\")"
   ]
  },
  {
   "cell_type": "markdown",
   "metadata": {},
   "source": [
    "<!-- BEGIN QUESTION -->\n",
    "\n",
    "**Question 6.** It is important to study the absolute number of people living in poverty, not just the percent. The absolute number is an important factor in determining the amount of resources needed to support people living in poverty. In the next two questions you will explore this.\n",
    "\n",
    "In Question 7, you will be asked to write a function called `poverty_timeline` that takes **the name of a country** as its argument (not the Alpha-3 country code). It should draw a line plot of the number of people living in poverty in that country with time on the horizontal axis. The line plot should have a point for each row in the poverty table for that country. To compute the population living in poverty from a poverty percentage, multiply by the population of the country **in that year**.\n",
    "\n",
    "For this question, write out a generalized process for Question 7. Make sure to answer/include the following: \n",
    "- What should this function output? \n",
    "- Additionally, **make a numbered list** of the steps you take within the function body. If you added/edited, say, 5 lines in the function body, then it would be good to see the numbers 1 through 5 describing what you did (i.e. what functions/methods you used) in each line and why.\n",
    "\n",
    "As a tip, after finishing question 7, we recommend polishing up your description of the steps for this question."
   ]
  },
  {
   "cell_type": "markdown",
   "metadata": {},
   "source": [
    "_Type your answer here, replacing this text._"
   ]
  },
  {
   "cell_type": "markdown",
   "metadata": {
    "deletable": false
   },
   "source": [
    "<!-- END QUESTION -->\n",
    "\n",
    "<!-- BEGIN QUESTION -->\n",
    "\n",
    "**Question 7.** Now, we'll actually write the function called `poverty_timeline`. Recall that `poverty_timeline` takes **the name of a country** as its argument (not the Alpha-3 country code). It should draw a line plot of the number of people living in poverty in that country with time on the horizontal axis. The line plot should have a point for each row in the `poverty` table for that country. To compute the population living in poverty from a poverty percentage, multiply by the population of the country **in that year**.\n",
    "\n",
    "**Note:** You **should <u>not</u>** return anything from your function. Simply call `plots.show()` at the end of your function body.\n",
    "\n",
    "*Hint 1:* This question is long. Feel free to create cells and experiment. You can create cells by going to the toolbar and hitting the `+` button.\n",
    "\n",
    "*Hint 2:* Consider using `join` in your code.\n",
    "\n",
    "Feel free to use the markdown cell below to plan out your answer, but you needn't fill it in."
   ]
  },
  {
   "cell_type": "markdown",
   "metadata": {},
   "source": [
    "_Type your answer here, replacing this text._"
   ]
  },
  {
   "cell_type": "code",
   "execution_count": null,
   "metadata": {
    "tags": []
   },
   "outputs": [],
   "source": [
    "def poverty_timeline(country):\n",
    "    '''Draw a timeline of people living in extreme poverty in a country.'''\n",
    "    geo = ...\n",
    "    # This solution will take multiple lines of code. Use as many as you need\n",
    "    ...\n",
    "    # Don't change anything below this line. \n",
    "    plots.title(country)\n",
    "    plots.ylim(bottom=0)\n",
    "    plots.show() # This should be the last line of your function. "
   ]
  },
  {
   "cell_type": "code",
   "execution_count": null,
   "metadata": {
    "deletable": false,
    "tags": []
   },
   "outputs": [],
   "source": [
    "poverty_timeline('Poland')\n",
    "poverty_timeline('India')\n",
    "poverty_timeline('Nigeria')\n",
    "poverty_timeline('China')\n",
    "poverty_timeline('Colombia')\n",
    "poverty_timeline('United States')"
   ]
  },
  {
   "cell_type": "markdown",
   "metadata": {
    "deletable": false
   },
   "source": [
    "<!-- END QUESTION -->\n",
    "\n",
    "Although the number of people living in extreme poverty increased in some countries including Nigeria and the United States, the decreases in other countries, most notably the massive decreases in China and India, have shaped the overall trend that extreme poverty is decreasing worldwide, both in percentage and in absolute number. \n",
    "\n",
    "To learn more, watch [Hans Rosling in a 2015 film](https://www.gapminder.org/videos/dont-panic-end-poverty/) about the UN goal of eradicating extreme poverty from the world. \n",
    "\n",
    "Below, we've also added an interactive dropdown menu for you to visualize `poverty_timeline` graphs for other countries. Note that each dropdown menu selection may take a few seconds to run."
   ]
  },
  {
   "cell_type": "code",
   "execution_count": null,
   "metadata": {
    "deletable": false,
    "editable": false
   },
   "outputs": [],
   "source": [
    "# Just run this cell\n",
    "\n",
    "all_countries = poverty_map.column('name')\n",
    "_ = widgets.interact(poverty_timeline, country=list(all_countries))"
   ]
  },
  {
   "cell_type": "markdown",
   "metadata": {},
   "source": [
    " "
   ]
  }
 ],
 "metadata": {
  "kernelspec": {
   "display_name": "Python 3",
   "language": "python",
   "name": "python3"
  },
  "language_info": {
   "codemirror_mode": {
    "name": "ipython",
    "version": 3
   },
   "file_extension": ".py",
   "mimetype": "text/x-python",
   "name": "python",
   "nbconvert_exporter": "python",
   "pygments_lexer": "ipython3",
   "version": "3.12.1"
  },
  "otter": {
   "OK_FORMAT": true,
   "tests": {
    "q0": {
     "name": "q0",
     "points": [
      0
     ],
     "suites": [
      {
       "cases": [
        {
         "code": ">>> i_wont_use_show_without_an_argument == True\nTrue",
         "hidden": false,
         "locked": false
        }
       ],
       "scored": true,
       "setup": "",
       "teardown": "",
       "type": "doctest"
      }
     ]
    },
    "q1_1": {
     "name": "q1_1",
     "points": [
      0,
      0
     ],
     "suites": [
      {
       "cases": [
        {
         "code": ">>> # Check your column labels and spelling\n>>> p_pop.labels == ('time', 'population_total')\nTrue",
         "hidden": false,
         "locked": false
        },
        {
         "code": ">>> # Times should range from 1900 through 2020\n>>> all(p_pop.sort(\"time\").column(\"time\") == np.arange(1900, 2021))\nTrue",
         "hidden": false,
         "locked": false
        }
       ],
       "scored": true,
       "setup": "",
       "teardown": "",
       "type": "doctest"
      }
     ]
    },
    "q1_11": {
     "name": "q1_11",
     "points": [
      0,
      0,
      0,
      4
     ],
     "suites": [
      {
       "cases": [
        {
         "code": ">>> # Incorrect labels for columns\n>>> t = stats_for_year(1990)\n>>> t.labels == ('geo', 'population_total', 'children_per_woman_total_fertility', 'child_mortality_under_5_per_1000_born')\nTrue",
         "hidden": false,
         "locked": false
        },
        {
         "code": ">>> # Incorrect number of rows\n>>> t = stats_for_year(1990)\n>>> t.num_rows\n50",
         "hidden": false,
         "locked": false
        },
        {
         "code": ">>> print(stats_for_year(1960).sort('geo').take(np.arange(5, 50, 5)))\ngeo  | population_total | children_per_woman_total_fertility | child_mortality_under_5_per_1000_born\ncan  | 17847404         | 3.88                               | 32.6\ndza  | 11057864         | 7.52                               | 242.54\ngbr  | 52370595         | 2.69                               | 26.56\nirq  | 7289753          | 6.25                               | 191.93\nmar  | 12328532         | 7.04                               | 237.06\nnga  | 45138460         | 6.35                               | 339.85\npol  | 29614201         | 3.11                               | 65.03\ntur  | 27472339         | 6.37                               | 258.29\nuzb  | 8526299          | 6.26                               | 169.4\n",
         "hidden": false,
         "locked": false
        },
        {
         "code": ">>> print(stats_for_year(2010).sort('geo').take(np.arange(3, 50, 5)))\ngeo  | population_total | children_per_woman_total_fertility | child_mortality_under_5_per_1000_born\nbgd  | 147575433        | 2.28                               | 49.1\ncol  | 45222699         | 2.01                               | 18.47\neth  | 87639962         | 4.92                               | 82.94\nind  | 1234281163       | 2.6                                | 58.23\nken  | 42030684         | 4.37                               | 56.54\nmoz  | 23531567         | 5.56                               | 104.53\nper  | 29027680         | 2.55                               | 20.13\nsdn  | 34545014         | 4.88                               | 75.92\nukr  | 45792086         | 1.45                               | 11.72\nyem  | 23154854         | 4.67                               | 55.96\n",
         "hidden": false,
         "locked": false
        }
       ],
       "scored": true,
       "setup": "",
       "teardown": "",
       "type": "doctest"
      }
     ]
    },
    "q1_12": {
     "name": "q1_12",
     "points": [
      0,
      0
     ],
     "suites": [
      {
       "cases": [
        {
         "code": ">>> # Check your column labels and spelling\n>>> pop_by_decade.labels == ('decade', 'population')\nTrue",
         "hidden": false,
         "locked": false
        },
        {
         "code": ">>> # The first year of the 1960's is 1960.\n>>> pop_by_decade.column(0).item(0) == 1960\nTrue",
         "hidden": false,
         "locked": false
        }
       ],
       "scored": true,
       "setup": "",
       "teardown": "",
       "type": "doctest"
      }
     ]
    },
    "q1_12_0": {
     "name": "q1_12_0",
     "points": [
      0,
      0,
      0
     ],
     "suites": [
      {
       "cases": [
        {
         "code": ">>> pop_for_year(1972) == 3355562066\nTrue",
         "hidden": false,
         "locked": false
        },
        {
         "code": ">>> pop_for_year(2020) == 6765161289\nTrue",
         "hidden": false,
         "locked": false
        },
        {
         "code": ">>> pop_for_year(1989) == 4576679948\nTrue",
         "hidden": false,
         "locked": false
        }
       ],
       "scored": true,
       "setup": "",
       "teardown": "",
       "type": "doctest"
      }
     ]
    },
    "q1_13": {
     "name": "q1_13",
     "points": [
      0,
      0
     ],
     "suites": [
      {
       "cases": [
        {
         "code": ">>> # Check your column labels and spelling\n>>> region_counts.labels == ('region', 'count')\nTrue",
         "hidden": false,
         "locked": false
        },
        {
         "code": ">>> # Counts must sum to 50\n>>> sum(region_counts.column('count')) == 50\nTrue",
         "hidden": false,
         "locked": false
        }
       ],
       "scored": true,
       "setup": "",
       "teardown": "",
       "type": "doctest"
      }
     ]
    },
    "q1_14": {
     "name": "q1_14",
     "points": [
      0
     ],
     "suites": [
      {
       "cases": [
        {
         "code": ">>> # Please use a list of integers from 1 to 5\n>>> all(x in range(1, 6) for x in set(scatter_statements))\nTrue",
         "hidden": false,
         "locked": false
        }
       ],
       "scored": true,
       "setup": "",
       "teardown": "",
       "type": "doctest"
      }
     ]
    },
    "q1_2": {
     "name": "q1_2",
     "points": [
      0,
      0
     ],
     "suites": [
      {
       "cases": [
        {
         "code": ">>> first = round(p_five_growth.sort(0).column(2).item(0), 8)\n>>> 0.005 <= first <= 0.5\nTrue",
         "hidden": false,
         "locked": false
        },
        {
         "code": ">>> # Compute the annual exponential growth rate\n>>> max(p_five_growth.column(2)) < 0.03\nTrue",
         "hidden": false,
         "locked": false
        }
       ],
       "scored": true,
       "setup": "",
       "teardown": "",
       "type": "doctest"
      }
     ]
    },
    "q1_5": {
     "name": "q1_5",
     "points": [
      0,
      0,
      0
     ],
     "suites": [
      {
       "cases": [
        {
         "code": ">>> # Check your column labels and spelling\n>>> fertility_over_time('usa', 2010).labels == ('Year', 'Children per woman')\nTrue",
         "hidden": false,
         "locked": false
        },
        {
         "code": ">>> # Check that you use the start year to determine the data range.\n>>> all(fertility_over_time('usa', 2010).column('Year') == np.arange(2010, 2021))\nTrue",
         "hidden": false,
         "locked": false
        },
        {
         "code": ">>> # Check that you use the start year to determine the data range.\n>>> all(fertility_over_time('usa', 2005).column('Year') == np.arange(2005, 2021))\nTrue",
         "hidden": false,
         "locked": false
        }
       ],
       "scored": true,
       "setup": "",
       "teardown": "",
       "type": "doctest"
      }
     ]
    },
    "q1_7": {
     "name": "q1_7",
     "points": [
      0,
      0
     ],
     "suites": [
      {
       "cases": [
        {
         "code": ">>> # Make sure you are using the date range 1950-2020\n>>> poland_since_1950.num_rows\n71",
         "hidden": false,
         "locked": false
        },
        {
         "code": ">>> # Check your column labels and spelling\n>>> all([label in poland_since_1950.labels for label in ['Children per woman', 'Child deaths per 1000 born']])\nTrue",
         "hidden": false,
         "locked": false
        }
       ],
       "scored": true,
       "setup": "",
       "teardown": "",
       "type": "doctest"
      }
     ]
    },
    "q1_9": {
     "name": "q1_9",
     "points": [
      0
     ],
     "suites": [
      {
       "cases": [
        {
         "code": ">>> # Please use a list of integers from 1 to 6\n>>> all(x in range(1, 7) for x in set(fertility_statements))\nTrue",
         "hidden": false,
         "locked": false
        }
       ],
       "scored": true,
       "setup": "",
       "teardown": "",
       "type": "doctest"
      }
     ]
    },
    "q2_1": {
     "name": "q2_1",
     "points": [
      0,
      0
     ],
     "suites": [
      {
       "cases": [
        {
         "code": ">>> # Please don't edit the last line.\n>>> latest_poverty.labels == ('geo', 'time', 'poverty_percent')\nTrue",
         "hidden": false,
         "locked": false
        },
        {
         "code": ">>> # The result should have one row per country.\n>>> latest_poverty.num_rows\n145",
         "hidden": false,
         "locked": false
        }
       ],
       "scored": true,
       "setup": "",
       "teardown": "",
       "type": "doctest"
      }
     ]
    },
    "q2_2": {
     "name": "q2_2",
     "points": [
      0,
      0,
      0
     ],
     "suites": [
      {
       "cases": [
        {
         "code": ">>> # Check your column labels and spelling\n>>> recent_poverty_total.labels == ('geo', 'poverty_percent', 'population_total', 'poverty_total')\nTrue",
         "hidden": false,
         "locked": false
        },
        {
         "code": ">>> # Careful, the population of Australia in 2010 was 22,154,687\n>>> float(recent_poverty_total.where('geo', 'aus').column(2).item(0)) == 22154687\nTrue",
         "hidden": false,
         "locked": false
        },
        {
         "code": ">>> # The number of people estimated to be living in extreme poverty\n>>> # in Australia should be 301,304. That's 22,154,687 * 0.0136\n>>> # rounded to the nearest integer.\n>>> float(recent_poverty_total.where('geo', 'aus').column(3).item(0)) == 301304\nTrue",
         "hidden": false,
         "locked": false
        }
       ],
       "scored": true,
       "setup": "",
       "teardown": "",
       "type": "doctest"
      }
     ]
    },
    "q2_3": {
     "name": "q2_3",
     "points": [
      0
     ],
     "suites": [
      {
       "cases": [
        {
         "code": ">>> 10 <= poverty_percent <= 20\nTrue",
         "hidden": false,
         "locked": false
        }
       ],
       "scored": true,
       "setup": "",
       "teardown": "",
       "type": "doctest"
      }
     ]
    },
    "q2_4": {
     "name": "q2_4",
     "points": [
      0,
      0
     ],
     "suites": [
      {
       "cases": [
        {
         "code": ">>> # Check your column labels and spelling\n>>> poverty_map.labels == ('latitude', 'longitude', 'name', 'region', 'poverty_total')\nTrue",
         "hidden": false,
         "locked": false
        },
        {
         "code": ">>> # Something is wrong with your region column.\n>>> list(np.sort(np.unique(poverty_map.column('region'))))\n['africa', 'americas', 'asia', 'europe']",
         "hidden": false,
         "locked": false
        }
       ],
       "scored": true,
       "setup": "",
       "teardown": "",
       "type": "doctest"
      }
     ]
    },
    "q2_5": {
     "name": "q2_5",
     "points": [
      0,
      0,
      0
     ],
     "suites": [
      {
       "cases": [
        {
         "code": ">>> # Check your column labels and spelling\n>>> largest.labels == ('name', 'poverty_total')\nTrue",
         "hidden": false,
         "locked": false
        },
        {
         "code": ">>> # India is the country with the largest number of people living\n>>> # in extreme poverty.\n>>> largest.column(0).item(0)\n'India'",
         "hidden": false,
         "locked": false
        },
        {
         "code": ">>> # The table should contain exactly 10 rows.\n>>> largest.num_rows\n10",
         "hidden": false,
         "locked": false
        }
       ],
       "scored": true,
       "setup": "",
       "teardown": "",
       "type": "doctest"
      }
     ]
    }
   }
  }
 },
 "nbformat": 4,
 "nbformat_minor": 5
}
